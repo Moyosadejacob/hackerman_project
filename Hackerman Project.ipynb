{
 "cells": [
  {
   "cell_type": "markdown",
   "id": "651adbd6",
   "metadata": {},
   "source": [
    "<div style = \"text-align: left\"><font size = 6 color = \"#00008B\" face = \"verdana\"><b>Datahackerman Final Project</b></font></div>\n",
    "<div style = \"text-align: leftt\"><font><i>By 'Moyosade Jacob</i></font></div>\n",
    "<div style = \"text-align: leftt\"><font>7th April 2023</font></div>"
   ]
  },
  {
   "cell_type": "code",
   "execution_count": 2,
   "id": "e8dd785e",
   "metadata": {},
   "outputs": [
    {
     "data": {
      "text/html": [
       "<style>.container { width:100% !important; }</style>"
      ],
      "text/plain": [
       "<IPython.core.display.HTML object>"
      ]
     },
     "metadata": {},
     "output_type": "display_data"
    }
   ],
   "source": [
    "import pandas as pd\n",
    "import requests\n",
    "import json\n",
    "pd.set_option(\"display.max_columns\", None)\n",
    "pd.set_option(\"display.max_rows\", None)\n",
    "pd.options.display.max_colwidth = None\n",
    "pd.set_option(\"display.float_format\", lambda x: '%.2f' % x)\n",
    "\n",
    "from IPython.display import display, HTML\n",
    "display(HTML(\"<style>.container { width:100% !important; }</style>\"))"
   ]
  },
  {
   "cell_type": "code",
   "execution_count": 3,
   "id": "f0cc20c7",
   "metadata": {},
   "outputs": [],
   "source": [
    "book_url = \"https://anapioficeandfire.com/api/books\"\n",
    "book = requests.get(book_url)"
   ]
  },
  {
   "cell_type": "code",
   "execution_count": 4,
   "id": "b3d4901c",
   "metadata": {},
   "outputs": [
    {
     "data": {
      "text/plain": [
       "200"
      ]
     },
     "execution_count": 4,
     "metadata": {},
     "output_type": "execute_result"
    }
   ],
   "source": [
    "book.status_code"
   ]
  },
  {
   "cell_type": "code",
   "execution_count": 5,
   "id": "a2269ac3",
   "metadata": {},
   "outputs": [],
   "source": [
    "# book.json()"
   ]
  },
  {
   "cell_type": "code",
   "execution_count": 6,
   "id": "ebc0aaf7",
   "metadata": {},
   "outputs": [],
   "source": [
    "book_data = pd.DataFrame(book.json())"
   ]
  },
  {
   "cell_type": "code",
   "execution_count": 7,
   "id": "64e36048",
   "metadata": {},
   "outputs": [
    {
     "data": {
      "text/html": [
       "<div>\n",
       "<style scoped>\n",
       "    .dataframe tbody tr th:only-of-type {\n",
       "        vertical-align: middle;\n",
       "    }\n",
       "\n",
       "    .dataframe tbody tr th {\n",
       "        vertical-align: top;\n",
       "    }\n",
       "\n",
       "    .dataframe thead th {\n",
       "        text-align: right;\n",
       "    }\n",
       "</style>\n",
       "<table border=\"1\" class=\"dataframe\">\n",
       "  <thead>\n",
       "    <tr style=\"text-align: right;\">\n",
       "      <th></th>\n",
       "      <th>url</th>\n",
       "      <th>name</th>\n",
       "      <th>isbn</th>\n",
       "      <th>authors</th>\n",
       "      <th>numberOfPages</th>\n",
       "      <th>publisher</th>\n",
       "      <th>country</th>\n",
       "      <th>mediaType</th>\n",
       "      <th>released</th>\n",
       "      <th>characters</th>\n",
       "      <th>povCharacters</th>\n",
       "    </tr>\n",
       "  </thead>\n",
       "  <tbody>\n",
       "    <tr>\n",
       "      <th>0</th>\n",
       "      <td>https://anapioficeandfire.com/api/books/1</td>\n",
       "      <td>A Game of Thrones</td>\n",
       "      <td>978-0553103540</td>\n",
       "      <td>[George R. R. Martin]</td>\n",
       "      <td>694</td>\n",
       "      <td>Bantam Books</td>\n",
       "      <td>United States</td>\n",
       "      <td>Hardcover</td>\n",
       "      <td>1996-08-01T00:00:00</td>\n",
       "      <td>[https://anapioficeandfire.com/api/characters/2, https://anapioficeandfire.com/api/characters/12, https://anapioficeandfire.com/api/characters/13, https://anapioficeandfire.com/api/characters/16, https://anapioficeandfire.com/api/characters/20, https://anapioficeandfire.com/api/characters/27, https://anapioficeandfire.com/api/characters/31, https://anapioficeandfire.com/api/characters/38, https://anapioficeandfire.com/api/characters/39, https://anapioficeandfire.com/api/characters/40, https://anapioficeandfire.com/api/characters/41, https://anapioficeandfire.com/api/characters/42, https://anapioficeandfire.com/api/characters/46, https://anapioficeandfire.com/api/characters/54, https://anapioficeandfire.com/api/characters/56, https://anapioficeandfire.com/api/characters/57, https://anapioficeandfire.com/api/characters/60, https://anapioficeandfire.com/api/characters/61, https://anapioficeandfire.com/api/characters/62, https://anapioficeandfire.com/api/characters/66, https://anapioficeandfire.com/api/characters/67, https://anapioficeandfire.com/api/characters/69, https://anapioficeandfire.com/api/characters/79, https://anapioficeandfire.com/api/characters/89, https://anapioficeandfire.com/api/characters/107, https://anapioficeandfire.com/api/characters/115, https://anapioficeandfire.com/api/characters/116, https://anapioficeandfire.com/api/characters/120, https://anapioficeandfire.com/api/characters/125, https://anapioficeandfire.com/api/characters/128, https://anapioficeandfire.com/api/characters/129, https://anapioficeandfire.com/api/characters/130, https://anapioficeandfire.com/api/characters/135, https://anapioficeandfire.com/api/characters/137, https://anapioficeandfire.com/api/characters/142, https://anapioficeandfire.com/api/characters/147, https://anapioficeandfire.com/api/characters/149, https://anapioficeandfire.com/api/characters/150, https://anapioficeandfire.com/api/characters/151, https://anapioficeandfire.com/api/characters/160, https://anapioficeandfire.com/api/characters/164, https://anapioficeandfire.com/api/characters/168, https://anapioficeandfire.com/api/characters/171, https://anapioficeandfire.com/api/characters/181, https://anapioficeandfire.com/api/characters/190, https://anapioficeandfire.com/api/characters/194, https://anapioficeandfire.com/api/characters/198, https://anapioficeandfire.com/api/characters/202, https://anapioficeandfire.com/api/characters/203, https://anapioficeandfire.com/api/characters/206, https://anapioficeandfire.com/api/characters/209, https://anapioficeandfire.com/api/characters/211, https://anapioficeandfire.com/api/characters/213, https://anapioficeandfire.com/api/characters/217, https://anapioficeandfire.com/api/characters/220, https://anapioficeandfire.com/api/characters/223, https://anapioficeandfire.com/api/characters/225, https://anapioficeandfire.com/api/characters/235, https://anapioficeandfire.com/api/characters/238, https://anapioficeandfire.com/api/characters/245, https://anapioficeandfire.com/api/characters/259, https://anapioficeandfire.com/api/characters/264, https://anapioficeandfire.com/api/characters/273, https://anapioficeandfire.com/api/characters/274, https://anapioficeandfire.com/api/characters/291, https://anapioficeandfire.com/api/characters/292, https://anapioficeandfire.com/api/characters/293, https://anapioficeandfire.com/api/characters/294, https://anapioficeandfire.com/api/characters/303, https://anapioficeandfire.com/api/characters/306, https://anapioficeandfire.com/api/characters/313, https://anapioficeandfire.com/api/characters/315, https://anapioficeandfire.com/api/characters/325, https://anapioficeandfire.com/api/characters/326, https://anapioficeandfire.com/api/characters/327, https://anapioficeandfire.com/api/characters/338, https://anapioficeandfire.com/api/characters/346, https://anapioficeandfire.com/api/characters/347, https://anapioficeandfire.com/api/characters/348, https://anapioficeandfire.com/api/characters/361, https://anapioficeandfire.com/api/characters/368, https://anapioficeandfire.com/api/characters/377, https://anapioficeandfire.com/api/characters/379, https://anapioficeandfire.com/api/characters/380, https://anapioficeandfire.com/api/characters/384, https://anapioficeandfire.com/api/characters/385, https://anapioficeandfire.com/api/characters/393, https://anapioficeandfire.com/api/characters/394, https://anapioficeandfire.com/api/characters/397, https://anapioficeandfire.com/api/characters/400, https://anapioficeandfire.com/api/characters/401, https://anapioficeandfire.com/api/characters/405, https://anapioficeandfire.com/api/characters/408, https://anapioficeandfire.com/api/characters/413, https://anapioficeandfire.com/api/characters/415, https://anapioficeandfire.com/api/characters/418, https://anapioficeandfire.com/api/characters/421, https://anapioficeandfire.com/api/characters/427, https://anapioficeandfire.com/api/characters/435, https://anapioficeandfire.com/api/characters/439, ...]</td>\n",
       "      <td>[https://anapioficeandfire.com/api/characters/148, https://anapioficeandfire.com/api/characters/208, https://anapioficeandfire.com/api/characters/232, https://anapioficeandfire.com/api/characters/339, https://anapioficeandfire.com/api/characters/583, https://anapioficeandfire.com/api/characters/957, https://anapioficeandfire.com/api/characters/1052, https://anapioficeandfire.com/api/characters/1109, https://anapioficeandfire.com/api/characters/1303]</td>\n",
       "    </tr>\n",
       "  </tbody>\n",
       "</table>\n",
       "</div>"
      ],
      "text/plain": [
       "                                         url               name  \\\n",
       "0  https://anapioficeandfire.com/api/books/1  A Game of Thrones   \n",
       "\n",
       "             isbn                authors  numberOfPages     publisher  \\\n",
       "0  978-0553103540  [George R. R. Martin]            694  Bantam Books   \n",
       "\n",
       "         country  mediaType             released  \\\n",
       "0  United States  Hardcover  1996-08-01T00:00:00   \n",
       "\n",
       "                                                                                                                                                                                                                                                                                                                                                                                                                                                                                                                                                                                                                                                                                                                                                                                                                                                                                                                                                                                                                                                                                                                                                                                                                                                                                                                                                                                                                                                                                                                                                                                                                                                                                                                                                                                                                                                                                                                                                                                                                                                                                                                                                                                                                                                                                                                                                                                                                                                                                                                                                                                                                                                                                                                                                                                                                                                                                                                                                                                                                                                                                                                                                                                                                                                                                                                                                                                                                                                                                                                                                                                                                                                                                                                                                                                                                                                                                                                                                                                                                                                                                                                                                                                                                                                                                                                                                                                                                                                                                                                                                                                                                                                                                                                                                                                                                                                                                                                                                                                                                                                                                                                                                                             characters  \\\n",
       "0  [https://anapioficeandfire.com/api/characters/2, https://anapioficeandfire.com/api/characters/12, https://anapioficeandfire.com/api/characters/13, https://anapioficeandfire.com/api/characters/16, https://anapioficeandfire.com/api/characters/20, https://anapioficeandfire.com/api/characters/27, https://anapioficeandfire.com/api/characters/31, https://anapioficeandfire.com/api/characters/38, https://anapioficeandfire.com/api/characters/39, https://anapioficeandfire.com/api/characters/40, https://anapioficeandfire.com/api/characters/41, https://anapioficeandfire.com/api/characters/42, https://anapioficeandfire.com/api/characters/46, https://anapioficeandfire.com/api/characters/54, https://anapioficeandfire.com/api/characters/56, https://anapioficeandfire.com/api/characters/57, https://anapioficeandfire.com/api/characters/60, https://anapioficeandfire.com/api/characters/61, https://anapioficeandfire.com/api/characters/62, https://anapioficeandfire.com/api/characters/66, https://anapioficeandfire.com/api/characters/67, https://anapioficeandfire.com/api/characters/69, https://anapioficeandfire.com/api/characters/79, https://anapioficeandfire.com/api/characters/89, https://anapioficeandfire.com/api/characters/107, https://anapioficeandfire.com/api/characters/115, https://anapioficeandfire.com/api/characters/116, https://anapioficeandfire.com/api/characters/120, https://anapioficeandfire.com/api/characters/125, https://anapioficeandfire.com/api/characters/128, https://anapioficeandfire.com/api/characters/129, https://anapioficeandfire.com/api/characters/130, https://anapioficeandfire.com/api/characters/135, https://anapioficeandfire.com/api/characters/137, https://anapioficeandfire.com/api/characters/142, https://anapioficeandfire.com/api/characters/147, https://anapioficeandfire.com/api/characters/149, https://anapioficeandfire.com/api/characters/150, https://anapioficeandfire.com/api/characters/151, https://anapioficeandfire.com/api/characters/160, https://anapioficeandfire.com/api/characters/164, https://anapioficeandfire.com/api/characters/168, https://anapioficeandfire.com/api/characters/171, https://anapioficeandfire.com/api/characters/181, https://anapioficeandfire.com/api/characters/190, https://anapioficeandfire.com/api/characters/194, https://anapioficeandfire.com/api/characters/198, https://anapioficeandfire.com/api/characters/202, https://anapioficeandfire.com/api/characters/203, https://anapioficeandfire.com/api/characters/206, https://anapioficeandfire.com/api/characters/209, https://anapioficeandfire.com/api/characters/211, https://anapioficeandfire.com/api/characters/213, https://anapioficeandfire.com/api/characters/217, https://anapioficeandfire.com/api/characters/220, https://anapioficeandfire.com/api/characters/223, https://anapioficeandfire.com/api/characters/225, https://anapioficeandfire.com/api/characters/235, https://anapioficeandfire.com/api/characters/238, https://anapioficeandfire.com/api/characters/245, https://anapioficeandfire.com/api/characters/259, https://anapioficeandfire.com/api/characters/264, https://anapioficeandfire.com/api/characters/273, https://anapioficeandfire.com/api/characters/274, https://anapioficeandfire.com/api/characters/291, https://anapioficeandfire.com/api/characters/292, https://anapioficeandfire.com/api/characters/293, https://anapioficeandfire.com/api/characters/294, https://anapioficeandfire.com/api/characters/303, https://anapioficeandfire.com/api/characters/306, https://anapioficeandfire.com/api/characters/313, https://anapioficeandfire.com/api/characters/315, https://anapioficeandfire.com/api/characters/325, https://anapioficeandfire.com/api/characters/326, https://anapioficeandfire.com/api/characters/327, https://anapioficeandfire.com/api/characters/338, https://anapioficeandfire.com/api/characters/346, https://anapioficeandfire.com/api/characters/347, https://anapioficeandfire.com/api/characters/348, https://anapioficeandfire.com/api/characters/361, https://anapioficeandfire.com/api/characters/368, https://anapioficeandfire.com/api/characters/377, https://anapioficeandfire.com/api/characters/379, https://anapioficeandfire.com/api/characters/380, https://anapioficeandfire.com/api/characters/384, https://anapioficeandfire.com/api/characters/385, https://anapioficeandfire.com/api/characters/393, https://anapioficeandfire.com/api/characters/394, https://anapioficeandfire.com/api/characters/397, https://anapioficeandfire.com/api/characters/400, https://anapioficeandfire.com/api/characters/401, https://anapioficeandfire.com/api/characters/405, https://anapioficeandfire.com/api/characters/408, https://anapioficeandfire.com/api/characters/413, https://anapioficeandfire.com/api/characters/415, https://anapioficeandfire.com/api/characters/418, https://anapioficeandfire.com/api/characters/421, https://anapioficeandfire.com/api/characters/427, https://anapioficeandfire.com/api/characters/435, https://anapioficeandfire.com/api/characters/439, ...]   \n",
       "\n",
       "                                                                                                                                                                                                                                                                                                                                                                                                                                                           povCharacters  \n",
       "0  [https://anapioficeandfire.com/api/characters/148, https://anapioficeandfire.com/api/characters/208, https://anapioficeandfire.com/api/characters/232, https://anapioficeandfire.com/api/characters/339, https://anapioficeandfire.com/api/characters/583, https://anapioficeandfire.com/api/characters/957, https://anapioficeandfire.com/api/characters/1052, https://anapioficeandfire.com/api/characters/1109, https://anapioficeandfire.com/api/characters/1303]  "
      ]
     },
     "execution_count": 7,
     "metadata": {},
     "output_type": "execute_result"
    }
   ],
   "source": [
    "book_data.head(1)"
   ]
  },
  {
   "cell_type": "markdown",
   "id": "45401698",
   "metadata": {},
   "source": [
    "### How many books can be accessed from this API?"
   ]
  },
  {
   "cell_type": "code",
   "execution_count": 8,
   "id": "b9294c6e",
   "metadata": {},
   "outputs": [
    {
     "name": "stdout",
     "output_type": "stream",
     "text": [
      "Performing requesting...\n",
      "10\n",
      "Performing requesting...\n",
      "2\n"
     ]
    }
   ],
   "source": [
    "base_url = 'https://www.anapioficeandfire.com/api/books'\n",
    "books = []\n",
    "\n",
    "# The API returns 50 records per page, so we need to keep fetching until we get all records\n",
    "while True:\n",
    "    response = requests.get(base_url)\n",
    "    if response.status_code != 200:\n",
    "        print('Failed to retrieve data')\n",
    "        break\n",
    "    print(\"Performing requesting...\")\n",
    "    results = response.json()\n",
    "    print(len(results))\n",
    "    books.extend(results)\n",
    "    next_url = response.headers.get('Link')\n",
    "    if not next_url or 'rel=\"next\"' not in next_url:\n",
    "        break\n",
    "    next_url = next_url.split(';')[0][1:-1]\n",
    "    base_url = next_url"
   ]
  },
  {
   "cell_type": "code",
   "execution_count": 9,
   "id": "b5401886",
   "metadata": {},
   "outputs": [],
   "source": [
    "character_url = \"https://anapioficeandfire.com/api/characters\"\n",
    "character = requests.get(character_url)"
   ]
  },
  {
   "cell_type": "code",
   "execution_count": 10,
   "id": "bea820a4",
   "metadata": {},
   "outputs": [
    {
     "data": {
      "text/plain": [
       "200"
      ]
     },
     "execution_count": 10,
     "metadata": {},
     "output_type": "execute_result"
    }
   ],
   "source": [
    "character.status_code"
   ]
  },
  {
   "cell_type": "code",
   "execution_count": 11,
   "id": "455967dd",
   "metadata": {},
   "outputs": [],
   "source": [
    " # character.json()"
   ]
  },
  {
   "cell_type": "code",
   "execution_count": 12,
   "id": "6d8d0c7b",
   "metadata": {},
   "outputs": [],
   "source": [
    "character_data = pd.DataFrame(character.json())"
   ]
  },
  {
   "cell_type": "code",
   "execution_count": 13,
   "id": "a77994d6",
   "metadata": {},
   "outputs": [
    {
     "data": {
      "text/html": [
       "<div>\n",
       "<style scoped>\n",
       "    .dataframe tbody tr th:only-of-type {\n",
       "        vertical-align: middle;\n",
       "    }\n",
       "\n",
       "    .dataframe tbody tr th {\n",
       "        vertical-align: top;\n",
       "    }\n",
       "\n",
       "    .dataframe thead th {\n",
       "        text-align: right;\n",
       "    }\n",
       "</style>\n",
       "<table border=\"1\" class=\"dataframe\">\n",
       "  <thead>\n",
       "    <tr style=\"text-align: right;\">\n",
       "      <th></th>\n",
       "      <th>url</th>\n",
       "      <th>name</th>\n",
       "      <th>gender</th>\n",
       "      <th>culture</th>\n",
       "      <th>born</th>\n",
       "      <th>died</th>\n",
       "      <th>titles</th>\n",
       "      <th>aliases</th>\n",
       "      <th>father</th>\n",
       "      <th>mother</th>\n",
       "      <th>spouse</th>\n",
       "      <th>allegiances</th>\n",
       "      <th>books</th>\n",
       "      <th>povBooks</th>\n",
       "      <th>tvSeries</th>\n",
       "      <th>playedBy</th>\n",
       "    </tr>\n",
       "  </thead>\n",
       "  <tbody>\n",
       "    <tr>\n",
       "      <th>0</th>\n",
       "      <td>https://anapioficeandfire.com/api/characters/1</td>\n",
       "      <td></td>\n",
       "      <td>Female</td>\n",
       "      <td>Braavosi</td>\n",
       "      <td></td>\n",
       "      <td></td>\n",
       "      <td>[]</td>\n",
       "      <td>[The Daughter of the Dusk]</td>\n",
       "      <td></td>\n",
       "      <td></td>\n",
       "      <td></td>\n",
       "      <td>[]</td>\n",
       "      <td>[https://anapioficeandfire.com/api/books/5]</td>\n",
       "      <td>[]</td>\n",
       "      <td>[]</td>\n",
       "      <td>[]</td>\n",
       "    </tr>\n",
       "  </tbody>\n",
       "</table>\n",
       "</div>"
      ],
      "text/plain": [
       "                                              url name  gender   culture born  \\\n",
       "0  https://anapioficeandfire.com/api/characters/1       Female  Braavosi        \n",
       "\n",
       "  died titles                     aliases father mother spouse allegiances  \\\n",
       "0          []  [The Daughter of the Dusk]                               []   \n",
       "\n",
       "                                         books povBooks tvSeries playedBy  \n",
       "0  [https://anapioficeandfire.com/api/books/5]       []       []       []  "
      ]
     },
     "execution_count": 13,
     "metadata": {},
     "output_type": "execute_result"
    }
   ],
   "source": [
    "character_data.head(1)"
   ]
  },
  {
   "cell_type": "markdown",
   "id": "109697f2",
   "metadata": {},
   "source": [
    "## How many males, females and unknown genders are there in the first 40 "
   ]
  },
  {
   "cell_type": "code",
   "execution_count": 14,
   "id": "de2661d5",
   "metadata": {},
   "outputs": [],
   "source": [
    "def get_character_genders():\n",
    "    url = \"http://anapioficeandfire.com/api/characters/?page=1&pageSize=40\"\n",
    "    response = requests.get(url)\n",
    "    data = response.json()\n",
    "    genders = [char['gender'] for char in data[1:]]\n",
    "    counts = pd.Series(genders).value_counts()\n",
    "    return counts"
   ]
  },
  {
   "cell_type": "code",
   "execution_count": 15,
   "id": "c1750662",
   "metadata": {},
   "outputs": [
    {
     "name": "stdout",
     "output_type": "stream",
     "text": [
      "Male      26\n",
      "Female    13\n",
      "dtype: int64\n"
     ]
    }
   ],
   "source": [
    "counts = get_character_genders()\n",
    "print(counts)"
   ]
  },
  {
   "cell_type": "code",
   "execution_count": 16,
   "id": "78fd3a35",
   "metadata": {},
   "outputs": [
    {
     "data": {
      "text/plain": [
       "10"
      ]
     },
     "execution_count": 16,
     "metadata": {},
     "output_type": "execute_result"
    }
   ],
   "source": [
    "len(character_data)"
   ]
  },
  {
   "cell_type": "code",
   "execution_count": 17,
   "id": "7e9c74ca",
   "metadata": {},
   "outputs": [],
   "source": [
    "houses_url = \"https://anapioficeandfire.com/api/houses\"\n",
    "houses_result = requests.get(houses_url)"
   ]
  },
  {
   "cell_type": "code",
   "execution_count": 18,
   "id": "9a9710f2",
   "metadata": {},
   "outputs": [],
   "source": [
    "houses_data = pd.DataFrame(houses_result.json())"
   ]
  },
  {
   "cell_type": "code",
   "execution_count": 19,
   "id": "3620fe4e",
   "metadata": {},
   "outputs": [
    {
     "data": {
      "text/html": [
       "<div>\n",
       "<style scoped>\n",
       "    .dataframe tbody tr th:only-of-type {\n",
       "        vertical-align: middle;\n",
       "    }\n",
       "\n",
       "    .dataframe tbody tr th {\n",
       "        vertical-align: top;\n",
       "    }\n",
       "\n",
       "    .dataframe thead th {\n",
       "        text-align: right;\n",
       "    }\n",
       "</style>\n",
       "<table border=\"1\" class=\"dataframe\">\n",
       "  <thead>\n",
       "    <tr style=\"text-align: right;\">\n",
       "      <th></th>\n",
       "      <th>url</th>\n",
       "      <th>name</th>\n",
       "      <th>region</th>\n",
       "      <th>coatOfArms</th>\n",
       "      <th>words</th>\n",
       "      <th>titles</th>\n",
       "      <th>seats</th>\n",
       "      <th>currentLord</th>\n",
       "      <th>heir</th>\n",
       "      <th>overlord</th>\n",
       "      <th>founded</th>\n",
       "      <th>founder</th>\n",
       "      <th>diedOut</th>\n",
       "      <th>ancestralWeapons</th>\n",
       "      <th>cadetBranches</th>\n",
       "      <th>swornMembers</th>\n",
       "    </tr>\n",
       "  </thead>\n",
       "  <tbody>\n",
       "    <tr>\n",
       "      <th>0</th>\n",
       "      <td>https://anapioficeandfire.com/api/houses/1</td>\n",
       "      <td>House Algood</td>\n",
       "      <td>The Westerlands</td>\n",
       "      <td>A golden wreath, on a blue field with a gold border(Azure, a garland of laurel within a bordure or)</td>\n",
       "      <td></td>\n",
       "      <td>[]</td>\n",
       "      <td>[]</td>\n",
       "      <td></td>\n",
       "      <td></td>\n",
       "      <td>https://anapioficeandfire.com/api/houses/229</td>\n",
       "      <td></td>\n",
       "      <td></td>\n",
       "      <td></td>\n",
       "      <td>[]</td>\n",
       "      <td>[]</td>\n",
       "      <td>[]</td>\n",
       "    </tr>\n",
       "  </tbody>\n",
       "</table>\n",
       "</div>"
      ],
      "text/plain": [
       "                                          url          name           region  \\\n",
       "0  https://anapioficeandfire.com/api/houses/1  House Algood  The Westerlands   \n",
       "\n",
       "                                                                                            coatOfArms  \\\n",
       "0  A golden wreath, on a blue field with a gold border(Azure, a garland of laurel within a bordure or)   \n",
       "\n",
       "  words titles seats currentLord heir  \\\n",
       "0           []    []                    \n",
       "\n",
       "                                       overlord founded founder diedOut  \\\n",
       "0  https://anapioficeandfire.com/api/houses/229                           \n",
       "\n",
       "  ancestralWeapons cadetBranches swornMembers  \n",
       "0               []            []           []  "
      ]
     },
     "execution_count": 19,
     "metadata": {},
     "output_type": "execute_result"
    }
   ],
   "source": [
    "houses_data.head(1)"
   ]
  },
  {
   "cell_type": "code",
   "execution_count": 20,
   "id": "96754792",
   "metadata": {},
   "outputs": [],
   "source": [
    "def getting_houses_index(name):\n",
    "    name_param = name={name}\n",
    "    house_url = f\"https://anapioficeandfire.com/api/houses/?name_param\"\n",
    "    url_response = requests.get(house_url)\n",
    "    final_data = url_response.json()\n",
    "    outcome_index = final_data[0]['url'].split('/')[-1]\n",
    "    return outcome_index"
   ]
  },
  {
   "cell_type": "code",
   "execution_count": 21,
   "id": "1af001ff",
   "metadata": {},
   "outputs": [
    {
     "name": "stdout",
     "output_type": "stream",
     "text": [
      "The index corresponding to the house \"House Breakstone\" is: 1\n"
     ]
    }
   ],
   "source": [
    "print(f'The index corresponding to the house \"House Breakstone\" is: {getting_houses_index(\"House Breakstone\")}')"
   ]
  },
  {
   "cell_type": "code",
   "execution_count": null,
   "id": "63c3a885",
   "metadata": {},
   "outputs": [],
   "source": []
  }
 ],
 "metadata": {
  "kernelspec": {
   "display_name": "Python 3 (ipykernel)",
   "language": "python",
   "name": "python3"
  },
  "language_info": {
   "codemirror_mode": {
    "name": "ipython",
    "version": 3
   },
   "file_extension": ".py",
   "mimetype": "text/x-python",
   "name": "python",
   "nbconvert_exporter": "python",
   "pygments_lexer": "ipython3",
   "version": "3.9.16"
  }
 },
 "nbformat": 4,
 "nbformat_minor": 5
}
