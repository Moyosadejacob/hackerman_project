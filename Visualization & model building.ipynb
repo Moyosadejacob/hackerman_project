{
 "cells": [
  {
   "cell_type": "markdown",
   "id": "e4acc746",
   "metadata": {},
   "source": [
    "<div style = \"text-align: left\"><font size = 6 color = \"#00008B\" face = \"verdana\"><b>Datahackerman Final Project</b></font></div>\n",
    "<div style = \"text-align: leftt\"><font><i>By 'Moyosade Jacob</i></font></div>\n",
    "<div style = \"text-align: leftt\"><font>7th April 2023</font></div>"
   ]
  },
  {
   "cell_type": "code",
   "execution_count": 366,
   "id": "c51a7006",
   "metadata": {},
   "outputs": [
    {
     "data": {
      "text/html": [
       "<style>.container { width:100% !important; }</style>"
      ],
      "text/plain": [
       "<IPython.core.display.HTML object>"
      ]
     },
     "metadata": {},
     "output_type": "display_data"
    }
   ],
   "source": [
    "import pandas as pd\n",
    "import os\n",
    "import requests\n",
    "import json\n",
    "import seaborn as sns\n",
    "import folium\n",
    "import matplotlib.pyplot as plt\n",
    "pd.set_option(\"display.max_columns\", None)\n",
    "pd.set_option(\"display.max_rows\", None)\n",
    "pd.options.display.max_colwidth = None\n",
    "pd.set_option(\"display.float_format\", lambda x: '%.2f' % x)\n",
    "\n",
    "from IPython.display import display, HTML\n",
    "display(HTML(\"<style>.container { width:100% !important; }</style>\"))"
   ]
  },
  {
   "cell_type": "code",
   "execution_count": 297,
   "id": "c82880af",
   "metadata": {},
   "outputs": [],
   "source": [
    "# Main working folder\n",
    "main_folder = os.getcwd()"
   ]
  },
  {
   "cell_type": "code",
   "execution_count": 298,
   "id": "64caafc1",
   "metadata": {},
   "outputs": [],
   "source": [
    "# main Data folder \n",
    "data_folder = \"data\""
   ]
  },
  {
   "cell_type": "code",
   "execution_count": 299,
   "id": "a0312568",
   "metadata": {},
   "outputs": [],
   "source": [
    "# Combining the paths\n",
    "main_path = os.path.join(main_folder, data_folder)"
   ]
  },
  {
   "cell_type": "code",
   "execution_count": 300,
   "id": "e90a80aa",
   "metadata": {},
   "outputs": [],
   "source": [
    "# Getting the data list\n",
    "files_list = os.listdir(main_path)"
   ]
  },
  {
   "cell_type": "code",
   "execution_count": 301,
   "id": "4fb4b186",
   "metadata": {},
   "outputs": [
    {
     "data": {
      "text/plain": [
       "['csv_file.csv', 'json_file.json', 'txt_file.txt']"
      ]
     },
     "execution_count": 301,
     "metadata": {},
     "output_type": "execute_result"
    }
   ],
   "source": [
    "files_list"
   ]
  },
  {
   "cell_type": "code",
   "execution_count": 302,
   "id": "45ed44e5",
   "metadata": {},
   "outputs": [],
   "source": [
    "# Reading csv data file\n",
    "csv_data = pd.read_csv(os.path.join(main_path, files_list[0]))"
   ]
  },
  {
   "cell_type": "code",
   "execution_count": 303,
   "id": "a74af306",
   "metadata": {},
   "outputs": [
    {
     "data": {
      "text/html": [
       "<div>\n",
       "<style scoped>\n",
       "    .dataframe tbody tr th:only-of-type {\n",
       "        vertical-align: middle;\n",
       "    }\n",
       "\n",
       "    .dataframe tbody tr th {\n",
       "        vertical-align: top;\n",
       "    }\n",
       "\n",
       "    .dataframe thead th {\n",
       "        text-align: right;\n",
       "    }\n",
       "</style>\n",
       "<table border=\"1\" class=\"dataframe\">\n",
       "  <thead>\n",
       "    <tr style=\"text-align: right;\">\n",
       "      <th></th>\n",
       "      <th>author.properties.friends</th>\n",
       "      <th>author.properties.status_count</th>\n",
       "      <th>author.properties.verified</th>\n",
       "      <th>content.body</th>\n",
       "      <th>location.country</th>\n",
       "      <th>properties.platform</th>\n",
       "      <th>properties.sentiment</th>\n",
       "      <th>location.latitude</th>\n",
       "      <th>location.longitude</th>\n",
       "    </tr>\n",
       "  </thead>\n",
       "  <tbody>\n",
       "    <tr>\n",
       "      <th>0</th>\n",
       "      <td>1689</td>\n",
       "      <td>22566</td>\n",
       "      <td>False</td>\n",
       "      <td>Can't believe I'm missing Love Island 😩</td>\n",
       "      <td>GB</td>\n",
       "      <td>twitter</td>\n",
       "      <td>1</td>\n",
       "      <td>51.57</td>\n",
       "      <td>0.46</td>\n",
       "    </tr>\n",
       "  </tbody>\n",
       "</table>\n",
       "</div>"
      ],
      "text/plain": [
       "   author.properties.friends  author.properties.status_count  \\\n",
       "0                       1689                           22566   \n",
       "\n",
       "   author.properties.verified                             content.body  \\\n",
       "0                       False  Can't believe I'm missing Love Island 😩   \n",
       "\n",
       "  location.country properties.platform  properties.sentiment  \\\n",
       "0               GB             twitter                     1   \n",
       "\n",
       "   location.latitude  location.longitude  \n",
       "0              51.57                0.46  "
      ]
     },
     "execution_count": 303,
     "metadata": {},
     "output_type": "execute_result"
    }
   ],
   "source": [
    "csv_data.head(1)"
   ]
  },
  {
   "cell_type": "code",
   "execution_count": 304,
   "id": "7f731420",
   "metadata": {},
   "outputs": [
    {
     "data": {
      "text/plain": [
       "(1000, 9)"
      ]
     },
     "execution_count": 304,
     "metadata": {},
     "output_type": "execute_result"
    }
   ],
   "source": [
    "csv_data.shape"
   ]
  },
  {
   "cell_type": "code",
   "execution_count": 305,
   "id": "c52b9c09",
   "metadata": {},
   "outputs": [],
   "source": [
    "# Reading in text data file\n",
    "text_data = pd.read_csv(os.path.join(main_path, files_list[2]), sep=',', header=0)"
   ]
  },
  {
   "cell_type": "code",
   "execution_count": 306,
   "id": "c43af382",
   "metadata": {},
   "outputs": [
    {
     "data": {
      "text/html": [
       "<div>\n",
       "<style scoped>\n",
       "    .dataframe tbody tr th:only-of-type {\n",
       "        vertical-align: middle;\n",
       "    }\n",
       "\n",
       "    .dataframe tbody tr th {\n",
       "        vertical-align: top;\n",
       "    }\n",
       "\n",
       "    .dataframe thead th {\n",
       "        text-align: right;\n",
       "    }\n",
       "</style>\n",
       "<table border=\"1\" class=\"dataframe\">\n",
       "  <thead>\n",
       "    <tr style=\"text-align: right;\">\n",
       "      <th></th>\n",
       "      <th>author.properties.friends</th>\n",
       "      <th>author.properties.verified</th>\n",
       "      <th>location.longitude</th>\n",
       "      <th>author.properties.status_count</th>\n",
       "      <th>properties.sentiment</th>\n",
       "      <th>location.latitude</th>\n",
       "      <th>location.country</th>\n",
       "      <th>content.body</th>\n",
       "      <th>properties.platform</th>\n",
       "    </tr>\n",
       "  </thead>\n",
       "  <tbody>\n",
       "    <tr>\n",
       "      <th>0</th>\n",
       "      <td>632</td>\n",
       "      <td>False</td>\n",
       "      <td>-2.32</td>\n",
       "      <td>106490.00</td>\n",
       "      <td>0.00</td>\n",
       "      <td>52.12</td>\n",
       "      <td>GB</td>\n",
       "      <td>@moel_bryn https://t.co/qvz1bI2Utb</td>\n",
       "      <td>twitter</td>\n",
       "    </tr>\n",
       "  </tbody>\n",
       "</table>\n",
       "</div>"
      ],
      "text/plain": [
       "  author.properties.friends author.properties.verified  location.longitude  \\\n",
       "0                       632                      False               -2.32   \n",
       "\n",
       "   author.properties.status_count  properties.sentiment  location.latitude  \\\n",
       "0                       106490.00                  0.00              52.12   \n",
       "\n",
       "  location.country                        content.body properties.platform  \n",
       "0               GB  @moel_bryn https://t.co/qvz1bI2Utb             twitter  "
      ]
     },
     "execution_count": 306,
     "metadata": {},
     "output_type": "execute_result"
    }
   ],
   "source": [
    "text_data.head(1)"
   ]
  },
  {
   "cell_type": "code",
   "execution_count": 374,
   "id": "36afe9a4",
   "metadata": {},
   "outputs": [],
   "source": [
    "with open(os.path.join(main_path, files_list[1])) as file:\n",
    "    json_data_original = json.load(file)"
   ]
  },
  {
   "cell_type": "code",
   "execution_count": 378,
   "id": "d283b05b",
   "metadata": {},
   "outputs": [],
   "source": [
    "json_data = pd.json_normalize(json_data_original)"
   ]
  },
  {
   "cell_type": "code",
   "execution_count": 379,
   "id": "6ccf941b",
   "metadata": {},
   "outputs": [
    {
     "data": {
      "text/html": [
       "<div>\n",
       "<style scoped>\n",
       "    .dataframe tbody tr th:only-of-type {\n",
       "        vertical-align: middle;\n",
       "    }\n",
       "\n",
       "    .dataframe tbody tr th {\n",
       "        vertical-align: top;\n",
       "    }\n",
       "\n",
       "    .dataframe thead th {\n",
       "        text-align: right;\n",
       "    }\n",
       "</style>\n",
       "<table border=\"1\" class=\"dataframe\">\n",
       "  <thead>\n",
       "    <tr style=\"text-align: right;\">\n",
       "      <th></th>\n",
       "      <th>author.properties.friends</th>\n",
       "      <th>author.properties.verified</th>\n",
       "      <th>author.properties.status_count</th>\n",
       "      <th>location.longitude</th>\n",
       "      <th>location.country</th>\n",
       "      <th>location.latitude</th>\n",
       "      <th>content.body</th>\n",
       "      <th>properties.sentiment</th>\n",
       "      <th>properties.platform</th>\n",
       "    </tr>\n",
       "  </thead>\n",
       "  <tbody>\n",
       "    <tr>\n",
       "      <th>0</th>\n",
       "      <td>150</td>\n",
       "      <td>False</td>\n",
       "      <td>583</td>\n",
       "      <td>-1.45</td>\n",
       "      <td>GB</td>\n",
       "      <td>53.38</td>\n",
       "      <td>To everyone tryin to snapchat me fuck off I'm ugly</td>\n",
       "      <td>-1</td>\n",
       "      <td>twitter</td>\n",
       "    </tr>\n",
       "    <tr>\n",
       "      <th>1</th>\n",
       "      <td>1321</td>\n",
       "      <td>False</td>\n",
       "      <td>86271</td>\n",
       "      <td>-4.20</td>\n",
       "      <td>GB</td>\n",
       "      <td>57.79</td>\n",
       "      <td>@cammiescott have you ever been to Scotland? You should give Nessie a wee visit! (I live near her) #askcamscott</td>\n",
       "      <td>-1</td>\n",
       "      <td>twitter</td>\n",
       "    </tr>\n",
       "    <tr>\n",
       "      <th>2</th>\n",
       "      <td>1952</td>\n",
       "      <td>False</td>\n",
       "      <td>11785</td>\n",
       "      <td>-0.07</td>\n",
       "      <td>GB</td>\n",
       "      <td>51.46</td>\n",
       "      <td>#LoveIsland #zaraholland 😭😭😭😭 https://t.co/LUpQvshkm3</td>\n",
       "      <td>-1</td>\n",
       "      <td>twitter</td>\n",
       "    </tr>\n",
       "    <tr>\n",
       "      <th>3</th>\n",
       "      <td>629</td>\n",
       "      <td>False</td>\n",
       "      <td>22813</td>\n",
       "      <td>-0.17</td>\n",
       "      <td>GB</td>\n",
       "      <td>51.52</td>\n",
       "      <td>😴</td>\n",
       "      <td>0</td>\n",
       "      <td>twitter</td>\n",
       "    </tr>\n",
       "    <tr>\n",
       "      <th>4</th>\n",
       "      <td>509</td>\n",
       "      <td>False</td>\n",
       "      <td>8740</td>\n",
       "      <td>-2.67</td>\n",
       "      <td>GB</td>\n",
       "      <td>53.47</td>\n",
       "      <td>@sickkening Yep you're also that xx</td>\n",
       "      <td>1</td>\n",
       "      <td>twitter</td>\n",
       "    </tr>\n",
       "  </tbody>\n",
       "</table>\n",
       "</div>"
      ],
      "text/plain": [
       "   author.properties.friends  author.properties.verified  \\\n",
       "0                        150                       False   \n",
       "1                       1321                       False   \n",
       "2                       1952                       False   \n",
       "3                        629                       False   \n",
       "4                        509                       False   \n",
       "\n",
       "   author.properties.status_count  location.longitude location.country  \\\n",
       "0                             583               -1.45               GB   \n",
       "1                           86271               -4.20               GB   \n",
       "2                           11785               -0.07               GB   \n",
       "3                           22813               -0.17               GB   \n",
       "4                            8740               -2.67               GB   \n",
       "\n",
       "   location.latitude  \\\n",
       "0              53.38   \n",
       "1              57.79   \n",
       "2              51.46   \n",
       "3              51.52   \n",
       "4              53.47   \n",
       "\n",
       "                                                                                                      content.body  \\\n",
       "0                                                               To everyone tryin to snapchat me fuck off I'm ugly   \n",
       "1  @cammiescott have you ever been to Scotland? You should give Nessie a wee visit! (I live near her) #askcamscott   \n",
       "2                                                            #LoveIsland #zaraholland 😭😭😭😭 https://t.co/LUpQvshkm3   \n",
       "3                                                                                                                😴   \n",
       "4                                                                              @sickkening Yep you're also that xx   \n",
       "\n",
       "   properties.sentiment properties.platform  \n",
       "0                    -1             twitter  \n",
       "1                    -1             twitter  \n",
       "2                    -1             twitter  \n",
       "3                     0             twitter  \n",
       "4                     1             twitter  "
      ]
     },
     "execution_count": 379,
     "metadata": {},
     "output_type": "execute_result"
    }
   ],
   "source": [
    "json_data.head()"
   ]
  },
  {
   "cell_type": "markdown",
   "id": "a350c358",
   "metadata": {},
   "source": [
    "### combine the dataFrame"
   ]
  },
  {
   "cell_type": "code",
   "execution_count": 380,
   "id": "aed5fc90",
   "metadata": {},
   "outputs": [],
   "source": [
    "csv_text_data = pd.concat([csv_data, text_data]).reset_index(drop=True)"
   ]
  },
  {
   "cell_type": "code",
   "execution_count": 381,
   "id": "43ec457d",
   "metadata": {},
   "outputs": [
    {
     "data": {
      "text/plain": [
       "2000"
      ]
     },
     "execution_count": 381,
     "metadata": {},
     "output_type": "execute_result"
    }
   ],
   "source": [
    "len(csv_text_data )"
   ]
  },
  {
   "cell_type": "code",
   "execution_count": 382,
   "id": "3ac860ab",
   "metadata": {},
   "outputs": [
    {
     "data": {
      "text/html": [
       "<div>\n",
       "<style scoped>\n",
       "    .dataframe tbody tr th:only-of-type {\n",
       "        vertical-align: middle;\n",
       "    }\n",
       "\n",
       "    .dataframe tbody tr th {\n",
       "        vertical-align: top;\n",
       "    }\n",
       "\n",
       "    .dataframe thead th {\n",
       "        text-align: right;\n",
       "    }\n",
       "</style>\n",
       "<table border=\"1\" class=\"dataframe\">\n",
       "  <thead>\n",
       "    <tr style=\"text-align: right;\">\n",
       "      <th></th>\n",
       "      <th>author.properties.friends</th>\n",
       "      <th>author.properties.status_count</th>\n",
       "      <th>author.properties.verified</th>\n",
       "      <th>content.body</th>\n",
       "      <th>location.country</th>\n",
       "      <th>properties.platform</th>\n",
       "      <th>properties.sentiment</th>\n",
       "      <th>location.latitude</th>\n",
       "      <th>location.longitude</th>\n",
       "    </tr>\n",
       "  </thead>\n",
       "  <tbody>\n",
       "    <tr>\n",
       "      <th>0</th>\n",
       "      <td>1689</td>\n",
       "      <td>22566.00</td>\n",
       "      <td>False</td>\n",
       "      <td>Can't believe I'm missing Love Island 😩</td>\n",
       "      <td>GB</td>\n",
       "      <td>twitter</td>\n",
       "      <td>1.00</td>\n",
       "      <td>51.57</td>\n",
       "      <td>0.46</td>\n",
       "    </tr>\n",
       "  </tbody>\n",
       "</table>\n",
       "</div>"
      ],
      "text/plain": [
       "  author.properties.friends  author.properties.status_count  \\\n",
       "0                      1689                        22566.00   \n",
       "\n",
       "  author.properties.verified                             content.body  \\\n",
       "0                      False  Can't believe I'm missing Love Island 😩   \n",
       "\n",
       "  location.country properties.platform  properties.sentiment  \\\n",
       "0               GB             twitter                  1.00   \n",
       "\n",
       "   location.latitude  location.longitude  \n",
       "0              51.57                0.46  "
      ]
     },
     "execution_count": 382,
     "metadata": {},
     "output_type": "execute_result"
    }
   ],
   "source": [
    "csv_text_data.head(1)"
   ]
  },
  {
   "cell_type": "code",
   "execution_count": 383,
   "id": "cb1452f2",
   "metadata": {},
   "outputs": [
    {
     "data": {
      "text/plain": [
       "(2000, 9)"
      ]
     },
     "execution_count": 383,
     "metadata": {},
     "output_type": "execute_result"
    }
   ],
   "source": [
    "csv_text_data.shape"
   ]
  },
  {
   "cell_type": "code",
   "execution_count": 384,
   "id": "cba55bb1",
   "metadata": {},
   "outputs": [],
   "source": [
    "csv_text_json_data = pd.concat([csv_text_data, json_data]).reset_index(drop=True)"
   ]
  },
  {
   "cell_type": "code",
   "execution_count": 385,
   "id": "6897d632",
   "metadata": {},
   "outputs": [
    {
     "data": {
      "text/plain": [
       "3000"
      ]
     },
     "execution_count": 385,
     "metadata": {},
     "output_type": "execute_result"
    }
   ],
   "source": [
    "len(csv_text_json_data)"
   ]
  },
  {
   "cell_type": "code",
   "execution_count": 386,
   "id": "d7b44017",
   "metadata": {
    "scrolled": true
   },
   "outputs": [
    {
     "data": {
      "text/html": [
       "<div>\n",
       "<style scoped>\n",
       "    .dataframe tbody tr th:only-of-type {\n",
       "        vertical-align: middle;\n",
       "    }\n",
       "\n",
       "    .dataframe tbody tr th {\n",
       "        vertical-align: top;\n",
       "    }\n",
       "\n",
       "    .dataframe thead th {\n",
       "        text-align: right;\n",
       "    }\n",
       "</style>\n",
       "<table border=\"1\" class=\"dataframe\">\n",
       "  <thead>\n",
       "    <tr style=\"text-align: right;\">\n",
       "      <th></th>\n",
       "      <th>author.properties.friends</th>\n",
       "      <th>author.properties.status_count</th>\n",
       "      <th>author.properties.verified</th>\n",
       "      <th>content.body</th>\n",
       "      <th>location.country</th>\n",
       "      <th>properties.platform</th>\n",
       "      <th>properties.sentiment</th>\n",
       "      <th>location.latitude</th>\n",
       "      <th>location.longitude</th>\n",
       "    </tr>\n",
       "  </thead>\n",
       "  <tbody>\n",
       "    <tr>\n",
       "      <th>0</th>\n",
       "      <td>1689</td>\n",
       "      <td>22566.00</td>\n",
       "      <td>False</td>\n",
       "      <td>Can't believe I'm missing Love Island 😩</td>\n",
       "      <td>GB</td>\n",
       "      <td>twitter</td>\n",
       "      <td>1.00</td>\n",
       "      <td>51.57</td>\n",
       "      <td>0.46</td>\n",
       "    </tr>\n",
       "    <tr>\n",
       "      <th>1</th>\n",
       "      <td>114</td>\n",
       "      <td>1377.00</td>\n",
       "      <td>False</td>\n",
       "      <td>Last tweet about future wedding..... if I actually want a wedding I actually need to find a guy XD we all know I'm a loner. unlovable</td>\n",
       "      <td>GB</td>\n",
       "      <td>twitter</td>\n",
       "      <td>1.00</td>\n",
       "      <td>52.97</td>\n",
       "      <td>-1.17</td>\n",
       "    </tr>\n",
       "    <tr>\n",
       "      <th>2</th>\n",
       "      <td>568</td>\n",
       "      <td>8375.00</td>\n",
       "      <td>False</td>\n",
       "      <td>How many times does he wonna say the phrase \"i deal with shit\" #LoveIsland</td>\n",
       "      <td>GB</td>\n",
       "      <td>twitter</td>\n",
       "      <td>-1.00</td>\n",
       "      <td>51.39</td>\n",
       "      <td>0.03</td>\n",
       "    </tr>\n",
       "    <tr>\n",
       "      <th>3</th>\n",
       "      <td>1845</td>\n",
       "      <td>19394.00</td>\n",
       "      <td>False</td>\n",
       "      <td>...even better if time travel were invented and I could go there back in 1876 and have a whiskey with Al #Deadwood</td>\n",
       "      <td>GB</td>\n",
       "      <td>twitter</td>\n",
       "      <td>-1.00</td>\n",
       "      <td>51.65</td>\n",
       "      <td>-3.80</td>\n",
       "    </tr>\n",
       "    <tr>\n",
       "      <th>4</th>\n",
       "      <td>1617</td>\n",
       "      <td>17922.00</td>\n",
       "      <td>False</td>\n",
       "      <td>@GreenAlty @ShakeyStephens My Mum in mid 80s pushed into road by Black migrants 2 sons with disabilities attacked robbed U THINK WE NEED MOR</td>\n",
       "      <td>GB</td>\n",
       "      <td>twitter</td>\n",
       "      <td>0.00</td>\n",
       "      <td>53.54</td>\n",
       "      <td>-2.65</td>\n",
       "    </tr>\n",
       "  </tbody>\n",
       "</table>\n",
       "</div>"
      ],
      "text/plain": [
       "  author.properties.friends  author.properties.status_count  \\\n",
       "0                      1689                        22566.00   \n",
       "1                       114                         1377.00   \n",
       "2                       568                         8375.00   \n",
       "3                      1845                        19394.00   \n",
       "4                      1617                        17922.00   \n",
       "\n",
       "  author.properties.verified  \\\n",
       "0                      False   \n",
       "1                      False   \n",
       "2                      False   \n",
       "3                      False   \n",
       "4                      False   \n",
       "\n",
       "                                                                                                                                   content.body  \\\n",
       "0                                                                                                       Can't believe I'm missing Love Island 😩   \n",
       "1         Last tweet about future wedding..... if I actually want a wedding I actually need to find a guy XD we all know I'm a loner. unlovable   \n",
       "2                                                                    How many times does he wonna say the phrase \"i deal with shit\" #LoveIsland   \n",
       "3                            ...even better if time travel were invented and I could go there back in 1876 and have a whiskey with Al #Deadwood   \n",
       "4  @GreenAlty @ShakeyStephens My Mum in mid 80s pushed into road by Black migrants 2 sons with disabilities attacked robbed U THINK WE NEED MOR   \n",
       "\n",
       "  location.country properties.platform  properties.sentiment  \\\n",
       "0               GB             twitter                  1.00   \n",
       "1               GB             twitter                  1.00   \n",
       "2               GB             twitter                 -1.00   \n",
       "3               GB             twitter                 -1.00   \n",
       "4               GB             twitter                  0.00   \n",
       "\n",
       "   location.latitude  location.longitude  \n",
       "0              51.57                0.46  \n",
       "1              52.97               -1.17  \n",
       "2              51.39                0.03  \n",
       "3              51.65               -3.80  \n",
       "4              53.54               -2.65  "
      ]
     },
     "execution_count": 386,
     "metadata": {},
     "output_type": "execute_result"
    }
   ],
   "source": [
    "csv_text_json_data.head()"
   ]
  },
  {
   "cell_type": "markdown",
   "id": "2f7d3786",
   "metadata": {},
   "source": [
    "### Data Inspection"
   ]
  },
  {
   "cell_type": "code",
   "execution_count": 387,
   "id": "2105004a",
   "metadata": {},
   "outputs": [
    {
     "name": "stdout",
     "output_type": "stream",
     "text": [
      "<class 'pandas.core.frame.DataFrame'>\n",
      "RangeIndex: 3000 entries, 0 to 2999\n",
      "Data columns (total 9 columns):\n",
      " #   Column                          Non-Null Count  Dtype  \n",
      "---  ------                          --------------  -----  \n",
      " 0   author.properties.friends       3000 non-null   object \n",
      " 1   author.properties.status_count  2999 non-null   float64\n",
      " 2   author.properties.verified      3000 non-null   object \n",
      " 3   content.body                    2999 non-null   object \n",
      " 4   location.country                2999 non-null   object \n",
      " 5   properties.platform             2998 non-null   object \n",
      " 6   properties.sentiment            2999 non-null   float64\n",
      " 7   location.latitude               2999 non-null   float64\n",
      " 8   location.longitude              2999 non-null   float64\n",
      "dtypes: float64(4), object(5)\n",
      "memory usage: 211.1+ KB\n"
     ]
    }
   ],
   "source": [
    "csv_text_json_data.info()"
   ]
  },
  {
   "cell_type": "code",
   "execution_count": 320,
   "id": "f11aa2d8",
   "metadata": {},
   "outputs": [
    {
     "data": {
      "text/plain": [
       "array([ 1., -1.,  0., nan])"
      ]
     },
     "execution_count": 320,
     "metadata": {},
     "output_type": "execute_result"
    }
   ],
   "source": [
    "csv_text_json_data[\"properties.sentiment\"].unique()"
   ]
  },
  {
   "cell_type": "code",
   "execution_count": 321,
   "id": "838013a5",
   "metadata": {},
   "outputs": [],
   "source": [
    "df = csv_text_json_data[csv_text_json_data[\"properties.sentiment\"].notnull()]"
   ]
  },
  {
   "cell_type": "code",
   "execution_count": 322,
   "id": "72c8b7a9",
   "metadata": {},
   "outputs": [
    {
     "data": {
      "text/plain": [
       "-1.00    1403\n",
       "0.00      968\n",
       "1.00      628\n",
       "Name: properties.sentiment, dtype: int64"
      ]
     },
     "execution_count": 322,
     "metadata": {},
     "output_type": "execute_result"
    }
   ],
   "source": [
    "df[\"properties.sentiment\"].value_counts()"
   ]
  },
  {
   "cell_type": "code",
   "execution_count": 323,
   "id": "14f5bd07",
   "metadata": {},
   "outputs": [
    {
     "data": {
      "text/plain": [
       "array([ 1., -1.,  0.])"
      ]
     },
     "execution_count": 323,
     "metadata": {},
     "output_type": "execute_result"
    }
   ],
   "source": [
    "df[\"properties.sentiment\"].unique()"
   ]
  },
  {
   "cell_type": "code",
   "execution_count": 324,
   "id": "cb5fb324",
   "metadata": {},
   "outputs": [
    {
     "data": {
      "text/html": [
       "<div>\n",
       "<style scoped>\n",
       "    .dataframe tbody tr th:only-of-type {\n",
       "        vertical-align: middle;\n",
       "    }\n",
       "\n",
       "    .dataframe tbody tr th {\n",
       "        vertical-align: top;\n",
       "    }\n",
       "\n",
       "    .dataframe thead th {\n",
       "        text-align: right;\n",
       "    }\n",
       "</style>\n",
       "<table border=\"1\" class=\"dataframe\">\n",
       "  <thead>\n",
       "    <tr style=\"text-align: right;\">\n",
       "      <th></th>\n",
       "      <th>author.properties.friends</th>\n",
       "      <th>author.properties.status_count</th>\n",
       "      <th>author.properties.verified</th>\n",
       "      <th>content.body</th>\n",
       "      <th>location.country</th>\n",
       "      <th>properties.platform</th>\n",
       "      <th>properties.sentiment</th>\n",
       "      <th>location.latitude</th>\n",
       "      <th>location.longitude</th>\n",
       "    </tr>\n",
       "  </thead>\n",
       "  <tbody>\n",
       "    <tr>\n",
       "      <th>0</th>\n",
       "      <td>1689</td>\n",
       "      <td>22566.00</td>\n",
       "      <td>False</td>\n",
       "      <td>Can't believe I'm missing Love Island 😩</td>\n",
       "      <td>GB</td>\n",
       "      <td>twitter</td>\n",
       "      <td>1.00</td>\n",
       "      <td>51.57</td>\n",
       "      <td>0.46</td>\n",
       "    </tr>\n",
       "    <tr>\n",
       "      <th>1</th>\n",
       "      <td>114</td>\n",
       "      <td>1377.00</td>\n",
       "      <td>False</td>\n",
       "      <td>Last tweet about future wedding..... if I actually want a wedding I actually need to find a guy XD we all know I'm a loner. unlovable</td>\n",
       "      <td>GB</td>\n",
       "      <td>twitter</td>\n",
       "      <td>1.00</td>\n",
       "      <td>52.97</td>\n",
       "      <td>-1.17</td>\n",
       "    </tr>\n",
       "    <tr>\n",
       "      <th>2</th>\n",
       "      <td>568</td>\n",
       "      <td>8375.00</td>\n",
       "      <td>False</td>\n",
       "      <td>How many times does he wonna say the phrase \"i deal with shit\" #LoveIsland</td>\n",
       "      <td>GB</td>\n",
       "      <td>twitter</td>\n",
       "      <td>-1.00</td>\n",
       "      <td>51.39</td>\n",
       "      <td>0.03</td>\n",
       "    </tr>\n",
       "    <tr>\n",
       "      <th>3</th>\n",
       "      <td>1845</td>\n",
       "      <td>19394.00</td>\n",
       "      <td>False</td>\n",
       "      <td>...even better if time travel were invented and I could go there back in 1876 and have a whiskey with Al #Deadwood</td>\n",
       "      <td>GB</td>\n",
       "      <td>twitter</td>\n",
       "      <td>-1.00</td>\n",
       "      <td>51.65</td>\n",
       "      <td>-3.80</td>\n",
       "    </tr>\n",
       "    <tr>\n",
       "      <th>4</th>\n",
       "      <td>1617</td>\n",
       "      <td>17922.00</td>\n",
       "      <td>False</td>\n",
       "      <td>@GreenAlty @ShakeyStephens My Mum in mid 80s pushed into road by Black migrants 2 sons with disabilities attacked robbed U THINK WE NEED MOR</td>\n",
       "      <td>GB</td>\n",
       "      <td>twitter</td>\n",
       "      <td>0.00</td>\n",
       "      <td>53.54</td>\n",
       "      <td>-2.65</td>\n",
       "    </tr>\n",
       "  </tbody>\n",
       "</table>\n",
       "</div>"
      ],
      "text/plain": [
       "  author.properties.friends  author.properties.status_count  \\\n",
       "0                      1689                        22566.00   \n",
       "1                       114                         1377.00   \n",
       "2                       568                         8375.00   \n",
       "3                      1845                        19394.00   \n",
       "4                      1617                        17922.00   \n",
       "\n",
       "  author.properties.verified  \\\n",
       "0                      False   \n",
       "1                      False   \n",
       "2                      False   \n",
       "3                      False   \n",
       "4                      False   \n",
       "\n",
       "                                                                                                                                   content.body  \\\n",
       "0                                                                                                       Can't believe I'm missing Love Island 😩   \n",
       "1         Last tweet about future wedding..... if I actually want a wedding I actually need to find a guy XD we all know I'm a loner. unlovable   \n",
       "2                                                                    How many times does he wonna say the phrase \"i deal with shit\" #LoveIsland   \n",
       "3                            ...even better if time travel were invented and I could go there back in 1876 and have a whiskey with Al #Deadwood   \n",
       "4  @GreenAlty @ShakeyStephens My Mum in mid 80s pushed into road by Black migrants 2 sons with disabilities attacked robbed U THINK WE NEED MOR   \n",
       "\n",
       "  location.country properties.platform  properties.sentiment  \\\n",
       "0               GB             twitter                  1.00   \n",
       "1               GB             twitter                  1.00   \n",
       "2               GB             twitter                 -1.00   \n",
       "3               GB             twitter                 -1.00   \n",
       "4               GB             twitter                  0.00   \n",
       "\n",
       "   location.latitude  location.longitude  \n",
       "0              51.57                0.46  \n",
       "1              52.97               -1.17  \n",
       "2              51.39                0.03  \n",
       "3              51.65               -3.80  \n",
       "4              53.54               -2.65  "
      ]
     },
     "execution_count": 324,
     "metadata": {},
     "output_type": "execute_result"
    }
   ],
   "source": [
    "df.head()"
   ]
  },
  {
   "cell_type": "markdown",
   "id": "3b1a039d",
   "metadata": {},
   "source": [
    "### Exploratory Data Analysis"
   ]
  },
  {
   "cell_type": "code",
   "execution_count": 325,
   "id": "f9cffe93",
   "metadata": {},
   "outputs": [
    {
     "data": {
      "text/html": [
       "<div>\n",
       "<style scoped>\n",
       "    .dataframe tbody tr th:only-of-type {\n",
       "        vertical-align: middle;\n",
       "    }\n",
       "\n",
       "    .dataframe tbody tr th {\n",
       "        vertical-align: top;\n",
       "    }\n",
       "\n",
       "    .dataframe thead th {\n",
       "        text-align: right;\n",
       "    }\n",
       "</style>\n",
       "<table border=\"1\" class=\"dataframe\">\n",
       "  <thead>\n",
       "    <tr style=\"text-align: right;\">\n",
       "      <th></th>\n",
       "      <th>author.properties.status_count</th>\n",
       "      <th>properties.sentiment</th>\n",
       "      <th>location.latitude</th>\n",
       "      <th>location.longitude</th>\n",
       "    </tr>\n",
       "  </thead>\n",
       "  <tbody>\n",
       "    <tr>\n",
       "      <th>count</th>\n",
       "      <td>2999.00</td>\n",
       "      <td>2999.00</td>\n",
       "      <td>2999.00</td>\n",
       "      <td>2999.00</td>\n",
       "    </tr>\n",
       "    <tr>\n",
       "      <th>mean</th>\n",
       "      <td>35139.96</td>\n",
       "      <td>-0.26</td>\n",
       "      <td>52.75</td>\n",
       "      <td>-1.61</td>\n",
       "    </tr>\n",
       "    <tr>\n",
       "      <th>std</th>\n",
       "      <td>129182.54</td>\n",
       "      <td>0.78</td>\n",
       "      <td>1.66</td>\n",
       "      <td>1.64</td>\n",
       "    </tr>\n",
       "    <tr>\n",
       "      <th>min</th>\n",
       "      <td>2.00</td>\n",
       "      <td>-1.00</td>\n",
       "      <td>49.19</td>\n",
       "      <td>-7.82</td>\n",
       "    </tr>\n",
       "    <tr>\n",
       "      <th>25%</th>\n",
       "      <td>3427.50</td>\n",
       "      <td>-1.00</td>\n",
       "      <td>51.50</td>\n",
       "      <td>-2.68</td>\n",
       "    </tr>\n",
       "    <tr>\n",
       "      <th>50%</th>\n",
       "      <td>11435.00</td>\n",
       "      <td>0.00</td>\n",
       "      <td>52.20</td>\n",
       "      <td>-1.40</td>\n",
       "    </tr>\n",
       "    <tr>\n",
       "      <th>75%</th>\n",
       "      <td>30461.00</td>\n",
       "      <td>0.00</td>\n",
       "      <td>53.69</td>\n",
       "      <td>-0.18</td>\n",
       "    </tr>\n",
       "    <tr>\n",
       "      <th>max</th>\n",
       "      <td>1702464.00</td>\n",
       "      <td>1.00</td>\n",
       "      <td>58.17</td>\n",
       "      <td>1.40</td>\n",
       "    </tr>\n",
       "  </tbody>\n",
       "</table>\n",
       "</div>"
      ],
      "text/plain": [
       "       author.properties.status_count  properties.sentiment  \\\n",
       "count                         2999.00               2999.00   \n",
       "mean                         35139.96                 -0.26   \n",
       "std                         129182.54                  0.78   \n",
       "min                              2.00                 -1.00   \n",
       "25%                           3427.50                 -1.00   \n",
       "50%                          11435.00                  0.00   \n",
       "75%                          30461.00                  0.00   \n",
       "max                        1702464.00                  1.00   \n",
       "\n",
       "       location.latitude  location.longitude  \n",
       "count            2999.00             2999.00  \n",
       "mean               52.75               -1.61  \n",
       "std                 1.66                1.64  \n",
       "min                49.19               -7.82  \n",
       "25%                51.50               -2.68  \n",
       "50%                52.20               -1.40  \n",
       "75%                53.69               -0.18  \n",
       "max                58.17                1.40  "
      ]
     },
     "execution_count": 325,
     "metadata": {},
     "output_type": "execute_result"
    }
   ],
   "source": [
    "df.describe()"
   ]
  },
  {
   "cell_type": "markdown",
   "id": "0ce38e98",
   "metadata": {},
   "source": [
    "### Model Building"
   ]
  },
  {
   "cell_type": "code",
   "execution_count": 326,
   "id": "64364940",
   "metadata": {},
   "outputs": [
    {
     "data": {
      "text/plain": [
       "Index(['author.properties.friends', 'author.properties.status_count',\n",
       "       'author.properties.verified', 'content.body', 'location.country',\n",
       "       'properties.platform', 'properties.sentiment', 'location.latitude',\n",
       "       'location.longitude'],\n",
       "      dtype='object')"
      ]
     },
     "execution_count": 326,
     "metadata": {},
     "output_type": "execute_result"
    }
   ],
   "source": [
    "df.columns"
   ]
  },
  {
   "cell_type": "code",
   "execution_count": 327,
   "id": "895a4646",
   "metadata": {},
   "outputs": [],
   "source": [
    "from sklearn.model_selection import train_test_split\n",
    "from autogluon.tabular import TabularDataset, TabularPredictor"
   ]
  },
  {
   "cell_type": "code",
   "execution_count": 328,
   "id": "ebbaeb85",
   "metadata": {},
   "outputs": [
    {
     "data": {
      "text/plain": [
       "(2999, 9)"
      ]
     },
     "execution_count": 328,
     "metadata": {},
     "output_type": "execute_result"
    }
   ],
   "source": [
    "df.shape"
   ]
  },
  {
   "cell_type": "code",
   "execution_count": 329,
   "id": "057c6764",
   "metadata": {},
   "outputs": [],
   "source": [
    "train_data, test_data = train_test_split(df, test_size=0.33, random_state=42)"
   ]
  },
  {
   "cell_type": "code",
   "execution_count": 330,
   "id": "4fabf20a",
   "metadata": {},
   "outputs": [
    {
     "data": {
      "text/plain": [
       "((2009, 9), (990, 9))"
      ]
     },
     "execution_count": 330,
     "metadata": {},
     "output_type": "execute_result"
    }
   ],
   "source": [
    "train_data.shape, test_data.shape"
   ]
  },
  {
   "cell_type": "code",
   "execution_count": 331,
   "id": "da347333",
   "metadata": {},
   "outputs": [
    {
     "data": {
      "text/html": [
       "<div>\n",
       "<style scoped>\n",
       "    .dataframe tbody tr th:only-of-type {\n",
       "        vertical-align: middle;\n",
       "    }\n",
       "\n",
       "    .dataframe tbody tr th {\n",
       "        vertical-align: top;\n",
       "    }\n",
       "\n",
       "    .dataframe thead th {\n",
       "        text-align: right;\n",
       "    }\n",
       "</style>\n",
       "<table border=\"1\" class=\"dataframe\">\n",
       "  <thead>\n",
       "    <tr style=\"text-align: right;\">\n",
       "      <th></th>\n",
       "      <th>author.properties.friends</th>\n",
       "      <th>author.properties.status_count</th>\n",
       "      <th>author.properties.verified</th>\n",
       "      <th>content.body</th>\n",
       "      <th>location.country</th>\n",
       "      <th>properties.platform</th>\n",
       "      <th>properties.sentiment</th>\n",
       "      <th>location.latitude</th>\n",
       "      <th>location.longitude</th>\n",
       "    </tr>\n",
       "  </thead>\n",
       "  <tbody>\n",
       "    <tr>\n",
       "      <th>406</th>\n",
       "      <td>2280</td>\n",
       "      <td>15806.00</td>\n",
       "      <td>False</td>\n",
       "      <td>@ScottMaslenCrew just asked if Dot was Ginger omg hahaha</td>\n",
       "      <td>GB</td>\n",
       "      <td>twitter</td>\n",
       "      <td>-1.00</td>\n",
       "      <td>55.98</td>\n",
       "      <td>-3.71</td>\n",
       "    </tr>\n",
       "    <tr>\n",
       "      <th>2840</th>\n",
       "      <td>616</td>\n",
       "      <td>4623.00</td>\n",
       "      <td>False</td>\n",
       "      <td>in love with my promise ring😇😇</td>\n",
       "      <td>GB</td>\n",
       "      <td>twitter</td>\n",
       "      <td>1.00</td>\n",
       "      <td>53.30</td>\n",
       "      <td>-0.80</td>\n",
       "    </tr>\n",
       "    <tr>\n",
       "      <th>2092</th>\n",
       "      <td>169</td>\n",
       "      <td>1194.00</td>\n",
       "      <td>False</td>\n",
       "      <td>okay im going 2 bed I'll delete My Emo Tweets tomorrow im so tired https://t.co/bQky0fi0tt</td>\n",
       "      <td>GB</td>\n",
       "      <td>twitter</td>\n",
       "      <td>-1.00</td>\n",
       "      <td>51.39</td>\n",
       "      <td>-0.28</td>\n",
       "    </tr>\n",
       "    <tr>\n",
       "      <th>1505</th>\n",
       "      <td>738</td>\n",
       "      <td>9541.00</td>\n",
       "      <td>False</td>\n",
       "      <td>@emilyjowarb you could always become a professional ranter 😂</td>\n",
       "      <td>GB</td>\n",
       "      <td>twitter</td>\n",
       "      <td>-1.00</td>\n",
       "      <td>53.46</td>\n",
       "      <td>-2.23</td>\n",
       "    </tr>\n",
       "    <tr>\n",
       "      <th>2794</th>\n",
       "      <td>575</td>\n",
       "      <td>24216.00</td>\n",
       "      <td>False</td>\n",
       "      <td>ROSS' SNAPCHAT!!! FCK!!!</td>\n",
       "      <td>GB</td>\n",
       "      <td>twitter</td>\n",
       "      <td>1.00</td>\n",
       "      <td>54.60</td>\n",
       "      <td>-1.27</td>\n",
       "    </tr>\n",
       "  </tbody>\n",
       "</table>\n",
       "</div>"
      ],
      "text/plain": [
       "     author.properties.friends  author.properties.status_count  \\\n",
       "406                       2280                        15806.00   \n",
       "2840                       616                         4623.00   \n",
       "2092                       169                         1194.00   \n",
       "1505                       738                         9541.00   \n",
       "2794                       575                        24216.00   \n",
       "\n",
       "     author.properties.verified  \\\n",
       "406                       False   \n",
       "2840                      False   \n",
       "2092                      False   \n",
       "1505                      False   \n",
       "2794                      False   \n",
       "\n",
       "                                                                                    content.body  \\\n",
       "406                                     @ScottMaslenCrew just asked if Dot was Ginger omg hahaha   \n",
       "2840                                                              in love with my promise ring😇😇   \n",
       "2092  okay im going 2 bed I'll delete My Emo Tweets tomorrow im so tired https://t.co/bQky0fi0tt   \n",
       "1505                                @emilyjowarb you could always become a professional ranter 😂   \n",
       "2794                                                                    ROSS' SNAPCHAT!!! FCK!!!   \n",
       "\n",
       "     location.country properties.platform  properties.sentiment  \\\n",
       "406                GB             twitter                 -1.00   \n",
       "2840               GB             twitter                  1.00   \n",
       "2092               GB             twitter                 -1.00   \n",
       "1505               GB             twitter                 -1.00   \n",
       "2794               GB             twitter                  1.00   \n",
       "\n",
       "      location.latitude  location.longitude  \n",
       "406               55.98               -3.71  \n",
       "2840              53.30               -0.80  \n",
       "2092              51.39               -0.28  \n",
       "1505              53.46               -2.23  \n",
       "2794              54.60               -1.27  "
      ]
     },
     "execution_count": 331,
     "metadata": {},
     "output_type": "execute_result"
    }
   ],
   "source": [
    "train_data.head()"
   ]
  },
  {
   "cell_type": "code",
   "execution_count": 332,
   "id": "d4d04c70",
   "metadata": {},
   "outputs": [
    {
     "data": {
      "text/html": [
       "<div>\n",
       "<style scoped>\n",
       "    .dataframe tbody tr th:only-of-type {\n",
       "        vertical-align: middle;\n",
       "    }\n",
       "\n",
       "    .dataframe tbody tr th {\n",
       "        vertical-align: top;\n",
       "    }\n",
       "\n",
       "    .dataframe thead th {\n",
       "        text-align: right;\n",
       "    }\n",
       "</style>\n",
       "<table border=\"1\" class=\"dataframe\">\n",
       "  <thead>\n",
       "    <tr style=\"text-align: right;\">\n",
       "      <th></th>\n",
       "      <th>author.properties.friends</th>\n",
       "      <th>author.properties.status_count</th>\n",
       "      <th>author.properties.verified</th>\n",
       "      <th>content.body</th>\n",
       "      <th>location.country</th>\n",
       "      <th>properties.platform</th>\n",
       "      <th>properties.sentiment</th>\n",
       "      <th>location.latitude</th>\n",
       "      <th>location.longitude</th>\n",
       "    </tr>\n",
       "  </thead>\n",
       "  <tbody>\n",
       "    <tr>\n",
       "      <th>1376</th>\n",
       "      <td>282</td>\n",
       "      <td>2085.00</td>\n",
       "      <td>False</td>\n",
       "      <td>@Donforester Many established 1st generation immigrants want to restrict immigration. Many 2nd generation eg Irish more welcoming</td>\n",
       "      <td>GB</td>\n",
       "      <td>twitter</td>\n",
       "      <td>0.00</td>\n",
       "      <td>53.42</td>\n",
       "      <td>-2.92</td>\n",
       "    </tr>\n",
       "    <tr>\n",
       "      <th>932</th>\n",
       "      <td>51</td>\n",
       "      <td>12533.00</td>\n",
       "      <td>False</td>\n",
       "      <td>@smollyalexander thank u hunty</td>\n",
       "      <td>GB</td>\n",
       "      <td>twitter</td>\n",
       "      <td>1.00</td>\n",
       "      <td>53.37</td>\n",
       "      <td>-2.17</td>\n",
       "    </tr>\n",
       "    <tr>\n",
       "      <th>144</th>\n",
       "      <td>931</td>\n",
       "      <td>307.00</td>\n",
       "      <td>False</td>\n",
       "      <td>Hedge removal part one...!! @ Dalkeith https://t.co/slEBFhE0w9</td>\n",
       "      <td>GB</td>\n",
       "      <td>twitter</td>\n",
       "      <td>-1.00</td>\n",
       "      <td>55.87</td>\n",
       "      <td>-3.07</td>\n",
       "    </tr>\n",
       "    <tr>\n",
       "      <th>1753</th>\n",
       "      <td>458</td>\n",
       "      <td>966.00</td>\n",
       "      <td>False</td>\n",
       "      <td>https://t.co/dvUtHRAPG4</td>\n",
       "      <td>GB</td>\n",
       "      <td>twitter</td>\n",
       "      <td>0.00</td>\n",
       "      <td>50.96</td>\n",
       "      <td>-0.56</td>\n",
       "    </tr>\n",
       "    <tr>\n",
       "      <th>51</th>\n",
       "      <td>680</td>\n",
       "      <td>3691.00</td>\n",
       "      <td>False</td>\n",
       "      <td>@MargevonMarge Blimey. You still haven't served enough time here? #EUref #Remain</td>\n",
       "      <td>GB</td>\n",
       "      <td>twitter</td>\n",
       "      <td>-1.00</td>\n",
       "      <td>53.55</td>\n",
       "      <td>-0.66</td>\n",
       "    </tr>\n",
       "  </tbody>\n",
       "</table>\n",
       "</div>"
      ],
      "text/plain": [
       "     author.properties.friends  author.properties.status_count  \\\n",
       "1376                       282                         2085.00   \n",
       "932                         51                        12533.00   \n",
       "144                        931                          307.00   \n",
       "1753                       458                          966.00   \n",
       "51                         680                         3691.00   \n",
       "\n",
       "     author.properties.verified  \\\n",
       "1376                      False   \n",
       "932                       False   \n",
       "144                       False   \n",
       "1753                      False   \n",
       "51                        False   \n",
       "\n",
       "                                                                                                                           content.body  \\\n",
       "1376  @Donforester Many established 1st generation immigrants want to restrict immigration. Many 2nd generation eg Irish more welcoming   \n",
       "932                                                                                                      @smollyalexander thank u hunty   \n",
       "144                                                                      Hedge removal part one...!! @ Dalkeith https://t.co/slEBFhE0w9   \n",
       "1753                                                                                                            https://t.co/dvUtHRAPG4   \n",
       "51                                                     @MargevonMarge Blimey. You still haven't served enough time here? #EUref #Remain   \n",
       "\n",
       "     location.country properties.platform  properties.sentiment  \\\n",
       "1376               GB             twitter                  0.00   \n",
       "932                GB             twitter                  1.00   \n",
       "144                GB             twitter                 -1.00   \n",
       "1753               GB             twitter                  0.00   \n",
       "51                 GB             twitter                 -1.00   \n",
       "\n",
       "      location.latitude  location.longitude  \n",
       "1376              53.42               -2.92  \n",
       "932               53.37               -2.17  \n",
       "144               55.87               -3.07  \n",
       "1753              50.96               -0.56  \n",
       "51                53.55               -0.66  "
      ]
     },
     "execution_count": 332,
     "metadata": {},
     "output_type": "execute_result"
    }
   ],
   "source": [
    "test_data.head()"
   ]
  },
  {
   "cell_type": "code",
   "execution_count": 333,
   "id": "8eb2c28a",
   "metadata": {
    "scrolled": true
   },
   "outputs": [
    {
     "name": "stderr",
     "output_type": "stream",
     "text": [
      "Beginning AutoGluon training ... Time limit = 60s\n",
      "AutoGluon will save models to \"model\\\"\n",
      "AutoGluon Version:  0.7.0\n",
      "Python Version:     3.9.16\n",
      "Operating System:   Windows\n",
      "Platform Machine:   AMD64\n",
      "Platform Version:   10.0.19045\n",
      "Train Data Rows:    990\n",
      "Train Data Columns: 8\n",
      "Label Column: properties.sentiment\n",
      "Preprocessing data ...\n",
      "Train Data Class Count: 3\n",
      "Using Feature Generators to preprocess the data ...\n",
      "Fitting AutoMLPipelineFeatureGenerator...\n",
      "\tAvailable Memory:                    1455.71 MB\n",
      "\tTrain Data (Original)  Memory Usage: 0.41 MB (0.0% of available memory)\n",
      "\tInferring data type of each feature based on column values. Set feature_metadata_in to manually specify special dtypes of the features.\n",
      "\tStage 1 Generators:\n",
      "\t\tFitting AsTypeFeatureGenerator...\n",
      "\t\t\tNote: Converting 1 features to boolean dtype as they only contain 2 unique values.\n",
      "\tStage 2 Generators:\n",
      "\t\tFitting FillNaFeatureGenerator...\n",
      "\tStage 3 Generators:\n",
      "\t\tFitting IdentityFeatureGenerator...\n",
      "\t\tFitting CategoryFeatureGenerator...\n",
      "\t\t\tFitting CategoryMemoryMinimizeFeatureGenerator...\n",
      "\t\tFitting TextSpecialFeatureGenerator...\n",
      "\t\t\tFitting BinnedFeatureGenerator...\n",
      "\t\t\tFitting DropDuplicatesFeatureGenerator...\n",
      "\t\tFitting TextNgramFeatureGenerator...\n",
      "\t\t\tFitting CountVectorizer for text features: ['content.body']\n",
      "\t\t\tCountVectorizer fit with vocabulary size = 41\n",
      "\t\tWarning: Due to memory constraints, ngram feature count is being reduced. Allocate more memory to maximize model quality.\n",
      "\t\tReducing Vectorizer vocab size from 41 to 16 to avoid OOM error\n",
      "\tStage 4 Generators:\n",
      "\t\tFitting DropUniqueFeatureGenerator...\n",
      "\tUseless Original Features (Count: 1): ['properties.platform']\n",
      "\t\tThese features carry no predictive signal and should be manually investigated.\n",
      "\t\tThis is typically a feature which has the same value for all rows.\n",
      "\t\tThese features do not need to be present at inference time.\n",
      "\tTypes of features in original data (raw dtype, special dtypes):\n",
      "\t\t('float', [])        : 3 | ['author.properties.status_count', 'location.latitude', 'location.longitude']\n",
      "\t\t('object', [])       : 3 | ['author.properties.friends', 'author.properties.verified', 'location.country']\n",
      "\t\t('object', ['text']) : 1 | ['content.body']\n",
      "\tTypes of features in processed data (raw dtype, special dtypes):\n",
      "\t\t('category', [])                    :  2 | ['author.properties.friends', 'author.properties.verified']\n",
      "\t\t('float', [])                       :  3 | ['author.properties.status_count', 'location.latitude', 'location.longitude']\n",
      "\t\t('int', ['binned', 'text_special']) : 24 | ['content.body.char_count', 'content.body.word_count', 'content.body.capital_ratio', 'content.body.lower_ratio', 'content.body.digit_ratio', ...]\n",
      "\t\t('int', ['bool'])                   :  1 | ['location.country']\n",
      "\t\t('int', ['text_ngram'])             : 17 | ['__nlp__.and', '__nlp__.co', '__nlp__.for', '__nlp__.https', '__nlp__.https co', ...]\n",
      "\t1.6s = Fit runtime\n",
      "\t7 features in original data used to generate 47 features in processed data.\n",
      "\tTrain Data (Processed) Memory Usage: 0.09 MB (0.0% of available memory)\n",
      "Data preprocessing and feature engineering runtime = 1.82s ...\n",
      "AutoGluon will gauge predictive performance using evaluation metric: 'accuracy'\n",
      "\tTo change this, specify the eval_metric parameter of Predictor()\n",
      "Automatically generating train/validation split with holdout_frac=0.2, Train Rows: 792, Val Rows: 198\n",
      "Fitting 13 L1 models ...\n",
      "Fitting model: KNeighborsUnif ... Training model for up to 58.18s of the 58.16s of remaining time.\n",
      "\t0.4495\t = Validation score   (accuracy)\n",
      "\t0.08s\t = Training   runtime\n",
      "\t0.05s\t = Validation runtime\n",
      "Fitting model: KNeighborsDist ... Training model for up to 58.03s of the 58.02s of remaining time.\n",
      "\t0.3838\t = Validation score   (accuracy)\n",
      "\t0.04s\t = Training   runtime\n",
      "\t0.01s\t = Validation runtime\n",
      "Fitting model: NeuralNetFastAI ... Training model for up to 57.97s of the 57.95s of remaining time.\n",
      "No improvement since epoch 4: early stopping\n",
      "\t0.5859\t = Validation score   (accuracy)\n",
      "\t4.87s\t = Training   runtime\n",
      "\t0.05s\t = Validation runtime\n",
      "Fitting model: LightGBMXT ... Training model for up to 52.99s of the 52.97s of remaining time.\n",
      "\t0.6061\t = Validation score   (accuracy)\n",
      "\t6.65s\t = Training   runtime\n",
      "\t0.02s\t = Validation runtime\n",
      "Fitting model: LightGBM ... Training model for up to 46.28s of the 46.27s of remaining time.\n",
      "\t0.6111\t = Validation score   (accuracy)\n",
      "\t2.68s\t = Training   runtime\n",
      "\t0.01s\t = Validation runtime\n",
      "Fitting model: RandomForestGini ... Training model for up to 43.55s of the 43.53s of remaining time.\n",
      "\t0.5909\t = Validation score   (accuracy)\n",
      "\t1.97s\t = Training   runtime\n",
      "\t0.18s\t = Validation runtime\n",
      "Fitting model: RandomForestEntr ... Training model for up to 41.29s of the 41.27s of remaining time.\n",
      "\t0.6061\t = Validation score   (accuracy)\n",
      "\t1.78s\t = Training   runtime\n",
      "\t0.21s\t = Validation runtime\n",
      "Fitting model: CatBoost ... Training model for up to 39.16s of the 39.14s of remaining time.\n",
      "\t0.6212\t = Validation score   (accuracy)\n",
      "\t27.43s\t = Training   runtime\n",
      "\t0.02s\t = Validation runtime\n",
      "Fitting model: ExtraTreesGini ... Training model for up to 11.69s of the 11.68s of remaining time.\n",
      "\t0.5859\t = Validation score   (accuracy)\n",
      "\t1.62s\t = Training   runtime\n",
      "\t0.19s\t = Validation runtime\n",
      "Fitting model: ExtraTreesEntr ... Training model for up to 9.77s of the 9.75s of remaining time.\n",
      "\t0.596\t = Validation score   (accuracy)\n",
      "\t1.83s\t = Training   runtime\n",
      "\t0.26s\t = Validation runtime\n",
      "Fitting model: XGBoost ... Training model for up to 7.49s of the 7.47s of remaining time.\n",
      "\t0.601\t = Validation score   (accuracy)\n",
      "\t3.75s\t = Training   runtime\n",
      "\t0.02s\t = Validation runtime\n",
      "Fitting model: NeuralNetTorch ... Training model for up to 3.63s of the 3.62s of remaining time.\n",
      "\tRan out of time, stopping training early. (Stopping on epoch 10)\n",
      "\t0.5606\t = Validation score   (accuracy)\n",
      "\t3.68s\t = Training   runtime\n",
      "\t0.06s\t = Validation runtime\n",
      "Fitting model: WeightedEnsemble_L2 ... Training model for up to 58.18s of the -0.31s of remaining time.\n",
      "\t0.6515\t = Validation score   (accuracy)\n",
      "\t1.75s\t = Training   runtime\n",
      "\t0.0s\t = Validation runtime\n",
      "AutoGluon training complete, total runtime = 62.17s ... Best model: \"WeightedEnsemble_L2\"\n",
      "TabularPredictor saved. To load, use: predictor = TabularPredictor.load(\"model\\\")\n"
     ]
    }
   ],
   "source": [
    "save_path = 'model'\n",
    "time_limit = 60\n",
    "label = \"properties.sentiment\"\n",
    "\n",
    "predictor = TabularPredictor(label=TARGET, path=save_path, problem_type=\"multiclass\").fit(test_data, time_limit=time_limit)"
   ]
  },
  {
   "cell_type": "code",
   "execution_count": 334,
   "id": "dab2c837",
   "metadata": {},
   "outputs": [
    {
     "data": {
      "text/html": [
       "<div>\n",
       "<style scoped>\n",
       "    .dataframe tbody tr th:only-of-type {\n",
       "        vertical-align: middle;\n",
       "    }\n",
       "\n",
       "    .dataframe tbody tr th {\n",
       "        vertical-align: top;\n",
       "    }\n",
       "\n",
       "    .dataframe thead th {\n",
       "        text-align: right;\n",
       "    }\n",
       "</style>\n",
       "<table border=\"1\" class=\"dataframe\">\n",
       "  <thead>\n",
       "    <tr style=\"text-align: right;\">\n",
       "      <th></th>\n",
       "      <th>model</th>\n",
       "      <th>score_val</th>\n",
       "      <th>pred_time_val</th>\n",
       "      <th>fit_time</th>\n",
       "      <th>pred_time_val_marginal</th>\n",
       "      <th>fit_time_marginal</th>\n",
       "      <th>stack_level</th>\n",
       "      <th>can_infer</th>\n",
       "      <th>fit_order</th>\n",
       "    </tr>\n",
       "  </thead>\n",
       "  <tbody>\n",
       "    <tr>\n",
       "      <th>0</th>\n",
       "      <td>WeightedEnsemble_L2</td>\n",
       "      <td>0.65</td>\n",
       "      <td>0.09</td>\n",
       "      <td>37.79</td>\n",
       "      <td>0.00</td>\n",
       "      <td>1.75</td>\n",
       "      <td>2</td>\n",
       "      <td>True</td>\n",
       "      <td>13</td>\n",
       "    </tr>\n",
       "    <tr>\n",
       "      <th>1</th>\n",
       "      <td>CatBoost</td>\n",
       "      <td>0.62</td>\n",
       "      <td>0.02</td>\n",
       "      <td>27.43</td>\n",
       "      <td>0.02</td>\n",
       "      <td>27.43</td>\n",
       "      <td>1</td>\n",
       "      <td>True</td>\n",
       "      <td>8</td>\n",
       "    </tr>\n",
       "    <tr>\n",
       "      <th>2</th>\n",
       "      <td>LightGBM</td>\n",
       "      <td>0.61</td>\n",
       "      <td>0.01</td>\n",
       "      <td>2.68</td>\n",
       "      <td>0.01</td>\n",
       "      <td>2.68</td>\n",
       "      <td>1</td>\n",
       "      <td>True</td>\n",
       "      <td>5</td>\n",
       "    </tr>\n",
       "    <tr>\n",
       "      <th>3</th>\n",
       "      <td>LightGBMXT</td>\n",
       "      <td>0.61</td>\n",
       "      <td>0.02</td>\n",
       "      <td>6.65</td>\n",
       "      <td>0.02</td>\n",
       "      <td>6.65</td>\n",
       "      <td>1</td>\n",
       "      <td>True</td>\n",
       "      <td>4</td>\n",
       "    </tr>\n",
       "    <tr>\n",
       "      <th>4</th>\n",
       "      <td>RandomForestEntr</td>\n",
       "      <td>0.61</td>\n",
       "      <td>0.21</td>\n",
       "      <td>1.78</td>\n",
       "      <td>0.21</td>\n",
       "      <td>1.78</td>\n",
       "      <td>1</td>\n",
       "      <td>True</td>\n",
       "      <td>7</td>\n",
       "    </tr>\n",
       "    <tr>\n",
       "      <th>5</th>\n",
       "      <td>XGBoost</td>\n",
       "      <td>0.60</td>\n",
       "      <td>0.02</td>\n",
       "      <td>3.75</td>\n",
       "      <td>0.02</td>\n",
       "      <td>3.75</td>\n",
       "      <td>1</td>\n",
       "      <td>True</td>\n",
       "      <td>11</td>\n",
       "    </tr>\n",
       "    <tr>\n",
       "      <th>6</th>\n",
       "      <td>ExtraTreesEntr</td>\n",
       "      <td>0.60</td>\n",
       "      <td>0.26</td>\n",
       "      <td>1.83</td>\n",
       "      <td>0.26</td>\n",
       "      <td>1.83</td>\n",
       "      <td>1</td>\n",
       "      <td>True</td>\n",
       "      <td>10</td>\n",
       "    </tr>\n",
       "    <tr>\n",
       "      <th>7</th>\n",
       "      <td>RandomForestGini</td>\n",
       "      <td>0.59</td>\n",
       "      <td>0.18</td>\n",
       "      <td>1.97</td>\n",
       "      <td>0.18</td>\n",
       "      <td>1.97</td>\n",
       "      <td>1</td>\n",
       "      <td>True</td>\n",
       "      <td>6</td>\n",
       "    </tr>\n",
       "    <tr>\n",
       "      <th>8</th>\n",
       "      <td>NeuralNetFastAI</td>\n",
       "      <td>0.59</td>\n",
       "      <td>0.05</td>\n",
       "      <td>4.87</td>\n",
       "      <td>0.05</td>\n",
       "      <td>4.87</td>\n",
       "      <td>1</td>\n",
       "      <td>True</td>\n",
       "      <td>3</td>\n",
       "    </tr>\n",
       "    <tr>\n",
       "      <th>9</th>\n",
       "      <td>ExtraTreesGini</td>\n",
       "      <td>0.59</td>\n",
       "      <td>0.19</td>\n",
       "      <td>1.62</td>\n",
       "      <td>0.19</td>\n",
       "      <td>1.62</td>\n",
       "      <td>1</td>\n",
       "      <td>True</td>\n",
       "      <td>9</td>\n",
       "    </tr>\n",
       "    <tr>\n",
       "      <th>10</th>\n",
       "      <td>NeuralNetTorch</td>\n",
       "      <td>0.56</td>\n",
       "      <td>0.06</td>\n",
       "      <td>3.68</td>\n",
       "      <td>0.06</td>\n",
       "      <td>3.68</td>\n",
       "      <td>1</td>\n",
       "      <td>True</td>\n",
       "      <td>12</td>\n",
       "    </tr>\n",
       "    <tr>\n",
       "      <th>11</th>\n",
       "      <td>KNeighborsUnif</td>\n",
       "      <td>0.45</td>\n",
       "      <td>0.05</td>\n",
       "      <td>0.08</td>\n",
       "      <td>0.05</td>\n",
       "      <td>0.08</td>\n",
       "      <td>1</td>\n",
       "      <td>True</td>\n",
       "      <td>1</td>\n",
       "    </tr>\n",
       "    <tr>\n",
       "      <th>12</th>\n",
       "      <td>KNeighborsDist</td>\n",
       "      <td>0.38</td>\n",
       "      <td>0.01</td>\n",
       "      <td>0.04</td>\n",
       "      <td>0.01</td>\n",
       "      <td>0.04</td>\n",
       "      <td>1</td>\n",
       "      <td>True</td>\n",
       "      <td>2</td>\n",
       "    </tr>\n",
       "  </tbody>\n",
       "</table>\n",
       "</div>"
      ],
      "text/plain": [
       "                  model  score_val  pred_time_val  fit_time  \\\n",
       "0   WeightedEnsemble_L2       0.65           0.09     37.79   \n",
       "1              CatBoost       0.62           0.02     27.43   \n",
       "2              LightGBM       0.61           0.01      2.68   \n",
       "3            LightGBMXT       0.61           0.02      6.65   \n",
       "4      RandomForestEntr       0.61           0.21      1.78   \n",
       "5               XGBoost       0.60           0.02      3.75   \n",
       "6        ExtraTreesEntr       0.60           0.26      1.83   \n",
       "7      RandomForestGini       0.59           0.18      1.97   \n",
       "8       NeuralNetFastAI       0.59           0.05      4.87   \n",
       "9        ExtraTreesGini       0.59           0.19      1.62   \n",
       "10       NeuralNetTorch       0.56           0.06      3.68   \n",
       "11       KNeighborsUnif       0.45           0.05      0.08   \n",
       "12       KNeighborsDist       0.38           0.01      0.04   \n",
       "\n",
       "    pred_time_val_marginal  fit_time_marginal  stack_level  can_infer  \\\n",
       "0                     0.00               1.75            2       True   \n",
       "1                     0.02              27.43            1       True   \n",
       "2                     0.01               2.68            1       True   \n",
       "3                     0.02               6.65            1       True   \n",
       "4                     0.21               1.78            1       True   \n",
       "5                     0.02               3.75            1       True   \n",
       "6                     0.26               1.83            1       True   \n",
       "7                     0.18               1.97            1       True   \n",
       "8                     0.05               4.87            1       True   \n",
       "9                     0.19               1.62            1       True   \n",
       "10                    0.06               3.68            1       True   \n",
       "11                    0.05               0.08            1       True   \n",
       "12                    0.01               0.04            1       True   \n",
       "\n",
       "    fit_order  \n",
       "0          13  \n",
       "1           8  \n",
       "2           5  \n",
       "3           4  \n",
       "4           7  \n",
       "5          11  \n",
       "6          10  \n",
       "7           6  \n",
       "8           3  \n",
       "9           9  \n",
       "10         12  \n",
       "11          1  \n",
       "12          2  "
      ]
     },
     "execution_count": 334,
     "metadata": {},
     "output_type": "execute_result"
    }
   ],
   "source": [
    "predictor.leaderboard(silent=True)"
   ]
  },
  {
   "cell_type": "code",
   "execution_count": 335,
   "id": "7c18d0a1",
   "metadata": {},
   "outputs": [],
   "source": [
    "# save_path = 'model_multimodels'\n",
    "# time_limit = 60\n",
    "# label = \"properties.sentiment\"\n",
    "# columns = [\"content.body\", \"properties.sentiment\"]\n",
    "\n",
    "# text_predictor = TabularPredictor(label=label, path=save_path, problem_type=\"multiclass\").fit(test_data, time_limit=time_limit)"
   ]
  },
  {
   "cell_type": "code",
   "execution_count": 336,
   "id": "b0dfa277",
   "metadata": {},
   "outputs": [],
   "source": [
    "# from autogluon.multimodal import MultiModalPredictor\n",
    "# from autogluon.core.utils.loaders import load_pd"
   ]
  },
  {
   "cell_type": "markdown",
   "id": "e7a34243",
   "metadata": {},
   "source": [
    "## Model Evaluation"
   ]
  },
  {
   "cell_type": "markdown",
   "id": "eef3fbdf",
   "metadata": {},
   "source": [
    "### Features Importance"
   ]
  },
  {
   "cell_type": "code",
   "execution_count": 339,
   "id": "86288052",
   "metadata": {},
   "outputs": [],
   "source": [
    "y_test = test_data[label]  # values to predict\n",
    "test_data_nolab = test_data.drop(columns=[label])  # delete label column to prove we're not cheating"
   ]
  },
  {
   "cell_type": "code",
   "execution_count": 340,
   "id": "a47dbf37",
   "metadata": {},
   "outputs": [
    {
     "data": {
      "text/html": [
       "<div>\n",
       "<style scoped>\n",
       "    .dataframe tbody tr th:only-of-type {\n",
       "        vertical-align: middle;\n",
       "    }\n",
       "\n",
       "    .dataframe tbody tr th {\n",
       "        vertical-align: top;\n",
       "    }\n",
       "\n",
       "    .dataframe thead th {\n",
       "        text-align: right;\n",
       "    }\n",
       "</style>\n",
       "<table border=\"1\" class=\"dataframe\">\n",
       "  <thead>\n",
       "    <tr style=\"text-align: right;\">\n",
       "      <th></th>\n",
       "      <th>author.properties.friends</th>\n",
       "      <th>author.properties.status_count</th>\n",
       "      <th>author.properties.verified</th>\n",
       "      <th>content.body</th>\n",
       "      <th>location.country</th>\n",
       "      <th>properties.platform</th>\n",
       "      <th>location.latitude</th>\n",
       "      <th>location.longitude</th>\n",
       "    </tr>\n",
       "  </thead>\n",
       "  <tbody>\n",
       "    <tr>\n",
       "      <th>1376</th>\n",
       "      <td>282</td>\n",
       "      <td>2085.00</td>\n",
       "      <td>False</td>\n",
       "      <td>@Donforester Many established 1st generation immigrants want to restrict immigration. Many 2nd generation eg Irish more welcoming</td>\n",
       "      <td>GB</td>\n",
       "      <td>twitter</td>\n",
       "      <td>53.42</td>\n",
       "      <td>-2.92</td>\n",
       "    </tr>\n",
       "    <tr>\n",
       "      <th>932</th>\n",
       "      <td>51</td>\n",
       "      <td>12533.00</td>\n",
       "      <td>False</td>\n",
       "      <td>@smollyalexander thank u hunty</td>\n",
       "      <td>GB</td>\n",
       "      <td>twitter</td>\n",
       "      <td>53.37</td>\n",
       "      <td>-2.17</td>\n",
       "    </tr>\n",
       "    <tr>\n",
       "      <th>144</th>\n",
       "      <td>931</td>\n",
       "      <td>307.00</td>\n",
       "      <td>False</td>\n",
       "      <td>Hedge removal part one...!! @ Dalkeith https://t.co/slEBFhE0w9</td>\n",
       "      <td>GB</td>\n",
       "      <td>twitter</td>\n",
       "      <td>55.87</td>\n",
       "      <td>-3.07</td>\n",
       "    </tr>\n",
       "    <tr>\n",
       "      <th>1753</th>\n",
       "      <td>458</td>\n",
       "      <td>966.00</td>\n",
       "      <td>False</td>\n",
       "      <td>https://t.co/dvUtHRAPG4</td>\n",
       "      <td>GB</td>\n",
       "      <td>twitter</td>\n",
       "      <td>50.96</td>\n",
       "      <td>-0.56</td>\n",
       "    </tr>\n",
       "    <tr>\n",
       "      <th>51</th>\n",
       "      <td>680</td>\n",
       "      <td>3691.00</td>\n",
       "      <td>False</td>\n",
       "      <td>@MargevonMarge Blimey. You still haven't served enough time here? #EUref #Remain</td>\n",
       "      <td>GB</td>\n",
       "      <td>twitter</td>\n",
       "      <td>53.55</td>\n",
       "      <td>-0.66</td>\n",
       "    </tr>\n",
       "  </tbody>\n",
       "</table>\n",
       "</div>"
      ],
      "text/plain": [
       "     author.properties.friends  author.properties.status_count  \\\n",
       "1376                       282                         2085.00   \n",
       "932                         51                        12533.00   \n",
       "144                        931                          307.00   \n",
       "1753                       458                          966.00   \n",
       "51                         680                         3691.00   \n",
       "\n",
       "     author.properties.verified  \\\n",
       "1376                      False   \n",
       "932                       False   \n",
       "144                       False   \n",
       "1753                      False   \n",
       "51                        False   \n",
       "\n",
       "                                                                                                                           content.body  \\\n",
       "1376  @Donforester Many established 1st generation immigrants want to restrict immigration. Many 2nd generation eg Irish more welcoming   \n",
       "932                                                                                                      @smollyalexander thank u hunty   \n",
       "144                                                                      Hedge removal part one...!! @ Dalkeith https://t.co/slEBFhE0w9   \n",
       "1753                                                                                                            https://t.co/dvUtHRAPG4   \n",
       "51                                                     @MargevonMarge Blimey. You still haven't served enough time here? #EUref #Remain   \n",
       "\n",
       "     location.country properties.platform  location.latitude  \\\n",
       "1376               GB             twitter              53.42   \n",
       "932                GB             twitter              53.37   \n",
       "144                GB             twitter              55.87   \n",
       "1753               GB             twitter              50.96   \n",
       "51                 GB             twitter              53.55   \n",
       "\n",
       "      location.longitude  \n",
       "1376               -2.92  \n",
       "932                -2.17  \n",
       "144                -3.07  \n",
       "1753               -0.56  \n",
       "51                 -0.66  "
      ]
     },
     "execution_count": 340,
     "metadata": {},
     "output_type": "execute_result"
    }
   ],
   "source": [
    "test_data_nolab.head()"
   ]
  },
  {
   "cell_type": "code",
   "execution_count": 341,
   "id": "ea8eee9b",
   "metadata": {},
   "outputs": [],
   "source": [
    "save_model_predictor = TabularPredictor.load(save_path)"
   ]
  },
  {
   "cell_type": "code",
   "execution_count": 342,
   "id": "78fed4c6",
   "metadata": {},
   "outputs": [],
   "source": [
    "y_pred = save_model_predictor.predict(test_data_nolab)"
   ]
  },
  {
   "cell_type": "code",
   "execution_count": 343,
   "id": "6e3563f5",
   "metadata": {},
   "outputs": [],
   "source": [
    "y_pred_proba = save_model_predictor.predict_proba(test_data_nolab)"
   ]
  },
  {
   "cell_type": "code",
   "execution_count": 344,
   "id": "2744e3e8",
   "metadata": {},
   "outputs": [
    {
     "data": {
      "text/html": [
       "<div>\n",
       "<style scoped>\n",
       "    .dataframe tbody tr th:only-of-type {\n",
       "        vertical-align: middle;\n",
       "    }\n",
       "\n",
       "    .dataframe tbody tr th {\n",
       "        vertical-align: top;\n",
       "    }\n",
       "\n",
       "    .dataframe thead th {\n",
       "        text-align: right;\n",
       "    }\n",
       "</style>\n",
       "<table border=\"1\" class=\"dataframe\">\n",
       "  <thead>\n",
       "    <tr style=\"text-align: right;\">\n",
       "      <th></th>\n",
       "      <th>-1.00</th>\n",
       "      <th>0.00</th>\n",
       "      <th>1.00</th>\n",
       "    </tr>\n",
       "  </thead>\n",
       "  <tbody>\n",
       "    <tr>\n",
       "      <th>1850</th>\n",
       "      <td>0.49</td>\n",
       "      <td>0.22</td>\n",
       "      <td>0.29</td>\n",
       "    </tr>\n",
       "    <tr>\n",
       "      <th>416</th>\n",
       "      <td>0.51</td>\n",
       "      <td>0.22</td>\n",
       "      <td>0.27</td>\n",
       "    </tr>\n",
       "    <tr>\n",
       "      <th>2861</th>\n",
       "      <td>0.46</td>\n",
       "      <td>0.32</td>\n",
       "      <td>0.21</td>\n",
       "    </tr>\n",
       "    <tr>\n",
       "      <th>2712</th>\n",
       "      <td>0.45</td>\n",
       "      <td>0.20</td>\n",
       "      <td>0.36</td>\n",
       "    </tr>\n",
       "    <tr>\n",
       "      <th>1041</th>\n",
       "      <td>0.52</td>\n",
       "      <td>0.22</td>\n",
       "      <td>0.26</td>\n",
       "    </tr>\n",
       "  </tbody>\n",
       "</table>\n",
       "</div>"
      ],
      "text/plain": [
       "      -1.00  0.00   1.00 \n",
       "1850   0.49   0.22   0.29\n",
       "416    0.51   0.22   0.27\n",
       "2861   0.46   0.32   0.21\n",
       "2712   0.45   0.20   0.36\n",
       "1041   0.52   0.22   0.26"
      ]
     },
     "execution_count": 344,
     "metadata": {},
     "output_type": "execute_result"
    }
   ],
   "source": [
    "y_pred_proba[10:15]"
   ]
  },
  {
   "cell_type": "code",
   "execution_count": 345,
   "id": "4badcfbb",
   "metadata": {},
   "outputs": [
    {
     "data": {
      "text/plain": [
       "1850   -1.00\n",
       "416    -1.00\n",
       "2861   -1.00\n",
       "2712   -1.00\n",
       "1041   -1.00\n",
       "Name: properties.sentiment, dtype: float64"
      ]
     },
     "execution_count": 345,
     "metadata": {},
     "output_type": "execute_result"
    }
   ],
   "source": [
    "y_pred[10:15]"
   ]
  },
  {
   "cell_type": "code",
   "execution_count": 346,
   "id": "ff58e394",
   "metadata": {},
   "outputs": [
    {
     "data": {
      "text/plain": [
       "1850   -1.00\n",
       "416     1.00\n",
       "2861   -1.00\n",
       "2712    1.00\n",
       "1041   -1.00\n",
       "Name: properties.sentiment, dtype: float64"
      ]
     },
     "execution_count": 346,
     "metadata": {},
     "output_type": "execute_result"
    }
   ],
   "source": [
    "y_test[10:15]"
   ]
  },
  {
   "cell_type": "code",
   "execution_count": 348,
   "id": "11fd6403",
   "metadata": {},
   "outputs": [
    {
     "name": "stderr",
     "output_type": "stream",
     "text": [
      "Evaluation: accuracy on test data: 0.7282828282828283\n",
      "Evaluations on test data:\n",
      "{\n",
      "    \"accuracy\": 0.7282828282828283,\n",
      "    \"balanced_accuracy\": 0.6635802469135802,\n",
      "    \"mcc\": 0.5675149797250443\n",
      "}\n"
     ]
    }
   ],
   "source": [
    " #print(\"Predictions:  \\n\", y_pred)\n",
    "perf = predictor.evaluate_predictions(y_true=y_test, y_pred=y_pred_proba) # , auxiliary_metrics=True)\n",
    "# perf = predictor.evaluate_predictions(y_true=y_test, y_pred=y_pred, multiclass=False)"
   ]
  },
  {
   "cell_type": "code",
   "execution_count": 349,
   "id": "a1880417",
   "metadata": {},
   "outputs": [
    {
     "data": {
      "text/html": [
       "<div>\n",
       "<style scoped>\n",
       "    .dataframe tbody tr th:only-of-type {\n",
       "        vertical-align: middle;\n",
       "    }\n",
       "\n",
       "    .dataframe tbody tr th {\n",
       "        vertical-align: top;\n",
       "    }\n",
       "\n",
       "    .dataframe thead th {\n",
       "        text-align: right;\n",
       "    }\n",
       "</style>\n",
       "<table border=\"1\" class=\"dataframe\">\n",
       "  <thead>\n",
       "    <tr style=\"text-align: right;\">\n",
       "      <th></th>\n",
       "      <th>model</th>\n",
       "      <th>score_test</th>\n",
       "      <th>score_val</th>\n",
       "      <th>pred_time_test</th>\n",
       "      <th>pred_time_val</th>\n",
       "      <th>fit_time</th>\n",
       "      <th>pred_time_test_marginal</th>\n",
       "      <th>pred_time_val_marginal</th>\n",
       "      <th>fit_time_marginal</th>\n",
       "      <th>stack_level</th>\n",
       "      <th>can_infer</th>\n",
       "      <th>fit_order</th>\n",
       "    </tr>\n",
       "  </thead>\n",
       "  <tbody>\n",
       "    <tr>\n",
       "      <th>0</th>\n",
       "      <td>RandomForestEntr</td>\n",
       "      <td>0.92</td>\n",
       "      <td>0.61</td>\n",
       "      <td>0.31</td>\n",
       "      <td>0.21</td>\n",
       "      <td>1.78</td>\n",
       "      <td>0.31</td>\n",
       "      <td>0.21</td>\n",
       "      <td>1.78</td>\n",
       "      <td>1</td>\n",
       "      <td>True</td>\n",
       "      <td>7</td>\n",
       "    </tr>\n",
       "    <tr>\n",
       "      <th>1</th>\n",
       "      <td>ExtraTreesEntr</td>\n",
       "      <td>0.92</td>\n",
       "      <td>0.60</td>\n",
       "      <td>0.28</td>\n",
       "      <td>0.26</td>\n",
       "      <td>1.83</td>\n",
       "      <td>0.28</td>\n",
       "      <td>0.26</td>\n",
       "      <td>1.83</td>\n",
       "      <td>1</td>\n",
       "      <td>True</td>\n",
       "      <td>10</td>\n",
       "    </tr>\n",
       "    <tr>\n",
       "      <th>2</th>\n",
       "      <td>RandomForestGini</td>\n",
       "      <td>0.92</td>\n",
       "      <td>0.59</td>\n",
       "      <td>0.33</td>\n",
       "      <td>0.18</td>\n",
       "      <td>1.97</td>\n",
       "      <td>0.33</td>\n",
       "      <td>0.18</td>\n",
       "      <td>1.97</td>\n",
       "      <td>1</td>\n",
       "      <td>True</td>\n",
       "      <td>6</td>\n",
       "    </tr>\n",
       "    <tr>\n",
       "      <th>3</th>\n",
       "      <td>ExtraTreesGini</td>\n",
       "      <td>0.92</td>\n",
       "      <td>0.59</td>\n",
       "      <td>0.28</td>\n",
       "      <td>0.19</td>\n",
       "      <td>1.62</td>\n",
       "      <td>0.28</td>\n",
       "      <td>0.19</td>\n",
       "      <td>1.62</td>\n",
       "      <td>1</td>\n",
       "      <td>True</td>\n",
       "      <td>9</td>\n",
       "    </tr>\n",
       "    <tr>\n",
       "      <th>4</th>\n",
       "      <td>KNeighborsDist</td>\n",
       "      <td>0.88</td>\n",
       "      <td>0.38</td>\n",
       "      <td>0.03</td>\n",
       "      <td>0.01</td>\n",
       "      <td>0.04</td>\n",
       "      <td>0.03</td>\n",
       "      <td>0.01</td>\n",
       "      <td>0.04</td>\n",
       "      <td>1</td>\n",
       "      <td>True</td>\n",
       "      <td>2</td>\n",
       "    </tr>\n",
       "    <tr>\n",
       "      <th>5</th>\n",
       "      <td>LightGBM</td>\n",
       "      <td>0.80</td>\n",
       "      <td>0.61</td>\n",
       "      <td>0.04</td>\n",
       "      <td>0.01</td>\n",
       "      <td>2.68</td>\n",
       "      <td>0.04</td>\n",
       "      <td>0.01</td>\n",
       "      <td>2.68</td>\n",
       "      <td>1</td>\n",
       "      <td>True</td>\n",
       "      <td>5</td>\n",
       "    </tr>\n",
       "    <tr>\n",
       "      <th>6</th>\n",
       "      <td>XGBoost</td>\n",
       "      <td>0.74</td>\n",
       "      <td>0.60</td>\n",
       "      <td>0.07</td>\n",
       "      <td>0.02</td>\n",
       "      <td>3.75</td>\n",
       "      <td>0.07</td>\n",
       "      <td>0.02</td>\n",
       "      <td>3.75</td>\n",
       "      <td>1</td>\n",
       "      <td>True</td>\n",
       "      <td>11</td>\n",
       "    </tr>\n",
       "    <tr>\n",
       "      <th>7</th>\n",
       "      <td>WeightedEnsemble_L2</td>\n",
       "      <td>0.73</td>\n",
       "      <td>0.65</td>\n",
       "      <td>0.23</td>\n",
       "      <td>0.09</td>\n",
       "      <td>37.79</td>\n",
       "      <td>0.01</td>\n",
       "      <td>0.00</td>\n",
       "      <td>1.75</td>\n",
       "      <td>2</td>\n",
       "      <td>True</td>\n",
       "      <td>13</td>\n",
       "    </tr>\n",
       "    <tr>\n",
       "      <th>8</th>\n",
       "      <td>LightGBMXT</td>\n",
       "      <td>0.72</td>\n",
       "      <td>0.61</td>\n",
       "      <td>0.05</td>\n",
       "      <td>0.02</td>\n",
       "      <td>6.65</td>\n",
       "      <td>0.05</td>\n",
       "      <td>0.02</td>\n",
       "      <td>6.65</td>\n",
       "      <td>1</td>\n",
       "      <td>True</td>\n",
       "      <td>4</td>\n",
       "    </tr>\n",
       "    <tr>\n",
       "      <th>9</th>\n",
       "      <td>CatBoost</td>\n",
       "      <td>0.70</td>\n",
       "      <td>0.62</td>\n",
       "      <td>0.05</td>\n",
       "      <td>0.02</td>\n",
       "      <td>27.43</td>\n",
       "      <td>0.05</td>\n",
       "      <td>0.02</td>\n",
       "      <td>27.43</td>\n",
       "      <td>1</td>\n",
       "      <td>True</td>\n",
       "      <td>8</td>\n",
       "    </tr>\n",
       "    <tr>\n",
       "      <th>10</th>\n",
       "      <td>NeuralNetFastAI</td>\n",
       "      <td>0.65</td>\n",
       "      <td>0.59</td>\n",
       "      <td>0.10</td>\n",
       "      <td>0.05</td>\n",
       "      <td>4.87</td>\n",
       "      <td>0.10</td>\n",
       "      <td>0.05</td>\n",
       "      <td>4.87</td>\n",
       "      <td>1</td>\n",
       "      <td>True</td>\n",
       "      <td>3</td>\n",
       "    </tr>\n",
       "    <tr>\n",
       "      <th>11</th>\n",
       "      <td>NeuralNetTorch</td>\n",
       "      <td>0.58</td>\n",
       "      <td>0.56</td>\n",
       "      <td>0.12</td>\n",
       "      <td>0.06</td>\n",
       "      <td>3.68</td>\n",
       "      <td>0.12</td>\n",
       "      <td>0.06</td>\n",
       "      <td>3.68</td>\n",
       "      <td>1</td>\n",
       "      <td>True</td>\n",
       "      <td>12</td>\n",
       "    </tr>\n",
       "    <tr>\n",
       "      <th>12</th>\n",
       "      <td>KNeighborsUnif</td>\n",
       "      <td>0.57</td>\n",
       "      <td>0.45</td>\n",
       "      <td>0.03</td>\n",
       "      <td>0.05</td>\n",
       "      <td>0.08</td>\n",
       "      <td>0.03</td>\n",
       "      <td>0.05</td>\n",
       "      <td>0.08</td>\n",
       "      <td>1</td>\n",
       "      <td>True</td>\n",
       "      <td>1</td>\n",
       "    </tr>\n",
       "  </tbody>\n",
       "</table>\n",
       "</div>"
      ],
      "text/plain": [
       "                  model  score_test  score_val  pred_time_test  pred_time_val  \\\n",
       "0      RandomForestEntr        0.92       0.61            0.31           0.21   \n",
       "1        ExtraTreesEntr        0.92       0.60            0.28           0.26   \n",
       "2      RandomForestGini        0.92       0.59            0.33           0.18   \n",
       "3        ExtraTreesGini        0.92       0.59            0.28           0.19   \n",
       "4        KNeighborsDist        0.88       0.38            0.03           0.01   \n",
       "5              LightGBM        0.80       0.61            0.04           0.01   \n",
       "6               XGBoost        0.74       0.60            0.07           0.02   \n",
       "7   WeightedEnsemble_L2        0.73       0.65            0.23           0.09   \n",
       "8            LightGBMXT        0.72       0.61            0.05           0.02   \n",
       "9              CatBoost        0.70       0.62            0.05           0.02   \n",
       "10      NeuralNetFastAI        0.65       0.59            0.10           0.05   \n",
       "11       NeuralNetTorch        0.58       0.56            0.12           0.06   \n",
       "12       KNeighborsUnif        0.57       0.45            0.03           0.05   \n",
       "\n",
       "    fit_time  pred_time_test_marginal  pred_time_val_marginal  \\\n",
       "0       1.78                     0.31                    0.21   \n",
       "1       1.83                     0.28                    0.26   \n",
       "2       1.97                     0.33                    0.18   \n",
       "3       1.62                     0.28                    0.19   \n",
       "4       0.04                     0.03                    0.01   \n",
       "5       2.68                     0.04                    0.01   \n",
       "6       3.75                     0.07                    0.02   \n",
       "7      37.79                     0.01                    0.00   \n",
       "8       6.65                     0.05                    0.02   \n",
       "9      27.43                     0.05                    0.02   \n",
       "10      4.87                     0.10                    0.05   \n",
       "11      3.68                     0.12                    0.06   \n",
       "12      0.08                     0.03                    0.05   \n",
       "\n",
       "    fit_time_marginal  stack_level  can_infer  fit_order  \n",
       "0                1.78            1       True          7  \n",
       "1                1.83            1       True         10  \n",
       "2                1.97            1       True          6  \n",
       "3                1.62            1       True          9  \n",
       "4                0.04            1       True          2  \n",
       "5                2.68            1       True          5  \n",
       "6                3.75            1       True         11  \n",
       "7                1.75            2       True         13  \n",
       "8                6.65            1       True          4  \n",
       "9               27.43            1       True          8  \n",
       "10               4.87            1       True          3  \n",
       "11               3.68            1       True         12  \n",
       "12               0.08            1       True          1  "
      ]
     },
     "execution_count": 349,
     "metadata": {},
     "output_type": "execute_result"
    }
   ],
   "source": [
    "save_model_predictor.leaderboard(test_data, silent=True)"
   ]
  },
  {
   "cell_type": "code",
   "execution_count": 350,
   "id": "d901a82f",
   "metadata": {},
   "outputs": [],
   "source": [
    "test_data[\"predicted_properties.sentiment\"] = y_pred"
   ]
  },
  {
   "cell_type": "code",
   "execution_count": 351,
   "id": "e881965a",
   "metadata": {},
   "outputs": [
    {
     "data": {
      "text/html": [
       "<div>\n",
       "<style scoped>\n",
       "    .dataframe tbody tr th:only-of-type {\n",
       "        vertical-align: middle;\n",
       "    }\n",
       "\n",
       "    .dataframe tbody tr th {\n",
       "        vertical-align: top;\n",
       "    }\n",
       "\n",
       "    .dataframe thead th {\n",
       "        text-align: right;\n",
       "    }\n",
       "</style>\n",
       "<table border=\"1\" class=\"dataframe\">\n",
       "  <thead>\n",
       "    <tr style=\"text-align: right;\">\n",
       "      <th></th>\n",
       "      <th>author.properties.friends</th>\n",
       "      <th>author.properties.status_count</th>\n",
       "      <th>author.properties.verified</th>\n",
       "      <th>content.body</th>\n",
       "      <th>location.country</th>\n",
       "      <th>properties.platform</th>\n",
       "      <th>properties.sentiment</th>\n",
       "      <th>location.latitude</th>\n",
       "      <th>location.longitude</th>\n",
       "      <th>predicted_properties.sentiment</th>\n",
       "    </tr>\n",
       "  </thead>\n",
       "  <tbody>\n",
       "    <tr>\n",
       "      <th>1376</th>\n",
       "      <td>282</td>\n",
       "      <td>2085.00</td>\n",
       "      <td>False</td>\n",
       "      <td>@Donforester Many established 1st generation immigrants want to restrict immigration. Many 2nd generation eg Irish more welcoming</td>\n",
       "      <td>GB</td>\n",
       "      <td>twitter</td>\n",
       "      <td>0.00</td>\n",
       "      <td>53.42</td>\n",
       "      <td>-2.92</td>\n",
       "      <td>-1.00</td>\n",
       "    </tr>\n",
       "    <tr>\n",
       "      <th>932</th>\n",
       "      <td>51</td>\n",
       "      <td>12533.00</td>\n",
       "      <td>False</td>\n",
       "      <td>@smollyalexander thank u hunty</td>\n",
       "      <td>GB</td>\n",
       "      <td>twitter</td>\n",
       "      <td>1.00</td>\n",
       "      <td>53.37</td>\n",
       "      <td>-2.17</td>\n",
       "      <td>-1.00</td>\n",
       "    </tr>\n",
       "    <tr>\n",
       "      <th>144</th>\n",
       "      <td>931</td>\n",
       "      <td>307.00</td>\n",
       "      <td>False</td>\n",
       "      <td>Hedge removal part one...!! @ Dalkeith https://t.co/slEBFhE0w9</td>\n",
       "      <td>GB</td>\n",
       "      <td>twitter</td>\n",
       "      <td>-1.00</td>\n",
       "      <td>55.87</td>\n",
       "      <td>-3.07</td>\n",
       "      <td>-1.00</td>\n",
       "    </tr>\n",
       "    <tr>\n",
       "      <th>1753</th>\n",
       "      <td>458</td>\n",
       "      <td>966.00</td>\n",
       "      <td>False</td>\n",
       "      <td>https://t.co/dvUtHRAPG4</td>\n",
       "      <td>GB</td>\n",
       "      <td>twitter</td>\n",
       "      <td>0.00</td>\n",
       "      <td>50.96</td>\n",
       "      <td>-0.56</td>\n",
       "      <td>0.00</td>\n",
       "    </tr>\n",
       "    <tr>\n",
       "      <th>51</th>\n",
       "      <td>680</td>\n",
       "      <td>3691.00</td>\n",
       "      <td>False</td>\n",
       "      <td>@MargevonMarge Blimey. You still haven't served enough time here? #EUref #Remain</td>\n",
       "      <td>GB</td>\n",
       "      <td>twitter</td>\n",
       "      <td>-1.00</td>\n",
       "      <td>53.55</td>\n",
       "      <td>-0.66</td>\n",
       "      <td>-1.00</td>\n",
       "    </tr>\n",
       "  </tbody>\n",
       "</table>\n",
       "</div>"
      ],
      "text/plain": [
       "     author.properties.friends  author.properties.status_count  \\\n",
       "1376                       282                         2085.00   \n",
       "932                         51                        12533.00   \n",
       "144                        931                          307.00   \n",
       "1753                       458                          966.00   \n",
       "51                         680                         3691.00   \n",
       "\n",
       "     author.properties.verified  \\\n",
       "1376                      False   \n",
       "932                       False   \n",
       "144                       False   \n",
       "1753                      False   \n",
       "51                        False   \n",
       "\n",
       "                                                                                                                           content.body  \\\n",
       "1376  @Donforester Many established 1st generation immigrants want to restrict immigration. Many 2nd generation eg Irish more welcoming   \n",
       "932                                                                                                      @smollyalexander thank u hunty   \n",
       "144                                                                      Hedge removal part one...!! @ Dalkeith https://t.co/slEBFhE0w9   \n",
       "1753                                                                                                            https://t.co/dvUtHRAPG4   \n",
       "51                                                     @MargevonMarge Blimey. You still haven't served enough time here? #EUref #Remain   \n",
       "\n",
       "     location.country properties.platform  properties.sentiment  \\\n",
       "1376               GB             twitter                  0.00   \n",
       "932                GB             twitter                  1.00   \n",
       "144                GB             twitter                 -1.00   \n",
       "1753               GB             twitter                  0.00   \n",
       "51                 GB             twitter                 -1.00   \n",
       "\n",
       "      location.latitude  location.longitude  predicted_properties.sentiment  \n",
       "1376              53.42               -2.92                           -1.00  \n",
       "932               53.37               -2.17                           -1.00  \n",
       "144               55.87               -3.07                           -1.00  \n",
       "1753              50.96               -0.56                            0.00  \n",
       "51                53.55               -0.66                           -1.00  "
      ]
     },
     "execution_count": 351,
     "metadata": {},
     "output_type": "execute_result"
    }
   ],
   "source": [
    "test_data.head()"
   ]
  },
  {
   "cell_type": "markdown",
   "id": "0c8eb32a",
   "metadata": {},
   "source": [
    "### Data Visualisation"
   ]
  },
  {
   "cell_type": "code",
   "execution_count": 352,
   "id": "6f3d77a5",
   "metadata": {},
   "outputs": [],
   "source": [
    "# !pip install -U seaborn"
   ]
  },
  {
   "cell_type": "code",
   "execution_count": 353,
   "id": "329a7925",
   "metadata": {},
   "outputs": [
    {
     "data": {
      "image/png": "[encoded data removed]",
      "text/plain": [
       "<Figure size 640x480 with 1 Axes>"
      ]
     },
     "metadata": {},
     "output_type": "display_data"
    },
    {
     "data": {
      "text/plain": [
       "<Figure size 640x480 with 0 Axes>"
      ]
     },
     "metadata": {},
     "output_type": "display_data"
    }
   ],
   "source": [
    "sns.countplot(x = 'properties.sentiment',data = df)\n",
    "plt.show()\n",
    "plt.savefig(\"image\\sentiment.png\")"
   ]
  },
  {
   "cell_type": "code",
   "execution_count": 354,
   "id": "d42c630c",
   "metadata": {},
   "outputs": [
    {
     "data": {
      "image/png": "[encoded data removed]",
      "text/plain": [
       "<Figure size 640x480 with 1 Axes>"
      ]
     },
     "metadata": {},
     "output_type": "display_data"
    },
    {
     "data": {
      "text/plain": [
       "<Figure size 640x480 with 0 Axes>"
      ]
     },
     "metadata": {},
     "output_type": "display_data"
    }
   ],
   "source": [
    "# count plot properties.sentiment and author.properties.verified\n",
    "sns.countplot(x='properties.sentiment',hue='author.properties.verified',data=df)\n",
    "plt.show()\n",
    "plt.savefig(\"image\\properties.png\")"
   ]
  },
  {
   "cell_type": "code",
   "execution_count": 355,
   "id": "6fa941be",
   "metadata": {},
   "outputs": [
    {
     "data": {
      "image/png": "[encoded data removed]",
      "text/plain": [
       "<Figure size 1000x600 with 1 Axes>"
      ]
     },
     "metadata": {},
     "output_type": "display_data"
    }
   ],
   "source": [
    "fig, ax = plt.subplots(figsize=(10, 6))\n",
    "ax.plot(df[\"author.properties.friends\"], df[\"properties.sentiment\"])\n",
    "plt.savefig(\"image/author properties against properties sentiments plot.png\")"
   ]
  },
  {
   "cell_type": "code",
   "execution_count": 368,
   "id": "36cac6b1",
   "metadata": {},
   "outputs": [],
   "source": [
    "# get the location where sentiments on properties were sampled\n",
    "location_data = df[['location.latitude','location.longitude']]\n",
    "area_map =  folium.Map(location=[58.17,1.40], zoom_start=10)\n",
    "heat_map_data = [[row['location.latitude'],row['location.longitude']] for index, row in location_data.iterrows()]"
   ]
  },
  {
   "cell_type": "code",
   "execution_count": 370,
   "id": "d167113e",
   "metadata": {},
   "outputs": [
    {
     "data": {
      "text/plain": [
       "<folium.plugins.heat_map.HeatMap at 0x1dc84360dc0>"
      ]
     },
     "execution_count": 370,
     "metadata": {},
     "output_type": "execute_result"
    }
   ],
   "source": [
    "from folium.plugins import HeatMap\n",
    "# display map\n",
    "HeatMap(heat_map_data, radius=10).add_to(area_map)"
   ]
  },
  {
   "cell_type": "code",
   "execution_count": 372,
   "id": "26011536",
   "metadata": {},
   "outputs": [],
   "source": [
    "#display the map\n",
    "area_map;"
   ]
  },
  {
   "cell_type": "markdown",
   "id": "93d5c3e0",
   "metadata": {},
   "source": [
    "###  Using input for prediction"
   ]
  },
  {
   "cell_type": "code",
   "execution_count": 356,
   "id": "d33017a9",
   "metadata": {},
   "outputs": [
    {
     "data": {
      "text/html": [
       "<div>\n",
       "<style scoped>\n",
       "    .dataframe tbody tr th:only-of-type {\n",
       "        vertical-align: middle;\n",
       "    }\n",
       "\n",
       "    .dataframe tbody tr th {\n",
       "        vertical-align: top;\n",
       "    }\n",
       "\n",
       "    .dataframe thead th {\n",
       "        text-align: right;\n",
       "    }\n",
       "</style>\n",
       "<table border=\"1\" class=\"dataframe\">\n",
       "  <thead>\n",
       "    <tr style=\"text-align: right;\">\n",
       "      <th></th>\n",
       "      <th>author.properties.friends</th>\n",
       "      <th>author.properties.status_count</th>\n",
       "      <th>author.properties.verified</th>\n",
       "      <th>content.body</th>\n",
       "      <th>location.country</th>\n",
       "      <th>properties.platform</th>\n",
       "      <th>properties.sentiment</th>\n",
       "      <th>location.latitude</th>\n",
       "      <th>location.longitude</th>\n",
       "    </tr>\n",
       "  </thead>\n",
       "  <tbody>\n",
       "    <tr>\n",
       "      <th>0</th>\n",
       "      <td>1689</td>\n",
       "      <td>22566.00</td>\n",
       "      <td>False</td>\n",
       "      <td>Can't believe I'm missing Love Island 😩</td>\n",
       "      <td>GB</td>\n",
       "      <td>twitter</td>\n",
       "      <td>1.00</td>\n",
       "      <td>51.57</td>\n",
       "      <td>0.46</td>\n",
       "    </tr>\n",
       "  </tbody>\n",
       "</table>\n",
       "</div>"
      ],
      "text/plain": [
       "  author.properties.friends  author.properties.status_count  \\\n",
       "0                      1689                        22566.00   \n",
       "\n",
       "  author.properties.verified                             content.body  \\\n",
       "0                      False  Can't believe I'm missing Love Island 😩   \n",
       "\n",
       "  location.country properties.platform  properties.sentiment  \\\n",
       "0               GB             twitter                  1.00   \n",
       "\n",
       "   location.latitude  location.longitude  \n",
       "0              51.57                0.46  "
      ]
     },
     "execution_count": 356,
     "metadata": {},
     "output_type": "execute_result"
    }
   ],
   "source": [
    "df.head(1)"
   ]
  },
  {
   "cell_type": "code",
   "execution_count": 357,
   "id": "afbec219",
   "metadata": {},
   "outputs": [],
   "source": [
    "# df[\"properties\"].unique()"
   ]
  },
  {
   "cell_type": "code",
   "execution_count": 358,
   "id": "1510b93f",
   "metadata": {},
   "outputs": [
    {
     "data": {
      "text/plain": [
       "array([\"Can't believe I'm missing Love Island 😩\",\n",
       "       \"Last tweet about future wedding..... if I actually want a wedding I actually need to find a guy XD we all know I'm a loner. unlovable\",\n",
       "       'How many times does he wonna say the phrase \"i deal with shit\" #LoveIsland',\n",
       "       ..., '#NP Shola Ama - Loving My Baby',\n",
       "       'Could not have had a worse couple days. Failed MOT, lost my passport, and now just found out I sent £300 for my Napa Accom to the wrong acc.',\n",
       "       \"@FHPReading Hi guys, we're from Reading and would love to take your branding to a new level. Get in touch and we'll chat more! #snapchat\"],\n",
       "      dtype=object)"
      ]
     },
     "execution_count": 358,
     "metadata": {},
     "output_type": "execute_result"
    }
   ],
   "source": [
    "df[\"content.body\"].unique()"
   ]
  },
  {
   "cell_type": "code",
   "execution_count": 359,
   "id": "234ed743",
   "metadata": {},
   "outputs": [
    {
     "data": {
      "text/plain": [
       "array([ 1., -1.,  0.])"
      ]
     },
     "execution_count": 359,
     "metadata": {},
     "output_type": "execute_result"
    }
   ],
   "source": [
    "df[\"properties.sentiment\"].unique()"
   ]
  },
  {
   "cell_type": "markdown",
   "id": "61397a12",
   "metadata": {},
   "source": [
    "### Creating Sample Input"
   ]
  },
  {
   "cell_type": "code",
   "execution_count": 360,
   "id": "235e2e90",
   "metadata": {},
   "outputs": [],
   "source": [
    "input_data_dict = {\n",
    "    \n",
    "    \"author.properties.friends\": 114,\n",
    "    \"author.properties.status_count\": 1377,\n",
    "    \"author.properties.verified\": \"True\",\n",
    "    \"content.body\": \"Can't believe I'm missing Love Island 😩\",\n",
    "    \"location.country\": 'GG',\n",
    "    \"properties.platform\": 'twitter',\n",
    "    \"location.latitude\": 52.96974444,\n",
    "    \"location.longitude\": -1.172266\n",
    "    \n",
    "}"
   ]
  },
  {
   "cell_type": "code",
   "execution_count": 361,
   "id": "f450cbb6",
   "metadata": {},
   "outputs": [
    {
     "data": {
      "text/plain": [
       "{'author.properties.friends': 114,\n",
       " 'author.properties.status_count': 1377,\n",
       " 'author.properties.verified': 'True',\n",
       " 'content.body': \"Can't believe I'm missing Love Island 😩\",\n",
       " 'location.country': 'GG',\n",
       " 'properties.platform': 'twitter',\n",
       " 'location.latitude': 52.96974444,\n",
       " 'location.longitude': -1.172266}"
      ]
     },
     "execution_count": 361,
     "metadata": {},
     "output_type": "execute_result"
    }
   ],
   "source": [
    "input_data_dict"
   ]
  },
  {
   "cell_type": "code",
   "execution_count": 362,
   "id": "663aabf1",
   "metadata": {},
   "outputs": [],
   "source": [
    "input_data = pd.DataFrame([input_data_dict])"
   ]
  },
  {
   "cell_type": "code",
   "execution_count": 363,
   "id": "d6f84c89",
   "metadata": {},
   "outputs": [
    {
     "data": {
      "text/html": [
       "<div>\n",
       "<style scoped>\n",
       "    .dataframe tbody tr th:only-of-type {\n",
       "        vertical-align: middle;\n",
       "    }\n",
       "\n",
       "    .dataframe tbody tr th {\n",
       "        vertical-align: top;\n",
       "    }\n",
       "\n",
       "    .dataframe thead th {\n",
       "        text-align: right;\n",
       "    }\n",
       "</style>\n",
       "<table border=\"1\" class=\"dataframe\">\n",
       "  <thead>\n",
       "    <tr style=\"text-align: right;\">\n",
       "      <th></th>\n",
       "      <th>author.properties.friends</th>\n",
       "      <th>author.properties.status_count</th>\n",
       "      <th>author.properties.verified</th>\n",
       "      <th>content.body</th>\n",
       "      <th>location.country</th>\n",
       "      <th>properties.platform</th>\n",
       "      <th>location.latitude</th>\n",
       "      <th>location.longitude</th>\n",
       "    </tr>\n",
       "  </thead>\n",
       "  <tbody>\n",
       "    <tr>\n",
       "      <th>0</th>\n",
       "      <td>114</td>\n",
       "      <td>1377</td>\n",
       "      <td>True</td>\n",
       "      <td>Can't believe I'm missing Love Island 😩</td>\n",
       "      <td>GG</td>\n",
       "      <td>twitter</td>\n",
       "      <td>52.97</td>\n",
       "      <td>-1.17</td>\n",
       "    </tr>\n",
       "  </tbody>\n",
       "</table>\n",
       "</div>"
      ],
      "text/plain": [
       "   author.properties.friends  author.properties.status_count  \\\n",
       "0                        114                            1377   \n",
       "\n",
       "  author.properties.verified                             content.body  \\\n",
       "0                       True  Can't believe I'm missing Love Island 😩   \n",
       "\n",
       "  location.country properties.platform  location.latitude  location.longitude  \n",
       "0               GG             twitter              52.97               -1.17  "
      ]
     },
     "execution_count": 363,
     "metadata": {},
     "output_type": "execute_result"
    }
   ],
   "source": [
    "input_data"
   ]
  },
  {
   "cell_type": "code",
   "execution_count": 364,
   "id": "c8b4d72a",
   "metadata": {},
   "outputs": [
    {
     "data": {
      "text/plain": [
       "0   -1.00\n",
       "Name: properties.sentiment, dtype: float64"
      ]
     },
     "execution_count": 364,
     "metadata": {},
     "output_type": "execute_result"
    }
   ],
   "source": [
    "save_model_predictor.predict(input_data)"
   ]
  },
  {
   "cell_type": "code",
   "execution_count": 365,
   "id": "a2fa7798",
   "metadata": {},
   "outputs": [
    {
     "data": {
      "text/plain": [
       "-1.0"
      ]
     },
     "execution_count": 365,
     "metadata": {},
     "output_type": "execute_result"
    }
   ],
   "source": [
    "save_model_predictor.predict(input_data)[0]"
   ]
  },
  {
   "cell_type": "code",
   "execution_count": null,
   "id": "ecb96577",
   "metadata": {},
   "outputs": [],
   "source": []
  }
 ],
 "metadata": {
  "kernelspec": {
   "display_name": "Python 3 (ipykernel)",
   "language": "python",
   "name": "python3"
  },
  "language_info": {
   "codemirror_mode": {
    "name": "ipython",
    "version": 3
   },
   "file_extension": ".py",
   "mimetype": "text/x-python",
   "name": "python",
   "nbconvert_exporter": "python",
   "pygments_lexer": "ipython3",
   "version": "3.9.16"
  }
 },
 "nbformat": 4,
 "nbformat_minor": 5
}
