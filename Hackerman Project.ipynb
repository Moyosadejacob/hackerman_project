{
 "cells": [
  {
   "cell_type": "markdown",
   "id": "26b99cc6",
   "metadata": {},
   "source": [
    "<div style = \"text-align: left\"><font size = 6 color = \"#00008B\" face = \"verdana\"><b>Datahackerman Final Project</b></font></div>\n",
    "<div style = \"text-align: leftt\"><font><i>By 'Moyosade Jacob</i></font></div>\n",
    "<div style = \"text-align: leftt\"><font>7th April 2023</font></div>"
   ]
  },
  {
   "cell_type": "markdown",
   "id": "502b1422",
   "metadata": {},
   "source": [
    "import pandas as pd\n",
    "import requests\n",
    "import json\n",
    "pd.set_option(\"display.max_columns\", None)\n",
    "pd.set_option(\"display.max_rows\", None)\n",
    "pd.options.display.max_colwidth = None\n",
    "pd.set_option(\"display.float_format\", lambda x: '%.2f' % x)\n",
    "\n",
    "from IPython.display import display, HTML\n",
    "display(HTML(\"<style>.container { width:100% !important; }</style>\"))"
   ]
  },
  {
   "cell_type": "code",
   "execution_count": 13,
   "id": "511f23d2",
   "metadata": {},
   "outputs": [],
   "source": [
    "book_url = \"https://anapioficeandfire.com/api/books\"\n",
    "book = requests.get(book_url)"
   ]
  },
  {
   "cell_type": "code",
   "execution_count": 14,
   "id": "2924407b",
   "metadata": {},
   "outputs": [
    {
     "data": {
      "text/plain": [
       "200"
      ]
     },
     "execution_count": 14,
     "metadata": {},
     "output_type": "execute_result"
    }
   ],
   "source": [
    "book.status_code"
   ]
  },
  {
   "cell_type": "code",
   "execution_count": 26,
   "id": "1a3dbbe4",
   "metadata": {},
   "outputs": [],
   "source": [
    "# book.json()"
   ]
  },
  {
   "cell_type": "code",
   "execution_count": 27,
   "id": "4a386883",
   "metadata": {},
   "outputs": [],
   "source": [
    "book_data = pd.DataFrame(book.json())"
   ]
  },
  {
   "cell_type": "code",
   "execution_count": 28,
   "id": "d9a01e26",
   "metadata": {},
   "outputs": [
    {
     "data": {
      "text/html": [
       "<div>\n",
       "<style scoped>\n",
       "    .dataframe tbody tr th:only-of-type {\n",
       "        vertical-align: middle;\n",
       "    }\n",
       "\n",
       "    .dataframe tbody tr th {\n",
       "        vertical-align: top;\n",
       "    }\n",
       "\n",
       "    .dataframe thead th {\n",
       "        text-align: right;\n",
       "    }\n",
       "</style>\n",
       "<table border=\"1\" class=\"dataframe\">\n",
       "  <thead>\n",
       "    <tr style=\"text-align: right;\">\n",
       "      <th></th>\n",
       "      <th>url</th>\n",
       "      <th>name</th>\n",
       "      <th>isbn</th>\n",
       "      <th>authors</th>\n",
       "      <th>numberOfPages</th>\n",
       "      <th>publisher</th>\n",
       "      <th>country</th>\n",
       "      <th>mediaType</th>\n",
       "      <th>released</th>\n",
       "      <th>characters</th>\n",
       "      <th>povCharacters</th>\n",
       "    </tr>\n",
       "  </thead>\n",
       "  <tbody>\n",
       "    <tr>\n",
       "      <th>0</th>\n",
       "      <td>https://anapioficeandfire.com/api/books/1</td>\n",
       "      <td>A Game of Thrones</td>\n",
       "      <td>978-0553103540</td>\n",
       "      <td>[George R. R. Martin]</td>\n",
       "      <td>694</td>\n",
       "      <td>Bantam Books</td>\n",
       "      <td>United States</td>\n",
       "      <td>Hardcover</td>\n",
       "      <td>1996-08-01T00:00:00</td>\n",
       "      <td>[https://anapioficeandfire.com/api/characters/2, https://anapioficeandfire.com/api/characters/12, https://anapioficeandfire.com/api/characters/13, https://anapioficeandfire.com/api/characters/16, https://anapioficeandfire.com/api/characters/20, https://anapioficeandfire.com/api/characters/27, https://anapioficeandfire.com/api/characters/31, https://anapioficeandfire.com/api/characters/38, https://anapioficeandfire.com/api/characters/39, https://anapioficeandfire.com/api/characters/40, https://anapioficeandfire.com/api/characters/41, https://anapioficeandfire.com/api/characters/42, https://anapioficeandfire.com/api/characters/46, https://anapioficeandfire.com/api/characters/54, https://anapioficeandfire.com/api/characters/56, https://anapioficeandfire.com/api/characters/57, https://anapioficeandfire.com/api/characters/60, https://anapioficeandfire.com/api/characters/61, https://anapioficeandfire.com/api/characters/62, https://anapioficeandfire.com/api/characters/66, https://anapioficeandfire.com/api/characters/67, https://anapioficeandfire.com/api/characters/69, https://anapioficeandfire.com/api/characters/79, https://anapioficeandfire.com/api/characters/89, https://anapioficeandfire.com/api/characters/107, https://anapioficeandfire.com/api/characters/115, https://anapioficeandfire.com/api/characters/116, https://anapioficeandfire.com/api/characters/120, https://anapioficeandfire.com/api/characters/125, https://anapioficeandfire.com/api/characters/128, https://anapioficeandfire.com/api/characters/129, https://anapioficeandfire.com/api/characters/130, https://anapioficeandfire.com/api/characters/135, https://anapioficeandfire.com/api/characters/137, https://anapioficeandfire.com/api/characters/142, https://anapioficeandfire.com/api/characters/147, https://anapioficeandfire.com/api/characters/149, https://anapioficeandfire.com/api/characters/150, https://anapioficeandfire.com/api/characters/151, https://anapioficeandfire.com/api/characters/160, https://anapioficeandfire.com/api/characters/164, https://anapioficeandfire.com/api/characters/168, https://anapioficeandfire.com/api/characters/171, https://anapioficeandfire.com/api/characters/181, https://anapioficeandfire.com/api/characters/190, https://anapioficeandfire.com/api/characters/194, https://anapioficeandfire.com/api/characters/198, https://anapioficeandfire.com/api/characters/202, https://anapioficeandfire.com/api/characters/203, https://anapioficeandfire.com/api/characters/206, https://anapioficeandfire.com/api/characters/209, https://anapioficeandfire.com/api/characters/211, https://anapioficeandfire.com/api/characters/213, https://anapioficeandfire.com/api/characters/217, https://anapioficeandfire.com/api/characters/220, https://anapioficeandfire.com/api/characters/223, https://anapioficeandfire.com/api/characters/225, https://anapioficeandfire.com/api/characters/235, https://anapioficeandfire.com/api/characters/238, https://anapioficeandfire.com/api/characters/245, https://anapioficeandfire.com/api/characters/259, https://anapioficeandfire.com/api/characters/264, https://anapioficeandfire.com/api/characters/273, https://anapioficeandfire.com/api/characters/274, https://anapioficeandfire.com/api/characters/291, https://anapioficeandfire.com/api/characters/292, https://anapioficeandfire.com/api/characters/293, https://anapioficeandfire.com/api/characters/294, https://anapioficeandfire.com/api/characters/303, https://anapioficeandfire.com/api/characters/306, https://anapioficeandfire.com/api/characters/313, https://anapioficeandfire.com/api/characters/315, https://anapioficeandfire.com/api/characters/325, https://anapioficeandfire.com/api/characters/326, https://anapioficeandfire.com/api/characters/327, https://anapioficeandfire.com/api/characters/338, https://anapioficeandfire.com/api/characters/346, https://anapioficeandfire.com/api/characters/347, https://anapioficeandfire.com/api/characters/348, https://anapioficeandfire.com/api/characters/361, https://anapioficeandfire.com/api/characters/368, https://anapioficeandfire.com/api/characters/377, https://anapioficeandfire.com/api/characters/379, https://anapioficeandfire.com/api/characters/380, https://anapioficeandfire.com/api/characters/384, https://anapioficeandfire.com/api/characters/385, https://anapioficeandfire.com/api/characters/393, https://anapioficeandfire.com/api/characters/394, https://anapioficeandfire.com/api/characters/397, https://anapioficeandfire.com/api/characters/400, https://anapioficeandfire.com/api/characters/401, https://anapioficeandfire.com/api/characters/405, https://anapioficeandfire.com/api/characters/408, https://anapioficeandfire.com/api/characters/413, https://anapioficeandfire.com/api/characters/415, https://anapioficeandfire.com/api/characters/418, https://anapioficeandfire.com/api/characters/421, https://anapioficeandfire.com/api/characters/427, https://anapioficeandfire.com/api/characters/435, https://anapioficeandfire.com/api/characters/439, ...]</td>\n",
       "      <td>[https://anapioficeandfire.com/api/characters/148, https://anapioficeandfire.com/api/characters/208, https://anapioficeandfire.com/api/characters/232, https://anapioficeandfire.com/api/characters/339, https://anapioficeandfire.com/api/characters/583, https://anapioficeandfire.com/api/characters/957, https://anapioficeandfire.com/api/characters/1052, https://anapioficeandfire.com/api/characters/1109, https://anapioficeandfire.com/api/characters/1303]</td>\n",
       "    </tr>\n",
       "    <tr>\n",
       "      <th>1</th>\n",
       "      <td>https://anapioficeandfire.com/api/books/2</td>\n",
       "      <td>A Clash of Kings</td>\n",
       "      <td>978-0553108033</td>\n",
       "      <td>[George R. R. Martin]</td>\n",
       "      <td>768</td>\n",
       "      <td>Bantam Books</td>\n",
       "      <td>United States</td>\n",
       "      <td>Hardback</td>\n",
       "      <td>1999-02-02T00:00:00</td>\n",
       "      <td>[https://anapioficeandfire.com/api/characters/2, https://anapioficeandfire.com/api/characters/12, https://anapioficeandfire.com/api/characters/13, https://anapioficeandfire.com/api/characters/16, https://anapioficeandfire.com/api/characters/20, https://anapioficeandfire.com/api/characters/23, https://anapioficeandfire.com/api/characters/27, https://anapioficeandfire.com/api/characters/31, https://anapioficeandfire.com/api/characters/36, https://anapioficeandfire.com/api/characters/37, https://anapioficeandfire.com/api/characters/38, https://anapioficeandfire.com/api/characters/42, https://anapioficeandfire.com/api/characters/46, https://anapioficeandfire.com/api/characters/52, https://anapioficeandfire.com/api/characters/53, https://anapioficeandfire.com/api/characters/54, https://anapioficeandfire.com/api/characters/56, https://anapioficeandfire.com/api/characters/58, https://anapioficeandfire.com/api/characters/60, https://anapioficeandfire.com/api/characters/62, https://anapioficeandfire.com/api/characters/64, https://anapioficeandfire.com/api/characters/66, https://anapioficeandfire.com/api/characters/67, https://anapioficeandfire.com/api/characters/68, https://anapioficeandfire.com/api/characters/69, https://anapioficeandfire.com/api/characters/70, https://anapioficeandfire.com/api/characters/71, https://anapioficeandfire.com/api/characters/72, https://anapioficeandfire.com/api/characters/73, https://anapioficeandfire.com/api/characters/78, https://anapioficeandfire.com/api/characters/79, https://anapioficeandfire.com/api/characters/82, https://anapioficeandfire.com/api/characters/85, https://anapioficeandfire.com/api/characters/86, https://anapioficeandfire.com/api/characters/87, https://anapioficeandfire.com/api/characters/89, https://anapioficeandfire.com/api/characters/95, https://anapioficeandfire.com/api/characters/108, https://anapioficeandfire.com/api/characters/111, https://anapioficeandfire.com/api/characters/112, https://anapioficeandfire.com/api/characters/114, https://anapioficeandfire.com/api/characters/115, https://anapioficeandfire.com/api/characters/116, https://anapioficeandfire.com/api/characters/118, https://anapioficeandfire.com/api/characters/119, https://anapioficeandfire.com/api/characters/122, https://anapioficeandfire.com/api/characters/123, https://anapioficeandfire.com/api/characters/124, https://anapioficeandfire.com/api/characters/125, https://anapioficeandfire.com/api/characters/127, https://anapioficeandfire.com/api/characters/130, https://anapioficeandfire.com/api/characters/135, https://anapioficeandfire.com/api/characters/142, https://anapioficeandfire.com/api/characters/143, https://anapioficeandfire.com/api/characters/145, https://anapioficeandfire.com/api/characters/146, https://anapioficeandfire.com/api/characters/147, https://anapioficeandfire.com/api/characters/149, https://anapioficeandfire.com/api/characters/150, https://anapioficeandfire.com/api/characters/151, https://anapioficeandfire.com/api/characters/153, https://anapioficeandfire.com/api/characters/158, https://anapioficeandfire.com/api/characters/164, https://anapioficeandfire.com/api/characters/167, https://anapioficeandfire.com/api/characters/168, https://anapioficeandfire.com/api/characters/170, https://anapioficeandfire.com/api/characters/173, https://anapioficeandfire.com/api/characters/177, https://anapioficeandfire.com/api/characters/179, https://anapioficeandfire.com/api/characters/180, https://anapioficeandfire.com/api/characters/181, https://anapioficeandfire.com/api/characters/182, https://anapioficeandfire.com/api/characters/183, https://anapioficeandfire.com/api/characters/187, https://anapioficeandfire.com/api/characters/188, https://anapioficeandfire.com/api/characters/189, https://anapioficeandfire.com/api/characters/190, https://anapioficeandfire.com/api/characters/192, https://anapioficeandfire.com/api/characters/194, https://anapioficeandfire.com/api/characters/199, https://anapioficeandfire.com/api/characters/200, https://anapioficeandfire.com/api/characters/202, https://anapioficeandfire.com/api/characters/203, https://anapioficeandfire.com/api/characters/204, https://anapioficeandfire.com/api/characters/206, https://anapioficeandfire.com/api/characters/207, https://anapioficeandfire.com/api/characters/209, https://anapioficeandfire.com/api/characters/210, https://anapioficeandfire.com/api/characters/211, https://anapioficeandfire.com/api/characters/212, https://anapioficeandfire.com/api/characters/213, https://anapioficeandfire.com/api/characters/214, https://anapioficeandfire.com/api/characters/216, https://anapioficeandfire.com/api/characters/217, https://anapioficeandfire.com/api/characters/218, https://anapioficeandfire.com/api/characters/219, https://anapioficeandfire.com/api/characters/220, https://anapioficeandfire.com/api/characters/222, https://anapioficeandfire.com/api/characters/223, https://anapioficeandfire.com/api/characters/225, ...]</td>\n",
       "      <td>[https://anapioficeandfire.com/api/characters/148, https://anapioficeandfire.com/api/characters/208, https://anapioficeandfire.com/api/characters/232, https://anapioficeandfire.com/api/characters/583, https://anapioficeandfire.com/api/characters/957, https://anapioficeandfire.com/api/characters/1022, https://anapioficeandfire.com/api/characters/1052, https://anapioficeandfire.com/api/characters/1295, https://anapioficeandfire.com/api/characters/1303, https://anapioficeandfire.com/api/characters/1319]</td>\n",
       "    </tr>\n",
       "    <tr>\n",
       "      <th>2</th>\n",
       "      <td>https://anapioficeandfire.com/api/books/3</td>\n",
       "      <td>A Storm of Swords</td>\n",
       "      <td>978-0553106633</td>\n",
       "      <td>[George R. R. Martin]</td>\n",
       "      <td>992</td>\n",
       "      <td>Bantam Books</td>\n",
       "      <td>United States</td>\n",
       "      <td>Hardcover</td>\n",
       "      <td>2000-10-31T00:00:00</td>\n",
       "      <td>[https://anapioficeandfire.com/api/characters/2, https://anapioficeandfire.com/api/characters/3, https://anapioficeandfire.com/api/characters/7, https://anapioficeandfire.com/api/characters/12, https://anapioficeandfire.com/api/characters/13, https://anapioficeandfire.com/api/characters/16, https://anapioficeandfire.com/api/characters/20, https://anapioficeandfire.com/api/characters/21, https://anapioficeandfire.com/api/characters/27, https://anapioficeandfire.com/api/characters/31, https://anapioficeandfire.com/api/characters/35, https://anapioficeandfire.com/api/characters/36, https://anapioficeandfire.com/api/characters/37, https://anapioficeandfire.com/api/characters/38, https://anapioficeandfire.com/api/characters/39, https://anapioficeandfire.com/api/characters/40, https://anapioficeandfire.com/api/characters/41, https://anapioficeandfire.com/api/characters/42, https://anapioficeandfire.com/api/characters/46, https://anapioficeandfire.com/api/characters/50, https://anapioficeandfire.com/api/characters/51, https://anapioficeandfire.com/api/characters/52, https://anapioficeandfire.com/api/characters/53, https://anapioficeandfire.com/api/characters/54, https://anapioficeandfire.com/api/characters/56, https://anapioficeandfire.com/api/characters/58, https://anapioficeandfire.com/api/characters/60, https://anapioficeandfire.com/api/characters/62, https://anapioficeandfire.com/api/characters/64, https://anapioficeandfire.com/api/characters/67, https://anapioficeandfire.com/api/characters/68, https://anapioficeandfire.com/api/characters/69, https://anapioficeandfire.com/api/characters/70, https://anapioficeandfire.com/api/characters/71, https://anapioficeandfire.com/api/characters/72, https://anapioficeandfire.com/api/characters/73, https://anapioficeandfire.com/api/characters/77, https://anapioficeandfire.com/api/characters/78, https://anapioficeandfire.com/api/characters/79, https://anapioficeandfire.com/api/characters/80, https://anapioficeandfire.com/api/characters/81, https://anapioficeandfire.com/api/characters/82, https://anapioficeandfire.com/api/characters/84, https://anapioficeandfire.com/api/characters/85, https://anapioficeandfire.com/api/characters/86, https://anapioficeandfire.com/api/characters/87, https://anapioficeandfire.com/api/characters/89, https://anapioficeandfire.com/api/characters/94, https://anapioficeandfire.com/api/characters/95, https://anapioficeandfire.com/api/characters/96, https://anapioficeandfire.com/api/characters/100, https://anapioficeandfire.com/api/characters/105, https://anapioficeandfire.com/api/characters/108, https://anapioficeandfire.com/api/characters/111, https://anapioficeandfire.com/api/characters/112, https://anapioficeandfire.com/api/characters/114, https://anapioficeandfire.com/api/characters/115, https://anapioficeandfire.com/api/characters/116, https://anapioficeandfire.com/api/characters/117, https://anapioficeandfire.com/api/characters/118, https://anapioficeandfire.com/api/characters/120, https://anapioficeandfire.com/api/characters/122, https://anapioficeandfire.com/api/characters/123, https://anapioficeandfire.com/api/characters/124, https://anapioficeandfire.com/api/characters/125, https://anapioficeandfire.com/api/characters/127, https://anapioficeandfire.com/api/characters/130, https://anapioficeandfire.com/api/characters/138, https://anapioficeandfire.com/api/characters/141, https://anapioficeandfire.com/api/characters/142, https://anapioficeandfire.com/api/characters/145, https://anapioficeandfire.com/api/characters/146, https://anapioficeandfire.com/api/characters/147, https://anapioficeandfire.com/api/characters/149, https://anapioficeandfire.com/api/characters/151, https://anapioficeandfire.com/api/characters/153, https://anapioficeandfire.com/api/characters/158, https://anapioficeandfire.com/api/characters/159, https://anapioficeandfire.com/api/characters/160, https://anapioficeandfire.com/api/characters/161, https://anapioficeandfire.com/api/characters/162, https://anapioficeandfire.com/api/characters/164, https://anapioficeandfire.com/api/characters/168, https://anapioficeandfire.com/api/characters/169, https://anapioficeandfire.com/api/characters/173, https://anapioficeandfire.com/api/characters/175, https://anapioficeandfire.com/api/characters/177, https://anapioficeandfire.com/api/characters/179, https://anapioficeandfire.com/api/characters/180, https://anapioficeandfire.com/api/characters/181, https://anapioficeandfire.com/api/characters/187, https://anapioficeandfire.com/api/characters/188, https://anapioficeandfire.com/api/characters/189, https://anapioficeandfire.com/api/characters/190, https://anapioficeandfire.com/api/characters/193, https://anapioficeandfire.com/api/characters/194, https://anapioficeandfire.com/api/characters/199, https://anapioficeandfire.com/api/characters/200, https://anapioficeandfire.com/api/characters/202, https://anapioficeandfire.com/api/characters/203, ...]</td>\n",
       "      <td>[https://anapioficeandfire.com/api/characters/148, https://anapioficeandfire.com/api/characters/208, https://anapioficeandfire.com/api/characters/232, https://anapioficeandfire.com/api/characters/529, https://anapioficeandfire.com/api/characters/583, https://anapioficeandfire.com/api/characters/751, https://anapioficeandfire.com/api/characters/954, https://anapioficeandfire.com/api/characters/957, https://anapioficeandfire.com/api/characters/1052, https://anapioficeandfire.com/api/characters/1267, https://anapioficeandfire.com/api/characters/1303, https://anapioficeandfire.com/api/characters/1319]</td>\n",
       "    </tr>\n",
       "    <tr>\n",
       "      <th>3</th>\n",
       "      <td>https://anapioficeandfire.com/api/books/4</td>\n",
       "      <td>The Hedge Knight</td>\n",
       "      <td>978-0976401100</td>\n",
       "      <td>[George R. R. Martin]</td>\n",
       "      <td>164</td>\n",
       "      <td>Dabel Brothers Publishing</td>\n",
       "      <td>United States</td>\n",
       "      <td>GraphicNovel</td>\n",
       "      <td>2005-03-09T00:00:00</td>\n",
       "      <td>[https://anapioficeandfire.com/api/characters/29, https://anapioficeandfire.com/api/characters/38, https://anapioficeandfire.com/api/characters/40, https://anapioficeandfire.com/api/characters/41, https://anapioficeandfire.com/api/characters/46, https://anapioficeandfire.com/api/characters/54, https://anapioficeandfire.com/api/characters/58, https://anapioficeandfire.com/api/characters/61, https://anapioficeandfire.com/api/characters/121, https://anapioficeandfire.com/api/characters/132, https://anapioficeandfire.com/api/characters/161, https://anapioficeandfire.com/api/characters/274, https://anapioficeandfire.com/api/characters/276, https://anapioficeandfire.com/api/characters/283, https://anapioficeandfire.com/api/characters/318, https://anapioficeandfire.com/api/characters/412, https://anapioficeandfire.com/api/characters/437, https://anapioficeandfire.com/api/characters/513, https://anapioficeandfire.com/api/characters/514, https://anapioficeandfire.com/api/characters/581, https://anapioficeandfire.com/api/characters/596, https://anapioficeandfire.com/api/characters/623, https://anapioficeandfire.com/api/characters/641, https://anapioficeandfire.com/api/characters/679, https://anapioficeandfire.com/api/characters/695, https://anapioficeandfire.com/api/characters/702, https://anapioficeandfire.com/api/characters/709, https://anapioficeandfire.com/api/characters/729, https://anapioficeandfire.com/api/characters/733, https://anapioficeandfire.com/api/characters/782, https://anapioficeandfire.com/api/characters/792, https://anapioficeandfire.com/api/characters/807, https://anapioficeandfire.com/api/characters/816, https://anapioficeandfire.com/api/characters/843, https://anapioficeandfire.com/api/characters/853, https://anapioficeandfire.com/api/characters/868, https://anapioficeandfire.com/api/characters/874, https://anapioficeandfire.com/api/characters/895, https://anapioficeandfire.com/api/characters/910, https://anapioficeandfire.com/api/characters/921, https://anapioficeandfire.com/api/characters/945, https://anapioficeandfire.com/api/characters/969, https://anapioficeandfire.com/api/characters/988, https://anapioficeandfire.com/api/characters/1048, https://anapioficeandfire.com/api/characters/1067, https://anapioficeandfire.com/api/characters/1117, https://anapioficeandfire.com/api/characters/1392, https://anapioficeandfire.com/api/characters/1812, https://anapioficeandfire.com/api/characters/1966, https://anapioficeandfire.com/api/characters/1976, https://anapioficeandfire.com/api/characters/1983, https://anapioficeandfire.com/api/characters/2086, https://anapioficeandfire.com/api/characters/2128, https://anapioficeandfire.com/api/characters/2130]</td>\n",
       "      <td>[https://anapioficeandfire.com/api/characters/329]</td>\n",
       "    </tr>\n",
       "    <tr>\n",
       "      <th>4</th>\n",
       "      <td>https://anapioficeandfire.com/api/books/5</td>\n",
       "      <td>A Feast for Crows</td>\n",
       "      <td>978-0553801507</td>\n",
       "      <td>[George R. R. Martin]</td>\n",
       "      <td>784</td>\n",
       "      <td>Bantam Books</td>\n",
       "      <td>United Status</td>\n",
       "      <td>Hardcover</td>\n",
       "      <td>2005-11-08T00:00:00</td>\n",
       "      <td>[https://anapioficeandfire.com/api/characters/1, https://anapioficeandfire.com/api/characters/2, https://anapioficeandfire.com/api/characters/4, https://anapioficeandfire.com/api/characters/5, https://anapioficeandfire.com/api/characters/6, https://anapioficeandfire.com/api/characters/9, https://anapioficeandfire.com/api/characters/10, https://anapioficeandfire.com/api/characters/11, https://anapioficeandfire.com/api/characters/12, https://anapioficeandfire.com/api/characters/14, https://anapioficeandfire.com/api/characters/15, https://anapioficeandfire.com/api/characters/16, https://anapioficeandfire.com/api/characters/17, https://anapioficeandfire.com/api/characters/18, https://anapioficeandfire.com/api/characters/19, https://anapioficeandfire.com/api/characters/21, https://anapioficeandfire.com/api/characters/22, https://anapioficeandfire.com/api/characters/24, https://anapioficeandfire.com/api/characters/25, https://anapioficeandfire.com/api/characters/26, https://anapioficeandfire.com/api/characters/27, https://anapioficeandfire.com/api/characters/28, https://anapioficeandfire.com/api/characters/31, https://anapioficeandfire.com/api/characters/34, https://anapioficeandfire.com/api/characters/36, https://anapioficeandfire.com/api/characters/37, https://anapioficeandfire.com/api/characters/38, https://anapioficeandfire.com/api/characters/39, https://anapioficeandfire.com/api/characters/42, https://anapioficeandfire.com/api/characters/46, https://anapioficeandfire.com/api/characters/47, https://anapioficeandfire.com/api/characters/52, https://anapioficeandfire.com/api/characters/53, https://anapioficeandfire.com/api/characters/54, https://anapioficeandfire.com/api/characters/56, https://anapioficeandfire.com/api/characters/62, https://anapioficeandfire.com/api/characters/63, https://anapioficeandfire.com/api/characters/66, https://anapioficeandfire.com/api/characters/67, https://anapioficeandfire.com/api/characters/68, https://anapioficeandfire.com/api/characters/69, https://anapioficeandfire.com/api/characters/70, https://anapioficeandfire.com/api/characters/71, https://anapioficeandfire.com/api/characters/73, https://anapioficeandfire.com/api/characters/74, https://anapioficeandfire.com/api/characters/77, https://anapioficeandfire.com/api/characters/79, https://anapioficeandfire.com/api/characters/81, https://anapioficeandfire.com/api/characters/82, https://anapioficeandfire.com/api/characters/84, https://anapioficeandfire.com/api/characters/85, https://anapioficeandfire.com/api/characters/86, https://anapioficeandfire.com/api/characters/87, https://anapioficeandfire.com/api/characters/88, https://anapioficeandfire.com/api/characters/89, https://anapioficeandfire.com/api/characters/91, https://anapioficeandfire.com/api/characters/92, https://anapioficeandfire.com/api/characters/94, https://anapioficeandfire.com/api/characters/95, https://anapioficeandfire.com/api/characters/96, https://anapioficeandfire.com/api/characters/99, https://anapioficeandfire.com/api/characters/100, https://anapioficeandfire.com/api/characters/102, https://anapioficeandfire.com/api/characters/103, https://anapioficeandfire.com/api/characters/106, https://anapioficeandfire.com/api/characters/108, https://anapioficeandfire.com/api/characters/111, https://anapioficeandfire.com/api/characters/112, https://anapioficeandfire.com/api/characters/114, https://anapioficeandfire.com/api/characters/115, https://anapioficeandfire.com/api/characters/116, https://anapioficeandfire.com/api/characters/117, https://anapioficeandfire.com/api/characters/118, https://anapioficeandfire.com/api/characters/122, https://anapioficeandfire.com/api/characters/123, https://anapioficeandfire.com/api/characters/124, https://anapioficeandfire.com/api/characters/125, https://anapioficeandfire.com/api/characters/131, https://anapioficeandfire.com/api/characters/134, https://anapioficeandfire.com/api/characters/135, https://anapioficeandfire.com/api/characters/138, https://anapioficeandfire.com/api/characters/141, https://anapioficeandfire.com/api/characters/142, https://anapioficeandfire.com/api/characters/145, https://anapioficeandfire.com/api/characters/146, https://anapioficeandfire.com/api/characters/147, https://anapioficeandfire.com/api/characters/153, https://anapioficeandfire.com/api/characters/158, https://anapioficeandfire.com/api/characters/159, https://anapioficeandfire.com/api/characters/160, https://anapioficeandfire.com/api/characters/162, https://anapioficeandfire.com/api/characters/163, https://anapioficeandfire.com/api/characters/164, https://anapioficeandfire.com/api/characters/166, https://anapioficeandfire.com/api/characters/168, https://anapioficeandfire.com/api/characters/169, https://anapioficeandfire.com/api/characters/172, https://anapioficeandfire.com/api/characters/173, https://anapioficeandfire.com/api/characters/174, https://anapioficeandfire.com/api/characters/175, ...]</td>\n",
       "      <td>[https://anapioficeandfire.com/api/characters/60, https://anapioficeandfire.com/api/characters/130, https://anapioficeandfire.com/api/characters/148, https://anapioficeandfire.com/api/characters/149, https://anapioficeandfire.com/api/characters/150, https://anapioficeandfire.com/api/characters/216, https://anapioficeandfire.com/api/characters/238, https://anapioficeandfire.com/api/characters/529, https://anapioficeandfire.com/api/characters/954, https://anapioficeandfire.com/api/characters/957, https://anapioficeandfire.com/api/characters/1074, https://anapioficeandfire.com/api/characters/1166]</td>\n",
       "    </tr>\n",
       "  </tbody>\n",
       "</table>\n",
       "</div>"
      ],
      "text/plain": [
       "                                         url               name  \\\n",
       "0  https://anapioficeandfire.com/api/books/1  A Game of Thrones   \n",
       "1  https://anapioficeandfire.com/api/books/2   A Clash of Kings   \n",
       "2  https://anapioficeandfire.com/api/books/3  A Storm of Swords   \n",
       "3  https://anapioficeandfire.com/api/books/4   The Hedge Knight   \n",
       "4  https://anapioficeandfire.com/api/books/5  A Feast for Crows   \n",
       "\n",
       "             isbn                authors  numberOfPages  \\\n",
       "0  978-0553103540  [George R. R. Martin]            694   \n",
       "1  978-0553108033  [George R. R. Martin]            768   \n",
       "2  978-0553106633  [George R. R. Martin]            992   \n",
       "3  978-0976401100  [George R. R. Martin]            164   \n",
       "4  978-0553801507  [George R. R. Martin]            784   \n",
       "\n",
       "                   publisher        country     mediaType  \\\n",
       "0               Bantam Books  United States     Hardcover   \n",
       "1               Bantam Books  United States      Hardback   \n",
       "2               Bantam Books  United States     Hardcover   \n",
       "3  Dabel Brothers Publishing  United States  GraphicNovel   \n",
       "4               Bantam Books  United Status     Hardcover   \n",
       "\n",
       "              released  \\\n",
       "0  1996-08-01T00:00:00   \n",
       "1  1999-02-02T00:00:00   \n",
       "2  2000-10-31T00:00:00   \n",
       "3  2005-03-09T00:00:00   \n",
       "4  2005-11-08T00:00:00   \n",
       "\n",
       "                                                                                                                                                                                                                                                                                                                                                                                                                                                                                                                                                                                                                                                                                                                                                                                                                                                                                                                                                                                                                                                                                                                                                                                                                                                                                                                                                                                                                                                                                                                                                                                                                                                                                                                                                                                                                                                                                                                                                                                                                                                                                                                                                                                                                                                                                                                                                                                                                                                                                                                                                                                                                                                                                                                                                                                                                                                                                                                                                                                                                                                                                                                                                                                                                                                                                                                                                                                                                                                                                                                                                                                                                                                                                                                                                                                                                                                                                                                                                                                                                                                                                                                                                                                                                                                                                                                                                                                                                                                                                                                                                                                                                                                                                                                                                                                                                                                                                                                                                                                                                                                                                                                                                                             characters  \\\n",
       "0  [https://anapioficeandfire.com/api/characters/2, https://anapioficeandfire.com/api/characters/12, https://anapioficeandfire.com/api/characters/13, https://anapioficeandfire.com/api/characters/16, https://anapioficeandfire.com/api/characters/20, https://anapioficeandfire.com/api/characters/27, https://anapioficeandfire.com/api/characters/31, https://anapioficeandfire.com/api/characters/38, https://anapioficeandfire.com/api/characters/39, https://anapioficeandfire.com/api/characters/40, https://anapioficeandfire.com/api/characters/41, https://anapioficeandfire.com/api/characters/42, https://anapioficeandfire.com/api/characters/46, https://anapioficeandfire.com/api/characters/54, https://anapioficeandfire.com/api/characters/56, https://anapioficeandfire.com/api/characters/57, https://anapioficeandfire.com/api/characters/60, https://anapioficeandfire.com/api/characters/61, https://anapioficeandfire.com/api/characters/62, https://anapioficeandfire.com/api/characters/66, https://anapioficeandfire.com/api/characters/67, https://anapioficeandfire.com/api/characters/69, https://anapioficeandfire.com/api/characters/79, https://anapioficeandfire.com/api/characters/89, https://anapioficeandfire.com/api/characters/107, https://anapioficeandfire.com/api/characters/115, https://anapioficeandfire.com/api/characters/116, https://anapioficeandfire.com/api/characters/120, https://anapioficeandfire.com/api/characters/125, https://anapioficeandfire.com/api/characters/128, https://anapioficeandfire.com/api/characters/129, https://anapioficeandfire.com/api/characters/130, https://anapioficeandfire.com/api/characters/135, https://anapioficeandfire.com/api/characters/137, https://anapioficeandfire.com/api/characters/142, https://anapioficeandfire.com/api/characters/147, https://anapioficeandfire.com/api/characters/149, https://anapioficeandfire.com/api/characters/150, https://anapioficeandfire.com/api/characters/151, https://anapioficeandfire.com/api/characters/160, https://anapioficeandfire.com/api/characters/164, https://anapioficeandfire.com/api/characters/168, https://anapioficeandfire.com/api/characters/171, https://anapioficeandfire.com/api/characters/181, https://anapioficeandfire.com/api/characters/190, https://anapioficeandfire.com/api/characters/194, https://anapioficeandfire.com/api/characters/198, https://anapioficeandfire.com/api/characters/202, https://anapioficeandfire.com/api/characters/203, https://anapioficeandfire.com/api/characters/206, https://anapioficeandfire.com/api/characters/209, https://anapioficeandfire.com/api/characters/211, https://anapioficeandfire.com/api/characters/213, https://anapioficeandfire.com/api/characters/217, https://anapioficeandfire.com/api/characters/220, https://anapioficeandfire.com/api/characters/223, https://anapioficeandfire.com/api/characters/225, https://anapioficeandfire.com/api/characters/235, https://anapioficeandfire.com/api/characters/238, https://anapioficeandfire.com/api/characters/245, https://anapioficeandfire.com/api/characters/259, https://anapioficeandfire.com/api/characters/264, https://anapioficeandfire.com/api/characters/273, https://anapioficeandfire.com/api/characters/274, https://anapioficeandfire.com/api/characters/291, https://anapioficeandfire.com/api/characters/292, https://anapioficeandfire.com/api/characters/293, https://anapioficeandfire.com/api/characters/294, https://anapioficeandfire.com/api/characters/303, https://anapioficeandfire.com/api/characters/306, https://anapioficeandfire.com/api/characters/313, https://anapioficeandfire.com/api/characters/315, https://anapioficeandfire.com/api/characters/325, https://anapioficeandfire.com/api/characters/326, https://anapioficeandfire.com/api/characters/327, https://anapioficeandfire.com/api/characters/338, https://anapioficeandfire.com/api/characters/346, https://anapioficeandfire.com/api/characters/347, https://anapioficeandfire.com/api/characters/348, https://anapioficeandfire.com/api/characters/361, https://anapioficeandfire.com/api/characters/368, https://anapioficeandfire.com/api/characters/377, https://anapioficeandfire.com/api/characters/379, https://anapioficeandfire.com/api/characters/380, https://anapioficeandfire.com/api/characters/384, https://anapioficeandfire.com/api/characters/385, https://anapioficeandfire.com/api/characters/393, https://anapioficeandfire.com/api/characters/394, https://anapioficeandfire.com/api/characters/397, https://anapioficeandfire.com/api/characters/400, https://anapioficeandfire.com/api/characters/401, https://anapioficeandfire.com/api/characters/405, https://anapioficeandfire.com/api/characters/408, https://anapioficeandfire.com/api/characters/413, https://anapioficeandfire.com/api/characters/415, https://anapioficeandfire.com/api/characters/418, https://anapioficeandfire.com/api/characters/421, https://anapioficeandfire.com/api/characters/427, https://anapioficeandfire.com/api/characters/435, https://anapioficeandfire.com/api/characters/439, ...]   \n",
       "1               [https://anapioficeandfire.com/api/characters/2, https://anapioficeandfire.com/api/characters/12, https://anapioficeandfire.com/api/characters/13, https://anapioficeandfire.com/api/characters/16, https://anapioficeandfire.com/api/characters/20, https://anapioficeandfire.com/api/characters/23, https://anapioficeandfire.com/api/characters/27, https://anapioficeandfire.com/api/characters/31, https://anapioficeandfire.com/api/characters/36, https://anapioficeandfire.com/api/characters/37, https://anapioficeandfire.com/api/characters/38, https://anapioficeandfire.com/api/characters/42, https://anapioficeandfire.com/api/characters/46, https://anapioficeandfire.com/api/characters/52, https://anapioficeandfire.com/api/characters/53, https://anapioficeandfire.com/api/characters/54, https://anapioficeandfire.com/api/characters/56, https://anapioficeandfire.com/api/characters/58, https://anapioficeandfire.com/api/characters/60, https://anapioficeandfire.com/api/characters/62, https://anapioficeandfire.com/api/characters/64, https://anapioficeandfire.com/api/characters/66, https://anapioficeandfire.com/api/characters/67, https://anapioficeandfire.com/api/characters/68, https://anapioficeandfire.com/api/characters/69, https://anapioficeandfire.com/api/characters/70, https://anapioficeandfire.com/api/characters/71, https://anapioficeandfire.com/api/characters/72, https://anapioficeandfire.com/api/characters/73, https://anapioficeandfire.com/api/characters/78, https://anapioficeandfire.com/api/characters/79, https://anapioficeandfire.com/api/characters/82, https://anapioficeandfire.com/api/characters/85, https://anapioficeandfire.com/api/characters/86, https://anapioficeandfire.com/api/characters/87, https://anapioficeandfire.com/api/characters/89, https://anapioficeandfire.com/api/characters/95, https://anapioficeandfire.com/api/characters/108, https://anapioficeandfire.com/api/characters/111, https://anapioficeandfire.com/api/characters/112, https://anapioficeandfire.com/api/characters/114, https://anapioficeandfire.com/api/characters/115, https://anapioficeandfire.com/api/characters/116, https://anapioficeandfire.com/api/characters/118, https://anapioficeandfire.com/api/characters/119, https://anapioficeandfire.com/api/characters/122, https://anapioficeandfire.com/api/characters/123, https://anapioficeandfire.com/api/characters/124, https://anapioficeandfire.com/api/characters/125, https://anapioficeandfire.com/api/characters/127, https://anapioficeandfire.com/api/characters/130, https://anapioficeandfire.com/api/characters/135, https://anapioficeandfire.com/api/characters/142, https://anapioficeandfire.com/api/characters/143, https://anapioficeandfire.com/api/characters/145, https://anapioficeandfire.com/api/characters/146, https://anapioficeandfire.com/api/characters/147, https://anapioficeandfire.com/api/characters/149, https://anapioficeandfire.com/api/characters/150, https://anapioficeandfire.com/api/characters/151, https://anapioficeandfire.com/api/characters/153, https://anapioficeandfire.com/api/characters/158, https://anapioficeandfire.com/api/characters/164, https://anapioficeandfire.com/api/characters/167, https://anapioficeandfire.com/api/characters/168, https://anapioficeandfire.com/api/characters/170, https://anapioficeandfire.com/api/characters/173, https://anapioficeandfire.com/api/characters/177, https://anapioficeandfire.com/api/characters/179, https://anapioficeandfire.com/api/characters/180, https://anapioficeandfire.com/api/characters/181, https://anapioficeandfire.com/api/characters/182, https://anapioficeandfire.com/api/characters/183, https://anapioficeandfire.com/api/characters/187, https://anapioficeandfire.com/api/characters/188, https://anapioficeandfire.com/api/characters/189, https://anapioficeandfire.com/api/characters/190, https://anapioficeandfire.com/api/characters/192, https://anapioficeandfire.com/api/characters/194, https://anapioficeandfire.com/api/characters/199, https://anapioficeandfire.com/api/characters/200, https://anapioficeandfire.com/api/characters/202, https://anapioficeandfire.com/api/characters/203, https://anapioficeandfire.com/api/characters/204, https://anapioficeandfire.com/api/characters/206, https://anapioficeandfire.com/api/characters/207, https://anapioficeandfire.com/api/characters/209, https://anapioficeandfire.com/api/characters/210, https://anapioficeandfire.com/api/characters/211, https://anapioficeandfire.com/api/characters/212, https://anapioficeandfire.com/api/characters/213, https://anapioficeandfire.com/api/characters/214, https://anapioficeandfire.com/api/characters/216, https://anapioficeandfire.com/api/characters/217, https://anapioficeandfire.com/api/characters/218, https://anapioficeandfire.com/api/characters/219, https://anapioficeandfire.com/api/characters/220, https://anapioficeandfire.com/api/characters/222, https://anapioficeandfire.com/api/characters/223, https://anapioficeandfire.com/api/characters/225, ...]   \n",
       "2                              [https://anapioficeandfire.com/api/characters/2, https://anapioficeandfire.com/api/characters/3, https://anapioficeandfire.com/api/characters/7, https://anapioficeandfire.com/api/characters/12, https://anapioficeandfire.com/api/characters/13, https://anapioficeandfire.com/api/characters/16, https://anapioficeandfire.com/api/characters/20, https://anapioficeandfire.com/api/characters/21, https://anapioficeandfire.com/api/characters/27, https://anapioficeandfire.com/api/characters/31, https://anapioficeandfire.com/api/characters/35, https://anapioficeandfire.com/api/characters/36, https://anapioficeandfire.com/api/characters/37, https://anapioficeandfire.com/api/characters/38, https://anapioficeandfire.com/api/characters/39, https://anapioficeandfire.com/api/characters/40, https://anapioficeandfire.com/api/characters/41, https://anapioficeandfire.com/api/characters/42, https://anapioficeandfire.com/api/characters/46, https://anapioficeandfire.com/api/characters/50, https://anapioficeandfire.com/api/characters/51, https://anapioficeandfire.com/api/characters/52, https://anapioficeandfire.com/api/characters/53, https://anapioficeandfire.com/api/characters/54, https://anapioficeandfire.com/api/characters/56, https://anapioficeandfire.com/api/characters/58, https://anapioficeandfire.com/api/characters/60, https://anapioficeandfire.com/api/characters/62, https://anapioficeandfire.com/api/characters/64, https://anapioficeandfire.com/api/characters/67, https://anapioficeandfire.com/api/characters/68, https://anapioficeandfire.com/api/characters/69, https://anapioficeandfire.com/api/characters/70, https://anapioficeandfire.com/api/characters/71, https://anapioficeandfire.com/api/characters/72, https://anapioficeandfire.com/api/characters/73, https://anapioficeandfire.com/api/characters/77, https://anapioficeandfire.com/api/characters/78, https://anapioficeandfire.com/api/characters/79, https://anapioficeandfire.com/api/characters/80, https://anapioficeandfire.com/api/characters/81, https://anapioficeandfire.com/api/characters/82, https://anapioficeandfire.com/api/characters/84, https://anapioficeandfire.com/api/characters/85, https://anapioficeandfire.com/api/characters/86, https://anapioficeandfire.com/api/characters/87, https://anapioficeandfire.com/api/characters/89, https://anapioficeandfire.com/api/characters/94, https://anapioficeandfire.com/api/characters/95, https://anapioficeandfire.com/api/characters/96, https://anapioficeandfire.com/api/characters/100, https://anapioficeandfire.com/api/characters/105, https://anapioficeandfire.com/api/characters/108, https://anapioficeandfire.com/api/characters/111, https://anapioficeandfire.com/api/characters/112, https://anapioficeandfire.com/api/characters/114, https://anapioficeandfire.com/api/characters/115, https://anapioficeandfire.com/api/characters/116, https://anapioficeandfire.com/api/characters/117, https://anapioficeandfire.com/api/characters/118, https://anapioficeandfire.com/api/characters/120, https://anapioficeandfire.com/api/characters/122, https://anapioficeandfire.com/api/characters/123, https://anapioficeandfire.com/api/characters/124, https://anapioficeandfire.com/api/characters/125, https://anapioficeandfire.com/api/characters/127, https://anapioficeandfire.com/api/characters/130, https://anapioficeandfire.com/api/characters/138, https://anapioficeandfire.com/api/characters/141, https://anapioficeandfire.com/api/characters/142, https://anapioficeandfire.com/api/characters/145, https://anapioficeandfire.com/api/characters/146, https://anapioficeandfire.com/api/characters/147, https://anapioficeandfire.com/api/characters/149, https://anapioficeandfire.com/api/characters/151, https://anapioficeandfire.com/api/characters/153, https://anapioficeandfire.com/api/characters/158, https://anapioficeandfire.com/api/characters/159, https://anapioficeandfire.com/api/characters/160, https://anapioficeandfire.com/api/characters/161, https://anapioficeandfire.com/api/characters/162, https://anapioficeandfire.com/api/characters/164, https://anapioficeandfire.com/api/characters/168, https://anapioficeandfire.com/api/characters/169, https://anapioficeandfire.com/api/characters/173, https://anapioficeandfire.com/api/characters/175, https://anapioficeandfire.com/api/characters/177, https://anapioficeandfire.com/api/characters/179, https://anapioficeandfire.com/api/characters/180, https://anapioficeandfire.com/api/characters/181, https://anapioficeandfire.com/api/characters/187, https://anapioficeandfire.com/api/characters/188, https://anapioficeandfire.com/api/characters/189, https://anapioficeandfire.com/api/characters/190, https://anapioficeandfire.com/api/characters/193, https://anapioficeandfire.com/api/characters/194, https://anapioficeandfire.com/api/characters/199, https://anapioficeandfire.com/api/characters/200, https://anapioficeandfire.com/api/characters/202, https://anapioficeandfire.com/api/characters/203, ...]   \n",
       "3                                                                                                                                                                                                                                                                                                                                                                                                                                                                                                                                                                                                                                                                                                                                                                                                                                                                                                                                                                                                                                                                                                                                                                                                                                                                                                                                                                                                                                                                                                                                                                                                                                                                                                                                                                                                                                                                                                                                                                                                                                                                                                                                                                                                                                                                                                                                                                       [https://anapioficeandfire.com/api/characters/29, https://anapioficeandfire.com/api/characters/38, https://anapioficeandfire.com/api/characters/40, https://anapioficeandfire.com/api/characters/41, https://anapioficeandfire.com/api/characters/46, https://anapioficeandfire.com/api/characters/54, https://anapioficeandfire.com/api/characters/58, https://anapioficeandfire.com/api/characters/61, https://anapioficeandfire.com/api/characters/121, https://anapioficeandfire.com/api/characters/132, https://anapioficeandfire.com/api/characters/161, https://anapioficeandfire.com/api/characters/274, https://anapioficeandfire.com/api/characters/276, https://anapioficeandfire.com/api/characters/283, https://anapioficeandfire.com/api/characters/318, https://anapioficeandfire.com/api/characters/412, https://anapioficeandfire.com/api/characters/437, https://anapioficeandfire.com/api/characters/513, https://anapioficeandfire.com/api/characters/514, https://anapioficeandfire.com/api/characters/581, https://anapioficeandfire.com/api/characters/596, https://anapioficeandfire.com/api/characters/623, https://anapioficeandfire.com/api/characters/641, https://anapioficeandfire.com/api/characters/679, https://anapioficeandfire.com/api/characters/695, https://anapioficeandfire.com/api/characters/702, https://anapioficeandfire.com/api/characters/709, https://anapioficeandfire.com/api/characters/729, https://anapioficeandfire.com/api/characters/733, https://anapioficeandfire.com/api/characters/782, https://anapioficeandfire.com/api/characters/792, https://anapioficeandfire.com/api/characters/807, https://anapioficeandfire.com/api/characters/816, https://anapioficeandfire.com/api/characters/843, https://anapioficeandfire.com/api/characters/853, https://anapioficeandfire.com/api/characters/868, https://anapioficeandfire.com/api/characters/874, https://anapioficeandfire.com/api/characters/895, https://anapioficeandfire.com/api/characters/910, https://anapioficeandfire.com/api/characters/921, https://anapioficeandfire.com/api/characters/945, https://anapioficeandfire.com/api/characters/969, https://anapioficeandfire.com/api/characters/988, https://anapioficeandfire.com/api/characters/1048, https://anapioficeandfire.com/api/characters/1067, https://anapioficeandfire.com/api/characters/1117, https://anapioficeandfire.com/api/characters/1392, https://anapioficeandfire.com/api/characters/1812, https://anapioficeandfire.com/api/characters/1966, https://anapioficeandfire.com/api/characters/1976, https://anapioficeandfire.com/api/characters/1983, https://anapioficeandfire.com/api/characters/2086, https://anapioficeandfire.com/api/characters/2128, https://anapioficeandfire.com/api/characters/2130]   \n",
       "4                                            [https://anapioficeandfire.com/api/characters/1, https://anapioficeandfire.com/api/characters/2, https://anapioficeandfire.com/api/characters/4, https://anapioficeandfire.com/api/characters/5, https://anapioficeandfire.com/api/characters/6, https://anapioficeandfire.com/api/characters/9, https://anapioficeandfire.com/api/characters/10, https://anapioficeandfire.com/api/characters/11, https://anapioficeandfire.com/api/characters/12, https://anapioficeandfire.com/api/characters/14, https://anapioficeandfire.com/api/characters/15, https://anapioficeandfire.com/api/characters/16, https://anapioficeandfire.com/api/characters/17, https://anapioficeandfire.com/api/characters/18, https://anapioficeandfire.com/api/characters/19, https://anapioficeandfire.com/api/characters/21, https://anapioficeandfire.com/api/characters/22, https://anapioficeandfire.com/api/characters/24, https://anapioficeandfire.com/api/characters/25, https://anapioficeandfire.com/api/characters/26, https://anapioficeandfire.com/api/characters/27, https://anapioficeandfire.com/api/characters/28, https://anapioficeandfire.com/api/characters/31, https://anapioficeandfire.com/api/characters/34, https://anapioficeandfire.com/api/characters/36, https://anapioficeandfire.com/api/characters/37, https://anapioficeandfire.com/api/characters/38, https://anapioficeandfire.com/api/characters/39, https://anapioficeandfire.com/api/characters/42, https://anapioficeandfire.com/api/characters/46, https://anapioficeandfire.com/api/characters/47, https://anapioficeandfire.com/api/characters/52, https://anapioficeandfire.com/api/characters/53, https://anapioficeandfire.com/api/characters/54, https://anapioficeandfire.com/api/characters/56, https://anapioficeandfire.com/api/characters/62, https://anapioficeandfire.com/api/characters/63, https://anapioficeandfire.com/api/characters/66, https://anapioficeandfire.com/api/characters/67, https://anapioficeandfire.com/api/characters/68, https://anapioficeandfire.com/api/characters/69, https://anapioficeandfire.com/api/characters/70, https://anapioficeandfire.com/api/characters/71, https://anapioficeandfire.com/api/characters/73, https://anapioficeandfire.com/api/characters/74, https://anapioficeandfire.com/api/characters/77, https://anapioficeandfire.com/api/characters/79, https://anapioficeandfire.com/api/characters/81, https://anapioficeandfire.com/api/characters/82, https://anapioficeandfire.com/api/characters/84, https://anapioficeandfire.com/api/characters/85, https://anapioficeandfire.com/api/characters/86, https://anapioficeandfire.com/api/characters/87, https://anapioficeandfire.com/api/characters/88, https://anapioficeandfire.com/api/characters/89, https://anapioficeandfire.com/api/characters/91, https://anapioficeandfire.com/api/characters/92, https://anapioficeandfire.com/api/characters/94, https://anapioficeandfire.com/api/characters/95, https://anapioficeandfire.com/api/characters/96, https://anapioficeandfire.com/api/characters/99, https://anapioficeandfire.com/api/characters/100, https://anapioficeandfire.com/api/characters/102, https://anapioficeandfire.com/api/characters/103, https://anapioficeandfire.com/api/characters/106, https://anapioficeandfire.com/api/characters/108, https://anapioficeandfire.com/api/characters/111, https://anapioficeandfire.com/api/characters/112, https://anapioficeandfire.com/api/characters/114, https://anapioficeandfire.com/api/characters/115, https://anapioficeandfire.com/api/characters/116, https://anapioficeandfire.com/api/characters/117, https://anapioficeandfire.com/api/characters/118, https://anapioficeandfire.com/api/characters/122, https://anapioficeandfire.com/api/characters/123, https://anapioficeandfire.com/api/characters/124, https://anapioficeandfire.com/api/characters/125, https://anapioficeandfire.com/api/characters/131, https://anapioficeandfire.com/api/characters/134, https://anapioficeandfire.com/api/characters/135, https://anapioficeandfire.com/api/characters/138, https://anapioficeandfire.com/api/characters/141, https://anapioficeandfire.com/api/characters/142, https://anapioficeandfire.com/api/characters/145, https://anapioficeandfire.com/api/characters/146, https://anapioficeandfire.com/api/characters/147, https://anapioficeandfire.com/api/characters/153, https://anapioficeandfire.com/api/characters/158, https://anapioficeandfire.com/api/characters/159, https://anapioficeandfire.com/api/characters/160, https://anapioficeandfire.com/api/characters/162, https://anapioficeandfire.com/api/characters/163, https://anapioficeandfire.com/api/characters/164, https://anapioficeandfire.com/api/characters/166, https://anapioficeandfire.com/api/characters/168, https://anapioficeandfire.com/api/characters/169, https://anapioficeandfire.com/api/characters/172, https://anapioficeandfire.com/api/characters/173, https://anapioficeandfire.com/api/characters/174, https://anapioficeandfire.com/api/characters/175, ...]   \n",
       "\n",
       "                                                                                                                                                                                                                                                                                                                                                                                                                                                                                                                                                                                                                  povCharacters  \n",
       "0                                                                                                                                                         [https://anapioficeandfire.com/api/characters/148, https://anapioficeandfire.com/api/characters/208, https://anapioficeandfire.com/api/characters/232, https://anapioficeandfire.com/api/characters/339, https://anapioficeandfire.com/api/characters/583, https://anapioficeandfire.com/api/characters/957, https://anapioficeandfire.com/api/characters/1052, https://anapioficeandfire.com/api/characters/1109, https://anapioficeandfire.com/api/characters/1303]  \n",
       "1                                                                                                     [https://anapioficeandfire.com/api/characters/148, https://anapioficeandfire.com/api/characters/208, https://anapioficeandfire.com/api/characters/232, https://anapioficeandfire.com/api/characters/583, https://anapioficeandfire.com/api/characters/957, https://anapioficeandfire.com/api/characters/1022, https://anapioficeandfire.com/api/characters/1052, https://anapioficeandfire.com/api/characters/1295, https://anapioficeandfire.com/api/characters/1303, https://anapioficeandfire.com/api/characters/1319]  \n",
       "2  [https://anapioficeandfire.com/api/characters/148, https://anapioficeandfire.com/api/characters/208, https://anapioficeandfire.com/api/characters/232, https://anapioficeandfire.com/api/characters/529, https://anapioficeandfire.com/api/characters/583, https://anapioficeandfire.com/api/characters/751, https://anapioficeandfire.com/api/characters/954, https://anapioficeandfire.com/api/characters/957, https://anapioficeandfire.com/api/characters/1052, https://anapioficeandfire.com/api/characters/1267, https://anapioficeandfire.com/api/characters/1303, https://anapioficeandfire.com/api/characters/1319]  \n",
       "3                                                                                                                                                                                                                                                                                                                                                                                                                                                                                                                                                                            [https://anapioficeandfire.com/api/characters/329]  \n",
       "4     [https://anapioficeandfire.com/api/characters/60, https://anapioficeandfire.com/api/characters/130, https://anapioficeandfire.com/api/characters/148, https://anapioficeandfire.com/api/characters/149, https://anapioficeandfire.com/api/characters/150, https://anapioficeandfire.com/api/characters/216, https://anapioficeandfire.com/api/characters/238, https://anapioficeandfire.com/api/characters/529, https://anapioficeandfire.com/api/characters/954, https://anapioficeandfire.com/api/characters/957, https://anapioficeandfire.com/api/characters/1074, https://anapioficeandfire.com/api/characters/1166]  "
      ]
     },
     "execution_count": 28,
     "metadata": {},
     "output_type": "execute_result"
    }
   ],
   "source": [
    "book_data.head()"
   ]
  },
  {
   "cell_type": "markdown",
   "id": "c58fa997",
   "metadata": {},
   "source": [
    "### How many books can be accessed from this API?"
   ]
  },
  {
   "cell_type": "code",
   "execution_count": 18,
   "id": "bd7a09de",
   "metadata": {},
   "outputs": [
    {
     "data": {
      "text/plain": [
       "10"
      ]
     },
     "execution_count": 18,
     "metadata": {},
     "output_type": "execute_result"
    }
   ],
   "source": [
    "len(book_data)"
   ]
  },
  {
   "cell_type": "code",
   "execution_count": 19,
   "id": "e509a9f8",
   "metadata": {},
   "outputs": [],
   "source": [
    "character_url = \"https://anapioficeandfire.com/api/characters\"\n",
    "character = requests.get(character_url)"
   ]
  },
  {
   "cell_type": "code",
   "execution_count": 20,
   "id": "2c68479c",
   "metadata": {},
   "outputs": [
    {
     "data": {
      "text/plain": [
       "200"
      ]
     },
     "execution_count": 20,
     "metadata": {},
     "output_type": "execute_result"
    }
   ],
   "source": [
    "character.status_code"
   ]
  },
  {
   "cell_type": "code",
   "execution_count": 29,
   "id": "c0988408",
   "metadata": {},
   "outputs": [],
   "source": [
    " # character.json()"
   ]
  },
  {
   "cell_type": "code",
   "execution_count": 30,
   "id": "f901ebc2",
   "metadata": {},
   "outputs": [],
   "source": [
    "character_data = pd.DataFrame(character.json())"
   ]
  },
  {
   "cell_type": "code",
   "execution_count": 31,
   "id": "db4b1308",
   "metadata": {},
   "outputs": [
    {
     "data": {
      "text/html": [
       "<div>\n",
       "<style scoped>\n",
       "    .dataframe tbody tr th:only-of-type {\n",
       "        vertical-align: middle;\n",
       "    }\n",
       "\n",
       "    .dataframe tbody tr th {\n",
       "        vertical-align: top;\n",
       "    }\n",
       "\n",
       "    .dataframe thead th {\n",
       "        text-align: right;\n",
       "    }\n",
       "</style>\n",
       "<table border=\"1\" class=\"dataframe\">\n",
       "  <thead>\n",
       "    <tr style=\"text-align: right;\">\n",
       "      <th></th>\n",
       "      <th>url</th>\n",
       "      <th>name</th>\n",
       "      <th>gender</th>\n",
       "      <th>culture</th>\n",
       "      <th>born</th>\n",
       "      <th>died</th>\n",
       "      <th>titles</th>\n",
       "      <th>aliases</th>\n",
       "      <th>father</th>\n",
       "      <th>mother</th>\n",
       "      <th>spouse</th>\n",
       "      <th>allegiances</th>\n",
       "      <th>books</th>\n",
       "      <th>povBooks</th>\n",
       "      <th>tvSeries</th>\n",
       "      <th>playedBy</th>\n",
       "    </tr>\n",
       "  </thead>\n",
       "  <tbody>\n",
       "    <tr>\n",
       "      <th>0</th>\n",
       "      <td>https://anapioficeandfire.com/api/characters/1</td>\n",
       "      <td></td>\n",
       "      <td>Female</td>\n",
       "      <td>Braavosi</td>\n",
       "      <td></td>\n",
       "      <td></td>\n",
       "      <td>[]</td>\n",
       "      <td>[The Daughter of the Dusk]</td>\n",
       "      <td></td>\n",
       "      <td></td>\n",
       "      <td></td>\n",
       "      <td>[]</td>\n",
       "      <td>[https://anapioficeandfire.com/api/books/5]</td>\n",
       "      <td>[]</td>\n",
       "      <td>[]</td>\n",
       "      <td>[]</td>\n",
       "    </tr>\n",
       "    <tr>\n",
       "      <th>1</th>\n",
       "      <td>https://anapioficeandfire.com/api/characters/2</td>\n",
       "      <td>Walder</td>\n",
       "      <td>Male</td>\n",
       "      <td></td>\n",
       "      <td></td>\n",
       "      <td></td>\n",
       "      <td>[]</td>\n",
       "      <td>[Hodor]</td>\n",
       "      <td></td>\n",
       "      <td></td>\n",
       "      <td></td>\n",
       "      <td>[https://anapioficeandfire.com/api/houses/362]</td>\n",
       "      <td>[https://anapioficeandfire.com/api/books/1, https://anapioficeandfire.com/api/books/2, https://anapioficeandfire.com/api/books/3, https://anapioficeandfire.com/api/books/5, https://anapioficeandfire.com/api/books/8]</td>\n",
       "      <td>[]</td>\n",
       "      <td>[Season 1, Season 2, Season 3, Season 4, Season 6]</td>\n",
       "      <td>[Kristian Nairn]</td>\n",
       "    </tr>\n",
       "    <tr>\n",
       "      <th>2</th>\n",
       "      <td>https://anapioficeandfire.com/api/characters/3</td>\n",
       "      <td></td>\n",
       "      <td>Male</td>\n",
       "      <td></td>\n",
       "      <td></td>\n",
       "      <td></td>\n",
       "      <td>[]</td>\n",
       "      <td>[Lamprey]</td>\n",
       "      <td></td>\n",
       "      <td></td>\n",
       "      <td></td>\n",
       "      <td>[https://anapioficeandfire.com/api/houses/15]</td>\n",
       "      <td>[https://anapioficeandfire.com/api/books/3]</td>\n",
       "      <td>[]</td>\n",
       "      <td>[]</td>\n",
       "      <td>[]</td>\n",
       "    </tr>\n",
       "    <tr>\n",
       "      <th>3</th>\n",
       "      <td>https://anapioficeandfire.com/api/characters/4</td>\n",
       "      <td></td>\n",
       "      <td>Female</td>\n",
       "      <td>Braavosi</td>\n",
       "      <td></td>\n",
       "      <td></td>\n",
       "      <td>[]</td>\n",
       "      <td>[The Merling Queen]</td>\n",
       "      <td></td>\n",
       "      <td></td>\n",
       "      <td></td>\n",
       "      <td>[]</td>\n",
       "      <td>[https://anapioficeandfire.com/api/books/5, https://anapioficeandfire.com/api/books/8]</td>\n",
       "      <td>[]</td>\n",
       "      <td>[]</td>\n",
       "      <td>[]</td>\n",
       "    </tr>\n",
       "    <tr>\n",
       "      <th>4</th>\n",
       "      <td>https://anapioficeandfire.com/api/characters/5</td>\n",
       "      <td></td>\n",
       "      <td>Male</td>\n",
       "      <td></td>\n",
       "      <td></td>\n",
       "      <td></td>\n",
       "      <td>[]</td>\n",
       "      <td>[Old Crackbones]</td>\n",
       "      <td></td>\n",
       "      <td></td>\n",
       "      <td></td>\n",
       "      <td>[]</td>\n",
       "      <td>[https://anapioficeandfire.com/api/books/5]</td>\n",
       "      <td>[]</td>\n",
       "      <td>[]</td>\n",
       "      <td>[]</td>\n",
       "    </tr>\n",
       "  </tbody>\n",
       "</table>\n",
       "</div>"
      ],
      "text/plain": [
       "                                              url    name  gender   culture  \\\n",
       "0  https://anapioficeandfire.com/api/characters/1          Female  Braavosi   \n",
       "1  https://anapioficeandfire.com/api/characters/2  Walder    Male             \n",
       "2  https://anapioficeandfire.com/api/characters/3            Male             \n",
       "3  https://anapioficeandfire.com/api/characters/4          Female  Braavosi   \n",
       "4  https://anapioficeandfire.com/api/characters/5            Male             \n",
       "\n",
       "  born died titles                     aliases father mother spouse  \\\n",
       "0               []  [The Daughter of the Dusk]                        \n",
       "1               []                     [Hodor]                        \n",
       "2               []                   [Lamprey]                        \n",
       "3               []         [The Merling Queen]                        \n",
       "4               []            [Old Crackbones]                        \n",
       "\n",
       "                                      allegiances  \\\n",
       "0                                              []   \n",
       "1  [https://anapioficeandfire.com/api/houses/362]   \n",
       "2   [https://anapioficeandfire.com/api/houses/15]   \n",
       "3                                              []   \n",
       "4                                              []   \n",
       "\n",
       "                                                                                                                                                                                                                     books  \\\n",
       "0                                                                                                                                                                              [https://anapioficeandfire.com/api/books/5]   \n",
       "1  [https://anapioficeandfire.com/api/books/1, https://anapioficeandfire.com/api/books/2, https://anapioficeandfire.com/api/books/3, https://anapioficeandfire.com/api/books/5, https://anapioficeandfire.com/api/books/8]   \n",
       "2                                                                                                                                                                              [https://anapioficeandfire.com/api/books/3]   \n",
       "3                                                                                                                                   [https://anapioficeandfire.com/api/books/5, https://anapioficeandfire.com/api/books/8]   \n",
       "4                                                                                                                                                                              [https://anapioficeandfire.com/api/books/5]   \n",
       "\n",
       "  povBooks                                            tvSeries  \\\n",
       "0       []                                                  []   \n",
       "1       []  [Season 1, Season 2, Season 3, Season 4, Season 6]   \n",
       "2       []                                                  []   \n",
       "3       []                                                  []   \n",
       "4       []                                                  []   \n",
       "\n",
       "           playedBy  \n",
       "0                []  \n",
       "1  [Kristian Nairn]  \n",
       "2                []  \n",
       "3                []  \n",
       "4                []  "
      ]
     },
     "execution_count": 31,
     "metadata": {},
     "output_type": "execute_result"
    }
   ],
   "source": [
    "character_data.head()"
   ]
  },
  {
   "cell_type": "markdown",
   "id": "e0276c61",
   "metadata": {},
   "source": [
    "## How many males, females and unknown genders are there in the first 40 "
   ]
  },
  {
   "cell_type": "code",
   "execution_count": 24,
   "id": "d732c2f4",
   "metadata": {},
   "outputs": [],
   "source": [
    "def get_character_genders():\n",
    "    url = \"http://anapioficeandfire.com/api/characters/?page=1&pageSize=40\"\n",
    "    response = requests.get(url)\n",
    "    data = response.json()\n",
    "    genders = [char['gender'] for char in data[1:]]\n",
    "    counts = pd.Series(genders).value_counts()\n",
    "    return counts"
   ]
  },
  {
   "cell_type": "code",
   "execution_count": 25,
   "id": "ba1e4889",
   "metadata": {},
   "outputs": [
    {
     "name": "stdout",
     "output_type": "stream",
     "text": [
      "Male      26\n",
      "Female    13\n",
      "dtype: int64\n"
     ]
    }
   ],
   "source": [
    "counts = get_character_genders()\n",
    "print(counts)"
   ]
  },
  {
   "cell_type": "code",
   "execution_count": null,
   "id": "053210db",
   "metadata": {},
   "outputs": [],
   "source": []
  }
 ],
 "metadata": {
  "kernelspec": {
   "display_name": "Python 3 (ipykernel)",
   "language": "python",
   "name": "python3"
  },
  "language_info": {
   "codemirror_mode": {
    "name": "ipython",
    "version": 3
   },
   "file_extension": ".py",
   "mimetype": "text/x-python",
   "name": "python",
   "nbconvert_exporter": "python",
   "pygments_lexer": "ipython3",
   "version": "3.9.13"
  }
 },
 "nbformat": 4,
 "nbformat_minor": 5
}
