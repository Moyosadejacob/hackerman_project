{
 "cells": [
  {
   "cell_type": "markdown",
   "id": "1cd0f26e",
   "metadata": {},
   "source": [
    "<div style = \"text-align: left\"><font size = 6 color = \"#00008B\" face = \"verdana\"><b>Datahackerman Final Project</b></font></div>\n",
    "<div style = \"text-align: leftt\"><font><i>By 'Moyosade Jacob</i></font></div>\n",
    "<div style = \"text-align: leftt\"><font>7th April 2023</font></div>"
   ]
  },
  {
   "cell_type": "code",
   "execution_count": 5,
   "id": "8d10b3b5",
   "metadata": {},
   "outputs": [
    {
     "data": {
      "text/html": [
       "<style>.container { width:100% !important; }</style>"
      ],
      "text/plain": [
       "<IPython.core.display.HTML object>"
      ]
     },
     "metadata": {},
     "output_type": "display_data"
    }
   ],
   "source": [
    "import pandas as pd\n",
    "import os\n",
    "import requests\n",
    "import json\n",
    "pd.set_option(\"display.max_columns\", None)\n",
    "pd.set_option(\"display.max_rows\", None)\n",
    "pd.options.display.max_colwidth = None\n",
    "pd.set_option(\"display.float_format\", lambda x: '%.2f' % x)\n",
    "\n",
    "from IPython.display import display, HTML\n",
    "display(HTML(\"<style>.container { width:100% !important; }</style>\"))"
   ]
  },
  {
   "cell_type": "code",
   "execution_count": 15,
   "id": "97e6566c",
   "metadata": {},
   "outputs": [],
   "source": [
    "# Main working folder\n",
    "main_folder = os.getcwd()"
   ]
  },
  {
   "cell_type": "code",
   "execution_count": 16,
   "id": "be96710b",
   "metadata": {},
   "outputs": [],
   "source": [
    "# main Data folder \n",
    "data_folder = \"data\""
   ]
  },
  {
   "cell_type": "code",
   "execution_count": 17,
   "id": "9b73d3b7",
   "metadata": {},
   "outputs": [],
   "source": [
    "# Combining the paths\n",
    "main_path = os.path.join(main_folder, data_folder)"
   ]
  },
  {
   "cell_type": "code",
   "execution_count": 18,
   "id": "e73ea33a",
   "metadata": {},
   "outputs": [],
   "source": [
    "# Getting the data list\n",
    "files_list = os.listdir(main_path)"
   ]
  },
  {
   "cell_type": "code",
   "execution_count": 19,
   "id": "b2f66419",
   "metadata": {},
   "outputs": [
    {
     "data": {
      "text/plain": [
       "['csv_file.csv', 'json_file.json', 'txt_file.txt']"
      ]
     },
     "execution_count": 19,
     "metadata": {},
     "output_type": "execute_result"
    }
   ],
   "source": [
    "files_list"
   ]
  },
  {
   "cell_type": "code",
   "execution_count": 21,
   "id": "92175859",
   "metadata": {},
   "outputs": [],
   "source": [
    "# Reading csv data file\n",
    "csv_data = pd.read_csv(os.path.join(main_path, files_list[0]))"
   ]
  },
  {
   "cell_type": "code",
   "execution_count": 20,
   "id": "bef54b29",
   "metadata": {},
   "outputs": [
    {
     "data": {
      "text/html": [
       "<div>\n",
       "<style scoped>\n",
       "    .dataframe tbody tr th:only-of-type {\n",
       "        vertical-align: middle;\n",
       "    }\n",
       "\n",
       "    .dataframe tbody tr th {\n",
       "        vertical-align: top;\n",
       "    }\n",
       "\n",
       "    .dataframe thead th {\n",
       "        text-align: right;\n",
       "    }\n",
       "</style>\n",
       "<table border=\"1\" class=\"dataframe\">\n",
       "  <thead>\n",
       "    <tr style=\"text-align: right;\">\n",
       "      <th></th>\n",
       "      <th>author.properties.friends</th>\n",
       "      <th>author.properties.status_count</th>\n",
       "      <th>author.properties.verified</th>\n",
       "      <th>content.body</th>\n",
       "      <th>location.country</th>\n",
       "      <th>properties.platform</th>\n",
       "      <th>properties.sentiment</th>\n",
       "      <th>location.latitude</th>\n",
       "      <th>location.longitude</th>\n",
       "    </tr>\n",
       "  </thead>\n",
       "  <tbody>\n",
       "    <tr>\n",
       "      <th>0</th>\n",
       "      <td>1689</td>\n",
       "      <td>22566</td>\n",
       "      <td>False</td>\n",
       "      <td>Can't believe I'm missing Love Island 😩</td>\n",
       "      <td>GB</td>\n",
       "      <td>twitter</td>\n",
       "      <td>1</td>\n",
       "      <td>51.57</td>\n",
       "      <td>0.46</td>\n",
       "    </tr>\n",
       "  </tbody>\n",
       "</table>\n",
       "</div>"
      ],
      "text/plain": [
       "   author.properties.friends  author.properties.status_count  \\\n",
       "0                       1689                           22566   \n",
       "\n",
       "   author.properties.verified                             content.body  \\\n",
       "0                       False  Can't believe I'm missing Love Island 😩   \n",
       "\n",
       "  location.country properties.platform  properties.sentiment  \\\n",
       "0               GB             twitter                     1   \n",
       "\n",
       "   location.latitude  location.longitude  \n",
       "0              51.57                0.46  "
      ]
     },
     "execution_count": 20,
     "metadata": {},
     "output_type": "execute_result"
    }
   ],
   "source": [
    "csv_data.head(1)"
   ]
  },
  {
   "cell_type": "code",
   "execution_count": 22,
   "id": "3753f319",
   "metadata": {},
   "outputs": [],
   "source": [
    "# Reading in text data file\n",
    "text_data = pd.read_csv(os.path.join(main_path, files_list[2]), sep=',', header=0)"
   ]
  },
  {
   "cell_type": "code",
   "execution_count": 23,
   "id": "6b63d95b",
   "metadata": {},
   "outputs": [
    {
     "data": {
      "text/html": [
       "<div>\n",
       "<style scoped>\n",
       "    .dataframe tbody tr th:only-of-type {\n",
       "        vertical-align: middle;\n",
       "    }\n",
       "\n",
       "    .dataframe tbody tr th {\n",
       "        vertical-align: top;\n",
       "    }\n",
       "\n",
       "    .dataframe thead th {\n",
       "        text-align: right;\n",
       "    }\n",
       "</style>\n",
       "<table border=\"1\" class=\"dataframe\">\n",
       "  <thead>\n",
       "    <tr style=\"text-align: right;\">\n",
       "      <th></th>\n",
       "      <th>author.properties.friends</th>\n",
       "      <th>author.properties.verified</th>\n",
       "      <th>location.longitude</th>\n",
       "      <th>author.properties.status_count</th>\n",
       "      <th>properties.sentiment</th>\n",
       "      <th>location.latitude</th>\n",
       "      <th>location.country</th>\n",
       "      <th>content.body</th>\n",
       "      <th>properties.platform</th>\n",
       "    </tr>\n",
       "  </thead>\n",
       "  <tbody>\n",
       "    <tr>\n",
       "      <th>0</th>\n",
       "      <td>632</td>\n",
       "      <td>False</td>\n",
       "      <td>-2.32</td>\n",
       "      <td>106490.00</td>\n",
       "      <td>0.00</td>\n",
       "      <td>52.12</td>\n",
       "      <td>GB</td>\n",
       "      <td>@moel_bryn https://t.co/qvz1bI2Utb</td>\n",
       "      <td>twitter</td>\n",
       "    </tr>\n",
       "  </tbody>\n",
       "</table>\n",
       "</div>"
      ],
      "text/plain": [
       "  author.properties.friends author.properties.verified  location.longitude  \\\n",
       "0                       632                      False               -2.32   \n",
       "\n",
       "   author.properties.status_count  properties.sentiment  location.latitude  \\\n",
       "0                       106490.00                  0.00              52.12   \n",
       "\n",
       "  location.country                        content.body properties.platform  \n",
       "0               GB  @moel_bryn https://t.co/qvz1bI2Utb             twitter  "
      ]
     },
     "execution_count": 23,
     "metadata": {},
     "output_type": "execute_result"
    }
   ],
   "source": [
    "text_data.head(1)"
   ]
  },
  {
   "cell_type": "code",
   "execution_count": 25,
   "id": "5c99415a",
   "metadata": {},
   "outputs": [],
   "source": [
    "# Reading json data file\n",
    "json_data = pd.read_json(os.path.join(main_path, files_list[1]))"
   ]
  },
  {
   "cell_type": "code",
   "execution_count": 26,
   "id": "0a7741c3",
   "metadata": {},
   "outputs": [
    {
     "data": {
      "text/html": [
       "<div>\n",
       "<style scoped>\n",
       "    .dataframe tbody tr th:only-of-type {\n",
       "        vertical-align: middle;\n",
       "    }\n",
       "\n",
       "    .dataframe tbody tr th {\n",
       "        vertical-align: top;\n",
       "    }\n",
       "\n",
       "    .dataframe thead th {\n",
       "        text-align: right;\n",
       "    }\n",
       "</style>\n",
       "<table border=\"1\" class=\"dataframe\">\n",
       "  <thead>\n",
       "    <tr style=\"text-align: right;\">\n",
       "      <th></th>\n",
       "      <th>author</th>\n",
       "      <th>location</th>\n",
       "      <th>content</th>\n",
       "      <th>properties</th>\n",
       "    </tr>\n",
       "  </thead>\n",
       "  <tbody>\n",
       "    <tr>\n",
       "      <th>0</th>\n",
       "      <td>{'properties': {'friends': 150, 'verified': False, 'status_count': 583}}</td>\n",
       "      <td>{'longitude': -1.4496120000000001, 'country': 'GB', 'latitude': 53.38322877572023}</td>\n",
       "      <td>{'body': 'To everyone tryin to snapchat me fuck off I'm ugly'}</td>\n",
       "      <td>{'sentiment': -1, 'platform': 'twitter'}</td>\n",
       "    </tr>\n",
       "    <tr>\n",
       "      <th>1</th>\n",
       "      <td>{'properties': {'friends': 1321, 'verified': False, 'status_count': 86271}}</td>\n",
       "      <td>{'longitude': -4.200440999999999, 'country': 'GB', 'latitude': 57.786631183916356}</td>\n",
       "      <td>{'body': '@cammiescott have you ever been to Scotland? You should give Nessie a wee visit! (I live near her) #askcamscott'}</td>\n",
       "      <td>{'sentiment': -1, 'platform': 'twitter'}</td>\n",
       "    </tr>\n",
       "    <tr>\n",
       "      <th>2</th>\n",
       "      <td>{'properties': {'friends': 1952, 'verified': False, 'status_count': 11785}}</td>\n",
       "      <td>{'longitude': -0.0706035, 'country': 'GB', 'latitude': 51.46469310439313}</td>\n",
       "      <td>{'body': '#LoveIsland #zaraholland 😭😭😭😭 https://t.co/LUpQvshkm3'}</td>\n",
       "      <td>{'sentiment': -1, 'platform': 'twitter'}</td>\n",
       "    </tr>\n",
       "    <tr>\n",
       "      <th>3</th>\n",
       "      <td>{'properties': {'friends': 629, 'verified': False, 'status_count': 22813}}</td>\n",
       "      <td>{'longitude': -0.17311500000000002, 'country': 'GB', 'latitude': 51.5248433429905}</td>\n",
       "      <td>{'body': '😴'}</td>\n",
       "      <td>{'sentiment': 0, 'platform': 'twitter'}</td>\n",
       "    </tr>\n",
       "    <tr>\n",
       "      <th>4</th>\n",
       "      <td>{'properties': {'friends': 509, 'verified': False, 'status_count': 8740}}</td>\n",
       "      <td>{'longitude': -2.6693795, 'country': 'GB', 'latitude': 53.46992093633473}</td>\n",
       "      <td>{'body': '@sickkening Yep you're also that xx'}</td>\n",
       "      <td>{'sentiment': 1, 'platform': 'twitter'}</td>\n",
       "    </tr>\n",
       "  </tbody>\n",
       "</table>\n",
       "</div>"
      ],
      "text/plain": [
       "                                                                        author  \\\n",
       "0     {'properties': {'friends': 150, 'verified': False, 'status_count': 583}}   \n",
       "1  {'properties': {'friends': 1321, 'verified': False, 'status_count': 86271}}   \n",
       "2  {'properties': {'friends': 1952, 'verified': False, 'status_count': 11785}}   \n",
       "3   {'properties': {'friends': 629, 'verified': False, 'status_count': 22813}}   \n",
       "4    {'properties': {'friends': 509, 'verified': False, 'status_count': 8740}}   \n",
       "\n",
       "                                                                             location  \\\n",
       "0  {'longitude': -1.4496120000000001, 'country': 'GB', 'latitude': 53.38322877572023}   \n",
       "1  {'longitude': -4.200440999999999, 'country': 'GB', 'latitude': 57.786631183916356}   \n",
       "2           {'longitude': -0.0706035, 'country': 'GB', 'latitude': 51.46469310439313}   \n",
       "3  {'longitude': -0.17311500000000002, 'country': 'GB', 'latitude': 51.5248433429905}   \n",
       "4           {'longitude': -2.6693795, 'country': 'GB', 'latitude': 53.46992093633473}   \n",
       "\n",
       "                                                                                                                       content  \\\n",
       "0                                                               {'body': 'To everyone tryin to snapchat me fuck off I'm ugly'}   \n",
       "1  {'body': '@cammiescott have you ever been to Scotland? You should give Nessie a wee visit! (I live near her) #askcamscott'}   \n",
       "2                                                            {'body': '#LoveIsland #zaraholland 😭😭😭😭 https://t.co/LUpQvshkm3'}   \n",
       "3                                                                                                                {'body': '😴'}   \n",
       "4                                                                              {'body': '@sickkening Yep you're also that xx'}   \n",
       "\n",
       "                                 properties  \n",
       "0  {'sentiment': -1, 'platform': 'twitter'}  \n",
       "1  {'sentiment': -1, 'platform': 'twitter'}  \n",
       "2  {'sentiment': -1, 'platform': 'twitter'}  \n",
       "3   {'sentiment': 0, 'platform': 'twitter'}  \n",
       "4   {'sentiment': 1, 'platform': 'twitter'}  "
      ]
     },
     "execution_count": 26,
     "metadata": {},
     "output_type": "execute_result"
    }
   ],
   "source": [
    "json_data.head()"
   ]
  },
  {
   "cell_type": "code",
   "execution_count": null,
   "id": "bf453bdf",
   "metadata": {},
   "outputs": [],
   "source": []
  }
 ],
 "metadata": {
  "kernelspec": {
   "display_name": "Python 3 (ipykernel)",
   "language": "python",
   "name": "python3"
  },
  "language_info": {
   "codemirror_mode": {
    "name": "ipython",
    "version": 3
   },
   "file_extension": ".py",
   "mimetype": "text/x-python",
   "name": "python",
   "nbconvert_exporter": "python",
   "pygments_lexer": "ipython3",
   "version": "3.9.13"
  }
 },
 "nbformat": 4,
 "nbformat_minor": 5
}
